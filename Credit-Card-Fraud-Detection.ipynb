{
 "cells": [
  {
   "cell_type": "markdown",
   "metadata": {},
   "source": [
    "## Contents "
   ]
  },
  {
   "cell_type": "markdown",
   "metadata": {},
   "source": [
    "1. [Introduction](#10)<br>\n",
    "2. [Load Packages](#20)<br>\n",
    "    A. [Import](#21)<br>\n",
    "    B. [Setup](#22)<br>\n",
    "    C. [Version](#233)<br>\n",
    "3. [Problem Definition](#30)<br>\n",
    "    A. [Variables](#311)<br>\n",
    "4. [Exploratory Data Analysis(EDA)](#40) </b><br>\n",
    "    A. [Data Collection](#411)<br>\n",
    "    B. [Data Visualization](#420)<br>\n",
    "    B.1 [Univariate Visualization](#4211)<br>\n",
    "    B.2 [Multivariate Visualization](#4222)<br>\n",
    "    C. [Data Preprocessing](#430)<br> \n",
    "    C.1[Model Resampling](#431)<br>\n",
    "    C.2[Feature Importance](#432)<br>\n",
    "    C.3[Normalize Data](#433)<br>\n",
    "5. [Model developement](#5)<br>\n",
    "    A. [XGBoost](#51)<br>\n",
    "    B. [PCA](#52)<br>\n",
    "    C. [GridSeachCV](#53)<br>\n",
    "    D. [RandomForestClassifer](#54)<br>  \n",
    "    E. [AdaboostClassifier](#55)<br>\n",
    "    F. [CatboostClassifier](#56)<br>\n",
    "    G. [Keras](#57)<br>\n",
    "6. [References](#7)<br>"
   ]
  },
  {
   "cell_type": "markdown",
   "metadata": {},
   "source": [
    "<a id=\"10\"></a>\n",
    "### 1. Introduction"
   ]
  },
  {
   "cell_type": "markdown",
   "metadata": {},
   "source": [
    "It is important that credit card companies are able to recognize fraudulent credit card transactions so that customers are not charged for items that they did not purchase.<br>\n",
    "In this challange our goal is to identify fraudulent credit card transactions based on the provided dataset."
   ]
  },
  {
   "cell_type": "markdown",
   "metadata": {},
   "source": [
    "<a id=\"20\"></a>\n",
    "### 2. Load Packages"
   ]
  },
  {
   "cell_type": "markdown",
   "metadata": {},
   "source": [
    "<a id=\"21\"></a>\n",
    "##### A. Import"
   ]
  },
  {
   "cell_type": "code",
   "execution_count": 2,
   "metadata": {},
   "outputs": [
    {
     "name": "stderr",
     "output_type": "stream",
     "text": [
      "C:\\ProgramData\\Anaconda3\\lib\\site-packages\\tensorflow\\python\\framework\\dtypes.py:526: FutureWarning: Passing (type, 1) or '1type' as a synonym of type is deprecated; in a future version of numpy, it will be understood as (type, (1,)) / '(1,)type'.\n",
      "  _np_qint8 = np.dtype([(\"qint8\", np.int8, 1)])\n",
      "C:\\ProgramData\\Anaconda3\\lib\\site-packages\\tensorflow\\python\\framework\\dtypes.py:527: FutureWarning: Passing (type, 1) or '1type' as a synonym of type is deprecated; in a future version of numpy, it will be understood as (type, (1,)) / '(1,)type'.\n",
      "  _np_quint8 = np.dtype([(\"quint8\", np.uint8, 1)])\n",
      "C:\\ProgramData\\Anaconda3\\lib\\site-packages\\tensorflow\\python\\framework\\dtypes.py:528: FutureWarning: Passing (type, 1) or '1type' as a synonym of type is deprecated; in a future version of numpy, it will be understood as (type, (1,)) / '(1,)type'.\n",
      "  _np_qint16 = np.dtype([(\"qint16\", np.int16, 1)])\n",
      "C:\\ProgramData\\Anaconda3\\lib\\site-packages\\tensorflow\\python\\framework\\dtypes.py:529: FutureWarning: Passing (type, 1) or '1type' as a synonym of type is deprecated; in a future version of numpy, it will be understood as (type, (1,)) / '(1,)type'.\n",
      "  _np_quint16 = np.dtype([(\"quint16\", np.uint16, 1)])\n",
      "C:\\ProgramData\\Anaconda3\\lib\\site-packages\\tensorflow\\python\\framework\\dtypes.py:530: FutureWarning: Passing (type, 1) or '1type' as a synonym of type is deprecated; in a future version of numpy, it will be understood as (type, (1,)) / '(1,)type'.\n",
      "  _np_qint32 = np.dtype([(\"qint32\", np.int32, 1)])\n",
      "C:\\ProgramData\\Anaconda3\\lib\\site-packages\\tensorflow\\python\\framework\\dtypes.py:535: FutureWarning: Passing (type, 1) or '1type' as a synonym of type is deprecated; in a future version of numpy, it will be understood as (type, (1,)) / '(1,)type'.\n",
      "  np_resource = np.dtype([(\"resource\", np.ubyte, 1)])\n",
      "Using TensorFlow backend.\n"
     ]
    }
   ],
   "source": [
    "#important libraries\n",
    "import numpy as np \n",
    "import pandas as pd \n",
    "import tensorflow as tf\n",
    "import matplotlib.pyplot as plt\n",
    "import seaborn as sns\n",
    "from sklearn.manifold import TSNE\n",
    "import matplotlib.gridspec as gridspec\n",
    "from sklearn.decomposition import PCA, TruncatedSVD\n",
    "import matplotlib.patches as mpatches\n",
    "import geopandas as gpd\n",
    "import re\n",
    "\n",
    "#classifier libraries\n",
    "from sklearn.linear_model import LogisticRegression\n",
    "from sklearn.svm import SVC\n",
    "from sklearn.neighbors import KNeighborsClassifier\n",
    "from sklearn.tree import DecisionTreeClassifier\n",
    "from sklearn.ensemble import RandomForestClassifier\n",
    "from sklearn.ensemble import AdaBoostClassifier\n",
    "from catboost import CatBoostClassifier\n",
    "from lightgbm import LGBMClassifier\n",
    "import lightgbm as lgb\n",
    "import xgboost as xgb\n",
    "import collections\n",
    "\n",
    "\n",
    "#other important libraries\n",
    "from sklearn.impute import SimpleImputer\n",
    "from sklearn.preprocessing import OneHotEncoder\n",
    "from sklearn.model_selection import train_test_split\n",
    "from sklearn.pipeline import Pipeline\n",
    "from imblearn.pipeline import make_pipeline\n",
    "from imblearn.pipeline import make_pipeline as imbalanced_make_pipeline\n",
    "from imblearn.over_sampling import SMOTE\n",
    "from imblearn.under_sampling import NearMiss\n",
    "from imblearn.metrics import classification_report_imbalanced\n",
    "from sklearn.metrics import accuracy_score,classification_report, f1_score, roc_auc_score, recall_score, precision_score\n",
    "from collections import Counter\n",
    "from sklearn.model_selection import KFold, StratifiedKFold\n",
    "import sys\n",
    "import warnings\n",
    "warnings.filterwarnings('ignore');"
   ]
  },
  {
   "cell_type": "markdown",
   "metadata": {},
   "source": [
    "<a id='22'></a>\n",
    "##### B. Setup"
   ]
  },
  {
   "cell_type": "code",
   "execution_count": 3,
   "metadata": {},
   "outputs": [],
   "source": [
    "#train_validation_test split\n",
    "valid_size = 0.20 #simple validation using train_test_split\n",
    "test_size = 0.20 #simple test using train_test_split\n",
    "\n",
    "#cross_validation\n",
    "num_kfold = 5 #number of kfold for cross validation\n",
    "\n",
    "\n",
    "random_state = 42\n",
    "\n",
    "\n",
    "max_rounds = 1000 #lgb iterations\n",
    "early_stop = 50 #lgb early stop\n",
    "opt_round = 1000 #to be adjusted based on best validation rounds\n",
    "verbose_eval = 50 #print out metric result"
   ]
  },
  {
   "cell_type": "markdown",
   "metadata": {},
   "source": [
    "<a id=\"233\"></a>\n",
    "##### C. Version"
   ]
  },
  {
   "cell_type": "code",
   "execution_count": 4,
   "metadata": {},
   "outputs": [
    {
     "name": "stdout",
     "output_type": "stream",
     "text": [
      "Pandas: 1.0.3\n",
      "Numpy: 1.17.0\n",
      "Python: 3.7.1 | packaged by conda-forge | (default, Mar 13 2019, 13:32:59) [MSC v.1900 64 bit (AMD64)]\n"
     ]
    }
   ],
   "source": [
    "print('Pandas: {}'.format(pd.__version__))\n",
    "print('Numpy: {}'.format(np.__version__))\n",
    "print('Python: {}'.format(sys.version))\n"
   ]
  },
  {
   "cell_type": "markdown",
   "metadata": {},
   "source": [
    "<a id=\"30\"></a>\n",
    "### 3. Problem Definition"
   ]
  },
  {
   "cell_type": "markdown",
   "metadata": {},
   "source": [
    "The datasets contains transactions made by credit cards in September 2013 by european cardholders.\n",
    "This dataset presents transactions that occurred in **two days**, where we have 492 frauds out of 284,807 transactions. The dataset is **highly imbalanced**, the positive class (frauds) account for 0.172% of all transactions."
   ]
  },
  {
   "cell_type": "markdown",
   "metadata": {},
   "source": [
    "<a id=\"311\"></a>\n",
    "##### A. Variables"
   ]
  },
  {
   "cell_type": "markdown",
   "metadata": {},
   "source": [
    "- Features V1, V2, … V28 are the principal components obtained with PCA.\n",
    "- The only features which have not been transformed with PCA are 'Time' and 'Amount'. Feature 'Time' contains the seconds elapsed between each transaction and the first transaction in the dataset. The feature 'Amount' is the transaction Amount, this feature can be used for example-dependant cost-senstive learning.\n",
    "- Feature 'Class' is the response variable and it takes value 1 in case of fraud and 0 otherwise."
   ]
  },
  {
   "cell_type": "markdown",
   "metadata": {},
   "source": [
    "<a id='40'></a>\n",
    "## 4. Exploratory Data Analysis(EDA)"
   ]
  },
  {
   "cell_type": "markdown",
   "metadata": {},
   "source": [
    "<a id='411'></a>\n",
    "### A. Data Collection "
   ]
  },
  {
   "cell_type": "code",
   "execution_count": 9,
   "metadata": {},
   "outputs": [],
   "source": [
    "df = pd.read_csv('creditcarddata.csv')\n",
    "#df=df.head(30000)"
   ]
  },
  {
   "cell_type": "code",
   "execution_count": 10,
   "metadata": {},
   "outputs": [
    {
     "data": {
      "text/plain": [
       "(284807, 31)"
      ]
     },
     "execution_count": 10,
     "metadata": {},
     "output_type": "execute_result"
    }
   ],
   "source": [
    "df.shape #shows the number of rows and columns respectively"
   ]
  },
  {
   "cell_type": "code",
   "execution_count": 11,
   "metadata": {},
   "outputs": [
    {
     "name": "stdout",
     "output_type": "stream",
     "text": [
      "<class 'pandas.core.frame.DataFrame'>\n",
      "RangeIndex: 284807 entries, 0 to 284806\n",
      "Data columns (total 31 columns):\n",
      " #   Column  Non-Null Count   Dtype  \n",
      "---  ------  --------------   -----  \n",
      " 0   Time    284807 non-null  float64\n",
      " 1   V1      284807 non-null  float64\n",
      " 2   V2      284807 non-null  float64\n",
      " 3   V3      284807 non-null  float64\n",
      " 4   V4      284807 non-null  float64\n",
      " 5   V5      284807 non-null  float64\n",
      " 6   V6      284807 non-null  float64\n",
      " 7   V7      284807 non-null  float64\n",
      " 8   V8      284807 non-null  float64\n",
      " 9   V9      284807 non-null  float64\n",
      " 10  V10     284807 non-null  float64\n",
      " 11  V11     284807 non-null  float64\n",
      " 12  V12     284807 non-null  float64\n",
      " 13  V13     284807 non-null  float64\n",
      " 14  V14     284807 non-null  float64\n",
      " 15  V15     284807 non-null  float64\n",
      " 16  V16     284807 non-null  float64\n",
      " 17  V17     284807 non-null  float64\n",
      " 18  V18     284807 non-null  float64\n",
      " 19  V19     284807 non-null  float64\n",
      " 20  V20     284807 non-null  float64\n",
      " 21  V21     284807 non-null  float64\n",
      " 22  V22     284807 non-null  float64\n",
      " 23  V23     284807 non-null  float64\n",
      " 24  V24     284807 non-null  float64\n",
      " 25  V25     284807 non-null  float64\n",
      " 26  V26     284807 non-null  float64\n",
      " 27  V27     284807 non-null  float64\n",
      " 28  V28     284807 non-null  float64\n",
      " 29  Amount  284807 non-null  float64\n",
      " 30  Class   284807 non-null  int64  \n",
      "dtypes: float64(30), int64(1)\n",
      "memory usage: 67.4 MB\n"
     ]
    }
   ],
   "source": [
    "df.info()"
   ]
  },
  {
   "cell_type": "markdown",
   "metadata": {},
   "source": [
    "As info method showed,we have 30 columns with the type of float64 and 1 columns with the type of int64."
   ]
  },
  {
   "cell_type": "markdown",
   "metadata": {},
   "source": [
    "The describe method for numerical data provide information which include count, mean, std(standars deviation), min, max as well as lower, 50 and upper percentiles. By default the lower percentile is 25 and the upper percentile is 75. The 50 percentile is the same as the median."
   ]
  },
  {
   "cell_type": "code",
   "execution_count": 12,
   "metadata": {},
   "outputs": [
    {
     "data": {
      "text/html": [
       "<div>\n",
       "<style scoped>\n",
       "    .dataframe tbody tr th:only-of-type {\n",
       "        vertical-align: middle;\n",
       "    }\n",
       "\n",
       "    .dataframe tbody tr th {\n",
       "        vertical-align: top;\n",
       "    }\n",
       "\n",
       "    .dataframe thead th {\n",
       "        text-align: right;\n",
       "    }\n",
       "</style>\n",
       "<table border=\"1\" class=\"dataframe\">\n",
       "  <thead>\n",
       "    <tr style=\"text-align: right;\">\n",
       "      <th></th>\n",
       "      <th>Time</th>\n",
       "      <th>V1</th>\n",
       "      <th>V2</th>\n",
       "      <th>V3</th>\n",
       "      <th>V4</th>\n",
       "      <th>V5</th>\n",
       "      <th>V6</th>\n",
       "      <th>V7</th>\n",
       "      <th>V8</th>\n",
       "      <th>V9</th>\n",
       "      <th>...</th>\n",
       "      <th>V21</th>\n",
       "      <th>V22</th>\n",
       "      <th>V23</th>\n",
       "      <th>V24</th>\n",
       "      <th>V25</th>\n",
       "      <th>V26</th>\n",
       "      <th>V27</th>\n",
       "      <th>V28</th>\n",
       "      <th>Amount</th>\n",
       "      <th>Class</th>\n",
       "    </tr>\n",
       "  </thead>\n",
       "  <tbody>\n",
       "    <tr>\n",
       "      <th>count</th>\n",
       "      <td>284807.000000</td>\n",
       "      <td>2.848070e+05</td>\n",
       "      <td>2.848070e+05</td>\n",
       "      <td>2.848070e+05</td>\n",
       "      <td>2.848070e+05</td>\n",
       "      <td>2.848070e+05</td>\n",
       "      <td>2.848070e+05</td>\n",
       "      <td>2.848070e+05</td>\n",
       "      <td>2.848070e+05</td>\n",
       "      <td>2.848070e+05</td>\n",
       "      <td>...</td>\n",
       "      <td>2.848070e+05</td>\n",
       "      <td>2.848070e+05</td>\n",
       "      <td>2.848070e+05</td>\n",
       "      <td>2.848070e+05</td>\n",
       "      <td>2.848070e+05</td>\n",
       "      <td>2.848070e+05</td>\n",
       "      <td>2.848070e+05</td>\n",
       "      <td>2.848070e+05</td>\n",
       "      <td>284807.000000</td>\n",
       "      <td>284807.000000</td>\n",
       "    </tr>\n",
       "    <tr>\n",
       "      <th>mean</th>\n",
       "      <td>94813.859575</td>\n",
       "      <td>3.919560e-15</td>\n",
       "      <td>5.688174e-16</td>\n",
       "      <td>-8.769071e-15</td>\n",
       "      <td>2.782312e-15</td>\n",
       "      <td>-1.552563e-15</td>\n",
       "      <td>2.010663e-15</td>\n",
       "      <td>-1.694249e-15</td>\n",
       "      <td>-1.927028e-16</td>\n",
       "      <td>-3.137024e-15</td>\n",
       "      <td>...</td>\n",
       "      <td>1.537294e-16</td>\n",
       "      <td>7.959909e-16</td>\n",
       "      <td>5.367590e-16</td>\n",
       "      <td>4.458112e-15</td>\n",
       "      <td>1.453003e-15</td>\n",
       "      <td>1.699104e-15</td>\n",
       "      <td>-3.660161e-16</td>\n",
       "      <td>-1.206049e-16</td>\n",
       "      <td>88.349619</td>\n",
       "      <td>0.001727</td>\n",
       "    </tr>\n",
       "    <tr>\n",
       "      <th>std</th>\n",
       "      <td>47488.145955</td>\n",
       "      <td>1.958696e+00</td>\n",
       "      <td>1.651309e+00</td>\n",
       "      <td>1.516255e+00</td>\n",
       "      <td>1.415869e+00</td>\n",
       "      <td>1.380247e+00</td>\n",
       "      <td>1.332271e+00</td>\n",
       "      <td>1.237094e+00</td>\n",
       "      <td>1.194353e+00</td>\n",
       "      <td>1.098632e+00</td>\n",
       "      <td>...</td>\n",
       "      <td>7.345240e-01</td>\n",
       "      <td>7.257016e-01</td>\n",
       "      <td>6.244603e-01</td>\n",
       "      <td>6.056471e-01</td>\n",
       "      <td>5.212781e-01</td>\n",
       "      <td>4.822270e-01</td>\n",
       "      <td>4.036325e-01</td>\n",
       "      <td>3.300833e-01</td>\n",
       "      <td>250.120109</td>\n",
       "      <td>0.041527</td>\n",
       "    </tr>\n",
       "    <tr>\n",
       "      <th>min</th>\n",
       "      <td>0.000000</td>\n",
       "      <td>-5.640751e+01</td>\n",
       "      <td>-7.271573e+01</td>\n",
       "      <td>-4.832559e+01</td>\n",
       "      <td>-5.683171e+00</td>\n",
       "      <td>-1.137433e+02</td>\n",
       "      <td>-2.616051e+01</td>\n",
       "      <td>-4.355724e+01</td>\n",
       "      <td>-7.321672e+01</td>\n",
       "      <td>-1.343407e+01</td>\n",
       "      <td>...</td>\n",
       "      <td>-3.483038e+01</td>\n",
       "      <td>-1.093314e+01</td>\n",
       "      <td>-4.480774e+01</td>\n",
       "      <td>-2.836627e+00</td>\n",
       "      <td>-1.029540e+01</td>\n",
       "      <td>-2.604551e+00</td>\n",
       "      <td>-2.256568e+01</td>\n",
       "      <td>-1.543008e+01</td>\n",
       "      <td>0.000000</td>\n",
       "      <td>0.000000</td>\n",
       "    </tr>\n",
       "    <tr>\n",
       "      <th>25%</th>\n",
       "      <td>54201.500000</td>\n",
       "      <td>-9.203734e-01</td>\n",
       "      <td>-5.985499e-01</td>\n",
       "      <td>-8.903648e-01</td>\n",
       "      <td>-8.486401e-01</td>\n",
       "      <td>-6.915971e-01</td>\n",
       "      <td>-7.682956e-01</td>\n",
       "      <td>-5.540759e-01</td>\n",
       "      <td>-2.086297e-01</td>\n",
       "      <td>-6.430976e-01</td>\n",
       "      <td>...</td>\n",
       "      <td>-2.283949e-01</td>\n",
       "      <td>-5.423504e-01</td>\n",
       "      <td>-1.618463e-01</td>\n",
       "      <td>-3.545861e-01</td>\n",
       "      <td>-3.171451e-01</td>\n",
       "      <td>-3.269839e-01</td>\n",
       "      <td>-7.083953e-02</td>\n",
       "      <td>-5.295979e-02</td>\n",
       "      <td>5.600000</td>\n",
       "      <td>0.000000</td>\n",
       "    </tr>\n",
       "    <tr>\n",
       "      <th>50%</th>\n",
       "      <td>84692.000000</td>\n",
       "      <td>1.810880e-02</td>\n",
       "      <td>6.548556e-02</td>\n",
       "      <td>1.798463e-01</td>\n",
       "      <td>-1.984653e-02</td>\n",
       "      <td>-5.433583e-02</td>\n",
       "      <td>-2.741871e-01</td>\n",
       "      <td>4.010308e-02</td>\n",
       "      <td>2.235804e-02</td>\n",
       "      <td>-5.142873e-02</td>\n",
       "      <td>...</td>\n",
       "      <td>-2.945017e-02</td>\n",
       "      <td>6.781943e-03</td>\n",
       "      <td>-1.119293e-02</td>\n",
       "      <td>4.097606e-02</td>\n",
       "      <td>1.659350e-02</td>\n",
       "      <td>-5.213911e-02</td>\n",
       "      <td>1.342146e-03</td>\n",
       "      <td>1.124383e-02</td>\n",
       "      <td>22.000000</td>\n",
       "      <td>0.000000</td>\n",
       "    </tr>\n",
       "    <tr>\n",
       "      <th>75%</th>\n",
       "      <td>139320.500000</td>\n",
       "      <td>1.315642e+00</td>\n",
       "      <td>8.037239e-01</td>\n",
       "      <td>1.027196e+00</td>\n",
       "      <td>7.433413e-01</td>\n",
       "      <td>6.119264e-01</td>\n",
       "      <td>3.985649e-01</td>\n",
       "      <td>5.704361e-01</td>\n",
       "      <td>3.273459e-01</td>\n",
       "      <td>5.971390e-01</td>\n",
       "      <td>...</td>\n",
       "      <td>1.863772e-01</td>\n",
       "      <td>5.285536e-01</td>\n",
       "      <td>1.476421e-01</td>\n",
       "      <td>4.395266e-01</td>\n",
       "      <td>3.507156e-01</td>\n",
       "      <td>2.409522e-01</td>\n",
       "      <td>9.104512e-02</td>\n",
       "      <td>7.827995e-02</td>\n",
       "      <td>77.165000</td>\n",
       "      <td>0.000000</td>\n",
       "    </tr>\n",
       "    <tr>\n",
       "      <th>max</th>\n",
       "      <td>172792.000000</td>\n",
       "      <td>2.454930e+00</td>\n",
       "      <td>2.205773e+01</td>\n",
       "      <td>9.382558e+00</td>\n",
       "      <td>1.687534e+01</td>\n",
       "      <td>3.480167e+01</td>\n",
       "      <td>7.330163e+01</td>\n",
       "      <td>1.205895e+02</td>\n",
       "      <td>2.000721e+01</td>\n",
       "      <td>1.559499e+01</td>\n",
       "      <td>...</td>\n",
       "      <td>2.720284e+01</td>\n",
       "      <td>1.050309e+01</td>\n",
       "      <td>2.252841e+01</td>\n",
       "      <td>4.584549e+00</td>\n",
       "      <td>7.519589e+00</td>\n",
       "      <td>3.517346e+00</td>\n",
       "      <td>3.161220e+01</td>\n",
       "      <td>3.384781e+01</td>\n",
       "      <td>25691.160000</td>\n",
       "      <td>1.000000</td>\n",
       "    </tr>\n",
       "  </tbody>\n",
       "</table>\n",
       "<p>8 rows × 31 columns</p>\n",
       "</div>"
      ],
      "text/plain": [
       "                Time            V1            V2            V3            V4  \\\n",
       "count  284807.000000  2.848070e+05  2.848070e+05  2.848070e+05  2.848070e+05   \n",
       "mean    94813.859575  3.919560e-15  5.688174e-16 -8.769071e-15  2.782312e-15   \n",
       "std     47488.145955  1.958696e+00  1.651309e+00  1.516255e+00  1.415869e+00   \n",
       "min         0.000000 -5.640751e+01 -7.271573e+01 -4.832559e+01 -5.683171e+00   \n",
       "25%     54201.500000 -9.203734e-01 -5.985499e-01 -8.903648e-01 -8.486401e-01   \n",
       "50%     84692.000000  1.810880e-02  6.548556e-02  1.798463e-01 -1.984653e-02   \n",
       "75%    139320.500000  1.315642e+00  8.037239e-01  1.027196e+00  7.433413e-01   \n",
       "max    172792.000000  2.454930e+00  2.205773e+01  9.382558e+00  1.687534e+01   \n",
       "\n",
       "                 V5            V6            V7            V8            V9  \\\n",
       "count  2.848070e+05  2.848070e+05  2.848070e+05  2.848070e+05  2.848070e+05   \n",
       "mean  -1.552563e-15  2.010663e-15 -1.694249e-15 -1.927028e-16 -3.137024e-15   \n",
       "std    1.380247e+00  1.332271e+00  1.237094e+00  1.194353e+00  1.098632e+00   \n",
       "min   -1.137433e+02 -2.616051e+01 -4.355724e+01 -7.321672e+01 -1.343407e+01   \n",
       "25%   -6.915971e-01 -7.682956e-01 -5.540759e-01 -2.086297e-01 -6.430976e-01   \n",
       "50%   -5.433583e-02 -2.741871e-01  4.010308e-02  2.235804e-02 -5.142873e-02   \n",
       "75%    6.119264e-01  3.985649e-01  5.704361e-01  3.273459e-01  5.971390e-01   \n",
       "max    3.480167e+01  7.330163e+01  1.205895e+02  2.000721e+01  1.559499e+01   \n",
       "\n",
       "       ...           V21           V22           V23           V24  \\\n",
       "count  ...  2.848070e+05  2.848070e+05  2.848070e+05  2.848070e+05   \n",
       "mean   ...  1.537294e-16  7.959909e-16  5.367590e-16  4.458112e-15   \n",
       "std    ...  7.345240e-01  7.257016e-01  6.244603e-01  6.056471e-01   \n",
       "min    ... -3.483038e+01 -1.093314e+01 -4.480774e+01 -2.836627e+00   \n",
       "25%    ... -2.283949e-01 -5.423504e-01 -1.618463e-01 -3.545861e-01   \n",
       "50%    ... -2.945017e-02  6.781943e-03 -1.119293e-02  4.097606e-02   \n",
       "75%    ...  1.863772e-01  5.285536e-01  1.476421e-01  4.395266e-01   \n",
       "max    ...  2.720284e+01  1.050309e+01  2.252841e+01  4.584549e+00   \n",
       "\n",
       "                V25           V26           V27           V28         Amount  \\\n",
       "count  2.848070e+05  2.848070e+05  2.848070e+05  2.848070e+05  284807.000000   \n",
       "mean   1.453003e-15  1.699104e-15 -3.660161e-16 -1.206049e-16      88.349619   \n",
       "std    5.212781e-01  4.822270e-01  4.036325e-01  3.300833e-01     250.120109   \n",
       "min   -1.029540e+01 -2.604551e+00 -2.256568e+01 -1.543008e+01       0.000000   \n",
       "25%   -3.171451e-01 -3.269839e-01 -7.083953e-02 -5.295979e-02       5.600000   \n",
       "50%    1.659350e-02 -5.213911e-02  1.342146e-03  1.124383e-02      22.000000   \n",
       "75%    3.507156e-01  2.409522e-01  9.104512e-02  7.827995e-02      77.165000   \n",
       "max    7.519589e+00  3.517346e+00  3.161220e+01  3.384781e+01   25691.160000   \n",
       "\n",
       "               Class  \n",
       "count  284807.000000  \n",
       "mean        0.001727  \n",
       "std         0.041527  \n",
       "min         0.000000  \n",
       "25%         0.000000  \n",
       "50%         0.000000  \n",
       "75%         0.000000  \n",
       "max         1.000000  \n",
       "\n",
       "[8 rows x 31 columns]"
      ]
     },
     "execution_count": 12,
     "metadata": {},
     "output_type": "execute_result"
    }
   ],
   "source": [
    "df.describe()"
   ]
  },
  {
   "cell_type": "markdown",
   "metadata": {},
   "source": [
    "Looking at the time column, the max is 172792 seconds which shows that the dataset contains 2 consecutive  days.<br>\n",
    "3600sx24h=86400 seconds in one day.<br>\n",
    "86400sx2=172,800 seconds which is almost 172,792 secodns.\n",
    "\n",
    "Also, looking at the amount column, the amount transactioned is not reletively large, the mean and median of the amount column is 88.34 dollars and 22 dollars respectively."
   ]
  },
  {
   "cell_type": "code",
   "execution_count": 14,
   "metadata": {},
   "outputs": [
    {
     "data": {
      "text/plain": [
       "Time      0\n",
       "V1        0\n",
       "V2        0\n",
       "V3        0\n",
       "V4        0\n",
       "V5        0\n",
       "V6        0\n",
       "V7        0\n",
       "V8        0\n",
       "V9        0\n",
       "V10       0\n",
       "V11       0\n",
       "V12       0\n",
       "V13       0\n",
       "V14       0\n",
       "V15       0\n",
       "V16       0\n",
       "V17       0\n",
       "V18       0\n",
       "V19       0\n",
       "V20       0\n",
       "V21       0\n",
       "V22       0\n",
       "V23       0\n",
       "V24       0\n",
       "V25       0\n",
       "V26       0\n",
       "V27       0\n",
       "V28       0\n",
       "Amount    0\n",
       "Class     0\n",
       "dtype: int64"
      ]
     },
     "execution_count": 14,
     "metadata": {},
     "output_type": "execute_result"
    }
   ],
   "source": [
    "df.isnull().sum()"
   ]
  },
  {
   "cell_type": "markdown",
   "metadata": {},
   "source": [
    "Sounds great, we don't have any null values in our dataset."
   ]
  },
  {
   "cell_type": "code",
   "execution_count": 15,
   "metadata": {},
   "outputs": [
    {
     "data": {
      "text/plain": [
       "Index(['Time', 'V1', 'V2', 'V3', 'V4', 'V5', 'V6', 'V7', 'V8', 'V9', 'V10',\n",
       "       'V11', 'V12', 'V13', 'V14', 'V15', 'V16', 'V17', 'V18', 'V19', 'V20',\n",
       "       'V21', 'V22', 'V23', 'V24', 'V25', 'V26', 'V27', 'V28', 'Amount',\n",
       "       'Class'],\n",
       "      dtype='object')"
      ]
     },
     "execution_count": 15,
     "metadata": {},
     "output_type": "execute_result"
    }
   ],
   "source": [
    "df.columns"
   ]
  },
  {
   "cell_type": "markdown",
   "metadata": {},
   "source": [
    "<a id='420'></a>\n",
    "### B. Data Visualization"
   ]
  },
  {
   "cell_type": "markdown",
   "metadata": {},
   "source": [
    "In this section, I will do **Univariate Visualization** and **Multivariate Visualization** as follow:"
   ]
  },
  {
   "cell_type": "markdown",
   "metadata": {},
   "source": [
    "**A- Univariate Visualization:**<br>\n",
    "    - Class (Qualitative)<br>\n",
    "    - Amount (Qualitative)<br>\n",
    "    - Time (Quantitative)<br>\n",
    "\n",
    "**B- Multivariate Visualization:**<br>\n",
    "    - Class vs. Amount (Qualitative vs. Qualitative)<br>\n",
    "    - Class vs. Time (Qualitative va. Quantitative)<br>\n",
    "    - Whole dataset visualization<br>\n",
    "    - Feature Correlation<br>"
   ]
  },
  {
   "cell_type": "markdown",
   "metadata": {},
   "source": [
    "<a id='4211'></a>\n",
    "##### A. Univariate Visualization"
   ]
  },
  {
   "cell_type": "markdown",
   "metadata": {},
   "source": [
    "#### Class"
   ]
  },
  {
   "cell_type": "code",
   "execution_count": 16,
   "metadata": {},
   "outputs": [
    {
     "data": {
      "image/png": "[encoded data removed]",
      "text/plain": [
       "<Figure size 432x288 with 1 Axes>"
      ]
     },
     "metadata": {
      "needs_background": "light"
     },
     "output_type": "display_data"
    }
   ],
   "source": [
    "sns.countplot(x='Class', data=df)\n",
    "plt.title('Class Count');"
   ]
  },
  {
   "cell_type": "markdown",
   "metadata": {},
   "source": [
    "As countplot shows, we have a heavily imbalanced class of data. Let's check what is the distribution of the normal vs. fraud tranaction in the class. "
   ]
  },
  {
   "cell_type": "code",
   "execution_count": 17,
   "metadata": {},
   "outputs": [
    {
     "data": {
      "text/plain": [
       "array([0, 1], dtype=int64)"
      ]
     },
     "execution_count": 17,
     "metadata": {},
     "output_type": "execute_result"
    }
   ],
   "source": [
    "df['Class'].unique()"
   ]
  },
  {
   "cell_type": "code",
   "execution_count": 18,
   "metadata": {},
   "outputs": [
    {
     "name": "stdout",
     "output_type": "stream",
     "text": [
      "The normal(0) vs. fraud(1) transaction percentage is:\n"
     ]
    },
    {
     "data": {
      "text/plain": [
       "0    0.998273\n",
       "1    0.001727\n",
       "Name: Class, dtype: float64"
      ]
     },
     "execution_count": 18,
     "metadata": {},
     "output_type": "execute_result"
    }
   ],
   "source": [
    "print('The normal(0) vs. fraud(1) transaction percentage is:')\n",
    "df['Class'].value_counts(normalize=True)"
   ]
  },
  {
   "cell_type": "markdown",
   "metadata": {},
   "source": [
    "Yes, we have a very imbalanced class of dataset which needs to be fixed. Most of the tranactions are normal (non-fraud) transactions which is true in real life. However, if we use the dataset as it is, our predictive model assume that most of the transactions are non-fraud and our model leads to **Overfit**. We have to use techniques such as **Resampling** to fix this problem."
   ]
  },
  {
   "cell_type": "markdown",
   "metadata": {},
   "source": [
    "#### Amount"
   ]
  },
  {
   "cell_type": "code",
   "execution_count": 19,
   "metadata": {},
   "outputs": [
    {
     "data": {
      "image/png": "[encoded data removed]",
      "text/plain": [
       "<Figure size 432x288 with 1 Axes>"
      ]
     },
     "metadata": {
      "needs_background": "light"
     },
     "output_type": "display_data"
    }
   ],
   "source": [
    "sns.distplot(df['Amount'])\n",
    "plt.title('Distribution of the amount transacted');"
   ]
  },
  {
   "cell_type": "markdown",
   "metadata": {},
   "source": [
    "We have a very long positive tail towards the right for the amount and it is not normally distributed. One general idea is that whenever we have a heavy tail distribution, we can transform it (by computing their logarithm)."
   ]
  },
  {
   "cell_type": "markdown",
   "metadata": {},
   "source": [
    "#### Time"
   ]
  },
  {
   "cell_type": "code",
   "execution_count": 20,
   "metadata": {},
   "outputs": [
    {
     "data": {
      "text/plain": [
       "0        0 days 00:00:00\n",
       "1        0 days 00:00:00\n",
       "2        0 days 00:00:01\n",
       "3        0 days 00:00:01\n",
       "4        0 days 00:00:02\n",
       "               ...      \n",
       "284802   1 days 23:59:46\n",
       "284803   1 days 23:59:47\n",
       "284804   1 days 23:59:48\n",
       "284805   1 days 23:59:48\n",
       "284806   1 days 23:59:52\n",
       "Name: Time, Length: 284807, dtype: timedelta64[ns]"
      ]
     },
     "execution_count": 20,
     "metadata": {},
     "output_type": "execute_result"
    }
   ],
   "source": [
    "#I will do some feature engineering here and transform the time from second to minuets and hour.\n",
    "#By looking at the time in seconds, minutes and hours rather than all in seconds, we will get better insight.\n",
    "\n",
    "timedelta = pd.to_timedelta(df['Time'], unit='s')\n",
    "timedelta"
   ]
  },
  {
   "cell_type": "code",
   "execution_count": 21,
   "metadata": {},
   "outputs": [],
   "source": [
    "#creating new column from all time in seconds to minutes, and hours.\n",
    "df['Time_min'] = (timedelta.dt.components.minutes).astype(int)\n",
    "df['Time_hour'] = (timedelta.dt.components.hours).astype(int)"
   ]
  },
  {
   "cell_type": "code",
   "execution_count": 23,
   "metadata": {},
   "outputs": [
    {
     "data": {
      "image/png": "[encoded data removed]",
      "text/plain": [
       "<Figure size 432x288 with 1 Axes>"
      ]
     },
     "metadata": {
      "needs_background": "light"
     },
     "output_type": "display_data"
    }
   ],
   "source": [
    "sns.distplot(df['Time'])\n",
    "plt.title('Distribution of time in seconds for to two consecutive days');"
   ]
  },
  {
   "cell_type": "markdown",
   "metadata": {},
   "source": [
    "We can clearly observe that there are two days in \"Time\" column."
   ]
  },
  {
   "cell_type": "code",
   "execution_count": 24,
   "metadata": {},
   "outputs": [
    {
     "data": {
      "image/png": "[encoded data removed]",
      "text/plain": [
       "<Figure size 432x288 with 1 Axes>"
      ]
     },
     "metadata": {
      "needs_background": "light"
     },
     "output_type": "display_data"
    }
   ],
   "source": [
    "sns.distplot(df['Time_min'])\n",
    "plt.title('Distribution of time in minutes');"
   ]
  },
  {
   "cell_type": "code",
   "execution_count": 25,
   "metadata": {},
   "outputs": [
    {
     "data": {
      "image/png": "[encoded data removed]",
      "text/plain": [
       "<Figure size 432x288 with 1 Axes>"
      ]
     },
     "metadata": {
      "needs_background": "light"
     },
     "output_type": "display_data"
    }
   ],
   "source": [
    "sns.distplot(df['Time_hour'])\n",
    "plt.title('Distribution of time in hours');"
   ]
  },
  {
   "cell_type": "markdown",
   "metadata": {},
   "source": [
    "We couldn't get a lot of information in this phase from time in seconds and minutes but time in hours could help us get more details about transaction time.<br>\n",
    "\n",
    "Here, we can see that we don't have a lot of transactions during the sleep period from 1 AM to 6 AM but the transaction pick begins from 9 AM to 22 PM."
   ]
  },
  {
   "cell_type": "markdown",
   "metadata": {},
   "source": [
    "<a id='4222'></a>\n",
    "##### B. Multivariate Visualization"
   ]
  },
  {
   "cell_type": "code",
   "execution_count": 26,
   "metadata": {},
   "outputs": [
    {
     "data": {
      "image/png": "[encoded data removed]",
      "text/plain": [
       "<Figure size 432x288 with 1 Axes>"
      ]
     },
     "metadata": {
      "needs_background": "light"
     },
     "output_type": "display_data"
    }
   ],
   "source": [
    "#Class vs. Amount (Qualitative vs. Qualitative)\n",
    "sns.boxplot(x='Class', y='Amount', data=df);"
   ]
  },
  {
   "cell_type": "markdown",
   "metadata": {},
   "source": [
    "Not very informative. from the Amount plot in the univariate visualization, we found that the Amount plot has a very heavy right tail. Hence it is a good idea to use log transformation and get a log_normal distribution on the Amount. "
   ]
  },
  {
   "cell_type": "code",
   "execution_count": 27,
   "metadata": {},
   "outputs": [
    {
     "data": {
      "image/png": "[encoded data removed]",
      "text/plain": [
       "<Figure size 432x288 with 1 Axes>"
      ]
     },
     "metadata": {
      "needs_background": "light"
     },
     "output_type": "display_data"
    }
   ],
   "source": [
    "df['Amount_log'] = np.log(df['Amount'] + 0.001) #normalize amount for visualization\n",
    "sns.boxplot(x='Class', y='Amount_log', data=df);"
   ]
  },
  {
   "cell_type": "markdown",
   "metadata": {},
   "source": [
    "Let's also try violinplot to see if we can get more insight from our plots. "
   ]
  },
  {
   "cell_type": "code",
   "execution_count": 28,
   "metadata": {},
   "outputs": [
    {
     "data": {
      "image/png": "[encoded data removed]",
      "text/plain": [
       "<Figure size 432x288 with 1 Axes>"
      ]
     },
     "metadata": {
      "needs_background": "light"
     },
     "output_type": "display_data"
    }
   ],
   "source": [
    "sns.violinplot(x='Class', y='Amount_log', data=df);"
   ]
  },
  {
   "cell_type": "markdown",
   "metadata": {},
   "source": [
    "**Some intersting observations from Violinplot:**\n",
    "\n",
    "1- The thick gray bar in the center shows that the interquartile range of the class non_fraud (0) is less than the fraud (1) class. \n",
    "\n",
    "2- The white dot which represents the median shows that the median of the class non_fraud is slightly more than the class fraud.\n",
    "\n",
    "3- The distribution of the data around the median for non_fraud class is much wider than the distribution of the fraud class around the median. As you can see, in the fraud class, the distribution of the data around the median gets very skinny. \n",
    "\n",
    "4- Also, from the boxplot we can see than most of the outliers and high Amounts is for the non_fraud class. "
   ]
  },
  {
   "cell_type": "code",
   "execution_count": 29,
   "metadata": {},
   "outputs": [
    {
     "data": {
      "image/png": "[encoded data removed]",
      "text/plain": [
       "<Figure size 402.375x360 with 1 Axes>"
      ]
     },
     "metadata": {
      "needs_background": "light"
     },
     "output_type": "display_data"
    }
   ],
   "source": [
    "#Class vs. Time (Qualitative va. Quantitative)\n",
    "sns.lmplot('Time_hour', 'Time_min', data=df, hue='Class', fit_reg=False)\n",
    "plt.title('Distribution of non_fraud vs. fraud by time');"
   ]
  },
  {
   "cell_type": "code",
   "execution_count": 30,
   "metadata": {},
   "outputs": [
    {
     "data": {
      "text/html": [
       "<div>\n",
       "<style scoped>\n",
       "    .dataframe tbody tr th:only-of-type {\n",
       "        vertical-align: middle;\n",
       "    }\n",
       "\n",
       "    .dataframe tbody tr th {\n",
       "        vertical-align: top;\n",
       "    }\n",
       "\n",
       "    .dataframe thead th {\n",
       "        text-align: right;\n",
       "    }\n",
       "</style>\n",
       "<table border=\"1\" class=\"dataframe\">\n",
       "  <thead>\n",
       "    <tr style=\"text-align: right;\">\n",
       "      <th>Class</th>\n",
       "      <th>0</th>\n",
       "      <th>1</th>\n",
       "      <th>All</th>\n",
       "    </tr>\n",
       "    <tr>\n",
       "      <th>Time_hour</th>\n",
       "      <th></th>\n",
       "      <th></th>\n",
       "      <th></th>\n",
       "    </tr>\n",
       "  </thead>\n",
       "  <tbody>\n",
       "    <tr>\n",
       "      <th>0</th>\n",
       "      <td>7689</td>\n",
       "      <td>6</td>\n",
       "      <td>7695</td>\n",
       "    </tr>\n",
       "    <tr>\n",
       "      <th>1</th>\n",
       "      <td>4210</td>\n",
       "      <td>10</td>\n",
       "      <td>4220</td>\n",
       "    </tr>\n",
       "    <tr>\n",
       "      <th>2</th>\n",
       "      <td>3271</td>\n",
       "      <td>57</td>\n",
       "      <td>3328</td>\n",
       "    </tr>\n",
       "    <tr>\n",
       "      <th>3</th>\n",
       "      <td>3475</td>\n",
       "      <td>17</td>\n",
       "      <td>3492</td>\n",
       "    </tr>\n",
       "    <tr>\n",
       "      <th>4</th>\n",
       "      <td>2186</td>\n",
       "      <td>23</td>\n",
       "      <td>2209</td>\n",
       "    </tr>\n",
       "    <tr>\n",
       "      <th>5</th>\n",
       "      <td>2979</td>\n",
       "      <td>11</td>\n",
       "      <td>2990</td>\n",
       "    </tr>\n",
       "    <tr>\n",
       "      <th>6</th>\n",
       "      <td>4092</td>\n",
       "      <td>9</td>\n",
       "      <td>4101</td>\n",
       "    </tr>\n",
       "    <tr>\n",
       "      <th>7</th>\n",
       "      <td>7220</td>\n",
       "      <td>23</td>\n",
       "      <td>7243</td>\n",
       "    </tr>\n",
       "    <tr>\n",
       "      <th>8</th>\n",
       "      <td>10267</td>\n",
       "      <td>9</td>\n",
       "      <td>10276</td>\n",
       "    </tr>\n",
       "    <tr>\n",
       "      <th>9</th>\n",
       "      <td>15822</td>\n",
       "      <td>16</td>\n",
       "      <td>15838</td>\n",
       "    </tr>\n",
       "    <tr>\n",
       "      <th>10</th>\n",
       "      <td>16590</td>\n",
       "      <td>8</td>\n",
       "      <td>16598</td>\n",
       "    </tr>\n",
       "    <tr>\n",
       "      <th>11</th>\n",
       "      <td>16803</td>\n",
       "      <td>53</td>\n",
       "      <td>16856</td>\n",
       "    </tr>\n",
       "    <tr>\n",
       "      <th>12</th>\n",
       "      <td>15403</td>\n",
       "      <td>17</td>\n",
       "      <td>15420</td>\n",
       "    </tr>\n",
       "    <tr>\n",
       "      <th>13</th>\n",
       "      <td>15348</td>\n",
       "      <td>17</td>\n",
       "      <td>15365</td>\n",
       "    </tr>\n",
       "    <tr>\n",
       "      <th>14</th>\n",
       "      <td>16547</td>\n",
       "      <td>23</td>\n",
       "      <td>16570</td>\n",
       "    </tr>\n",
       "    <tr>\n",
       "      <th>15</th>\n",
       "      <td>16435</td>\n",
       "      <td>26</td>\n",
       "      <td>16461</td>\n",
       "    </tr>\n",
       "    <tr>\n",
       "      <th>16</th>\n",
       "      <td>16431</td>\n",
       "      <td>22</td>\n",
       "      <td>16453</td>\n",
       "    </tr>\n",
       "    <tr>\n",
       "      <th>17</th>\n",
       "      <td>16137</td>\n",
       "      <td>29</td>\n",
       "      <td>16166</td>\n",
       "    </tr>\n",
       "    <tr>\n",
       "      <th>18</th>\n",
       "      <td>17006</td>\n",
       "      <td>33</td>\n",
       "      <td>17039</td>\n",
       "    </tr>\n",
       "    <tr>\n",
       "      <th>19</th>\n",
       "      <td>15630</td>\n",
       "      <td>19</td>\n",
       "      <td>15649</td>\n",
       "    </tr>\n",
       "    <tr>\n",
       "      <th>20</th>\n",
       "      <td>16738</td>\n",
       "      <td>18</td>\n",
       "      <td>16756</td>\n",
       "    </tr>\n",
       "    <tr>\n",
       "      <th>21</th>\n",
       "      <td>17687</td>\n",
       "      <td>16</td>\n",
       "      <td>17703</td>\n",
       "    </tr>\n",
       "    <tr>\n",
       "      <th>22</th>\n",
       "      <td>15432</td>\n",
       "      <td>9</td>\n",
       "      <td>15441</td>\n",
       "    </tr>\n",
       "    <tr>\n",
       "      <th>23</th>\n",
       "      <td>10917</td>\n",
       "      <td>21</td>\n",
       "      <td>10938</td>\n",
       "    </tr>\n",
       "    <tr>\n",
       "      <th>All</th>\n",
       "      <td>284315</td>\n",
       "      <td>492</td>\n",
       "      <td>284807</td>\n",
       "    </tr>\n",
       "  </tbody>\n",
       "</table>\n",
       "</div>"
      ],
      "text/plain": [
       "Class           0    1     All\n",
       "Time_hour                     \n",
       "0            7689    6    7695\n",
       "1            4210   10    4220\n",
       "2            3271   57    3328\n",
       "3            3475   17    3492\n",
       "4            2186   23    2209\n",
       "5            2979   11    2990\n",
       "6            4092    9    4101\n",
       "7            7220   23    7243\n",
       "8           10267    9   10276\n",
       "9           15822   16   15838\n",
       "10          16590    8   16598\n",
       "11          16803   53   16856\n",
       "12          15403   17   15420\n",
       "13          15348   17   15365\n",
       "14          16547   23   16570\n",
       "15          16435   26   16461\n",
       "16          16431   22   16453\n",
       "17          16137   29   16166\n",
       "18          17006   33   17039\n",
       "19          15630   19   15649\n",
       "20          16738   18   16756\n",
       "21          17687   16   17703\n",
       "22          15432    9   15441\n",
       "23          10917   21   10938\n",
       "All        284315  492  284807"
      ]
     },
     "execution_count": 30,
     "metadata": {},
     "output_type": "execute_result"
    }
   ],
   "source": [
    "pd.crosstab(df['Class'], df['Time_hour'], margins=True).T"
   ]
  },
  {
   "cell_type": "markdown",
   "metadata": {},
   "source": [
    "We couldn't get very straight insight from the distribution of non_fraud vs. fraud by time plot using lmplot. However, by using crosstab method, we were able to find some useful information as follow. \n",
    "\n",
    "I divided the 24 hours time into 4 sections. Hence, I have 6 hours in each section. There is always one hour in each section with most number of frauds. \n",
    "\n",
    "0 AM:6<br>\n",
    "1 AM:10<br>\n",
    "**2 AM:57 , in 2 AM there is 57 number of frauds**<br>\n",
    "3 AM:17<br>\n",
    "4 AM:23<br>\n",
    "5 AM:11<br>\n",
    "\n",
    "6 AM:9<br>\n",
    "7 AM:23<br>\n",
    "8 AM:9<br>\n",
    "9 AM:16<br>\n",
    "10 AM:8<br>\n",
    "**11 AM:53 , in 11 AM there is 53 number of frauds**<br>\n",
    "\n",
    "12 PM:17<br>\n",
    "13 PM:17<br>\n",
    "14 PM:23<br>\n",
    "15 PM:26<br>\n",
    "16 PM:22<br>\n",
    "**17 PM:29, in 17 PM there is 29 number of frauds**<br>\n",
    "\n",
    "**18 PM:33 , in 18 PM there is 33 number of frauds**<br>\n",
    "19 PM:19<br>\n",
    "20 PM:18<br>\n",
    "21 PM:16<br>\n",
    "22 PM:9<br>\n",
    "23 PM:21<br>"
   ]
  },
  {
   "cell_type": "markdown",
   "metadata": {},
   "source": [
    "### Whole dataset visualization "
   ]
  },
  {
   "cell_type": "code",
   "execution_count": 38,
   "metadata": {},
   "outputs": [
    {
     "data": {
      "text/plain": [
       "<Figure size 432x288 with 0 Axes>"
      ]
     },
     "metadata": {},
     "output_type": "display_data"
    },
    {
     "data": {
      "image/png": "[encoded data removed]",
      "text/plain": [
       "<Figure size 1152x2016 with 28 Axes>"
      ]
     },
     "metadata": {},
     "output_type": "display_data"
    }
   ],
   "source": [
    "### Looking the V's features\n",
    "var = df.iloc[:,1:29].columns\n",
    "#var = data_df.columns.values\n",
    "\n",
    "i = 0\n",
    "t0 = df.loc[df['Class'] == 0]\n",
    "t1 = df.loc[df['Class'] == 1]\n",
    "\n",
    "sns.set_style('darkgrid')\n",
    "plt.figure()\n",
    "fig, ax = plt.subplots(8,4,figsize=(16,28))\n",
    "\n",
    "for feature in var:\n",
    "    i += 1\n",
    "    plt.subplot(7,4,i)\n",
    "    sns.kdeplot(t0[feature], bw='scott',label=\"Class = 0\")\n",
    "    sns.kdeplot(t1[feature], bw='scott',label=\"Class = 1\")\n",
    "    plt.xlabel(feature, fontsize=12)\n",
    "    locs, labels = plt.xticks()\n",
    "plt.show();"
   ]
  },
  {
   "cell_type": "markdown",
   "metadata": {},
   "source": [
    "### Feature Correlation"
   ]
  },
  {
   "cell_type": "code",
   "execution_count": 39,
   "metadata": {},
   "outputs": [
    {
     "data": {
      "image/png": "[encoded data removed]",
      "text/plain": [
       "<Figure size 1008x1008 with 2 Axes>"
      ]
     },
     "metadata": {},
     "output_type": "display_data"
    }
   ],
   "source": [
    "plt.figure(figsize = (14,14))\n",
    "corr = df.corr()\n",
    "sns.heatmap(corr, linewidths=0.2,vmax=1.0, \n",
    "            square=True, cmap = plt.cm.Accent, linecolor='black')\n",
    "plt.show;"
   ]
  },
  {
   "cell_type": "code",
   "execution_count": 40,
   "metadata": {},
   "outputs": [
    {
     "data": {
      "text/plain": [
       "Class         1.000000\n",
       "V11           0.154876\n",
       "V4            0.133447\n",
       "V2            0.091289\n",
       "V21           0.040413\n",
       "V19           0.034783\n",
       "V20           0.020090\n",
       "V8            0.019875\n",
       "V27           0.017580\n",
       "V28           0.009536\n",
       "Amount        0.005632\n",
       "V26           0.004455\n",
       "V25           0.003308\n",
       "V22           0.000805\n",
       "Time_min     -0.000124\n",
       "V23          -0.002685\n",
       "V15          -0.004223\n",
       "V13          -0.004570\n",
       "V24          -0.007221\n",
       "Time         -0.012323\n",
       "Amount_log   -0.016747\n",
       "Time_hour    -0.017109\n",
       "V6           -0.043643\n",
       "V5           -0.094974\n",
       "V9           -0.097733\n",
       "V1           -0.101347\n",
       "V18          -0.111485\n",
       "V7           -0.187257\n",
       "V3           -0.192961\n",
       "V16          -0.196539\n",
       "V10          -0.216883\n",
       "V12          -0.260593\n",
       "V14          -0.302544\n",
       "V17          -0.326481\n",
       "Name: Class, dtype: float64"
      ]
     },
     "execution_count": 40,
     "metadata": {},
     "output_type": "execute_result"
    }
   ],
   "source": [
    "corr['Class'].sort_values(ascending=False)"
   ]
  },
  {
   "cell_type": "code",
   "execution_count": 41,
   "metadata": {},
   "outputs": [
    {
     "data": {
      "text/html": [
       "<div>\n",
       "<style scoped>\n",
       "    .dataframe tbody tr th:only-of-type {\n",
       "        vertical-align: middle;\n",
       "    }\n",
       "\n",
       "    .dataframe tbody tr th {\n",
       "        vertical-align: top;\n",
       "    }\n",
       "\n",
       "    .dataframe thead th {\n",
       "        text-align: right;\n",
       "    }\n",
       "</style>\n",
       "<table border=\"1\" class=\"dataframe\">\n",
       "  <thead>\n",
       "    <tr style=\"text-align: right;\">\n",
       "      <th>Class</th>\n",
       "      <th>False</th>\n",
       "      <th>True</th>\n",
       "      <th>All</th>\n",
       "    </tr>\n",
       "    <tr>\n",
       "      <th>Amount</th>\n",
       "      <th></th>\n",
       "      <th></th>\n",
       "      <th></th>\n",
       "    </tr>\n",
       "  </thead>\n",
       "  <tbody>\n",
       "    <tr>\n",
       "      <th>0.0</th>\n",
       "      <td>1798</td>\n",
       "      <td>27</td>\n",
       "      <td>1825</td>\n",
       "    </tr>\n",
       "    <tr>\n",
       "      <th>0.01</th>\n",
       "      <td>713</td>\n",
       "      <td>5</td>\n",
       "      <td>718</td>\n",
       "    </tr>\n",
       "    <tr>\n",
       "      <th>0.02</th>\n",
       "      <td>85</td>\n",
       "      <td>0</td>\n",
       "      <td>85</td>\n",
       "    </tr>\n",
       "    <tr>\n",
       "      <th>0.03</th>\n",
       "      <td>3</td>\n",
       "      <td>0</td>\n",
       "      <td>3</td>\n",
       "    </tr>\n",
       "    <tr>\n",
       "      <th>0.04</th>\n",
       "      <td>11</td>\n",
       "      <td>0</td>\n",
       "      <td>11</td>\n",
       "    </tr>\n",
       "    <tr>\n",
       "      <th>...</th>\n",
       "      <td>...</td>\n",
       "      <td>...</td>\n",
       "      <td>...</td>\n",
       "    </tr>\n",
       "    <tr>\n",
       "      <th>12910.93</th>\n",
       "      <td>1</td>\n",
       "      <td>0</td>\n",
       "      <td>1</td>\n",
       "    </tr>\n",
       "    <tr>\n",
       "      <th>18910.0</th>\n",
       "      <td>1</td>\n",
       "      <td>0</td>\n",
       "      <td>1</td>\n",
       "    </tr>\n",
       "    <tr>\n",
       "      <th>19656.53</th>\n",
       "      <td>1</td>\n",
       "      <td>0</td>\n",
       "      <td>1</td>\n",
       "    </tr>\n",
       "    <tr>\n",
       "      <th>25691.16</th>\n",
       "      <td>1</td>\n",
       "      <td>0</td>\n",
       "      <td>1</td>\n",
       "    </tr>\n",
       "    <tr>\n",
       "      <th>All</th>\n",
       "      <td>284315</td>\n",
       "      <td>492</td>\n",
       "      <td>284807</td>\n",
       "    </tr>\n",
       "  </tbody>\n",
       "</table>\n",
       "<p>32768 rows × 3 columns</p>\n",
       "</div>"
      ],
      "text/plain": [
       "Class      False  True     All\n",
       "Amount                        \n",
       "0.0         1798    27    1825\n",
       "0.01         713     5     718\n",
       "0.02          85     0      85\n",
       "0.03           3     0       3\n",
       "0.04          11     0      11\n",
       "...          ...   ...     ...\n",
       "12910.93       1     0       1\n",
       "18910.0        1     0       1\n",
       "19656.53       1     0       1\n",
       "25691.16       1     0       1\n",
       "All       284315   492  284807\n",
       "\n",
       "[32768 rows x 3 columns]"
      ]
     },
     "execution_count": 41,
     "metadata": {},
     "output_type": "execute_result"
    }
   ],
   "source": [
    "pd.crosstab(df['Class'] == 1, df['Amount'], margins=True).T"
   ]
  },
  {
   "cell_type": "markdown",
   "metadata": {},
   "source": [
    "<a id='430'></a>\n",
    "### C. Data Preprocessing"
   ]
  },
  {
   "cell_type": "markdown",
   "metadata": {},
   "source": [
    "#### Drop unwanted columns"
   ]
  },
  {
   "cell_type": "code",
   "execution_count": 44,
   "metadata": {},
   "outputs": [],
   "source": [
    "#column unnamed is just index.\n",
    "#column Time I shrinked it to minutes and hours and I don't need it anymore.\n",
    "#column Amount, I already created the Amount_log for that.\n",
    "df.drop(columns=['Time','Amount'], axis=1, inplace=True)"
   ]
  },
  {
   "cell_type": "code",
   "execution_count": 45,
   "metadata": {},
   "outputs": [
    {
     "data": {
      "text/plain": [
       "Index(['V1', 'V2', 'V3', 'V4', 'V5', 'V6', 'V7', 'V8', 'V9', 'V10', 'V11',\n",
       "       'V12', 'V13', 'V14', 'V15', 'V16', 'V17', 'V18', 'V19', 'V20', 'V21',\n",
       "       'V22', 'V23', 'V24', 'V25', 'V26', 'V27', 'V28', 'Class', 'Time_min',\n",
       "       'Time_hour', 'Amount_log'],\n",
       "      dtype='object')"
      ]
     },
     "execution_count": 45,
     "metadata": {},
     "output_type": "execute_result"
    }
   ],
   "source": [
    "df.columns"
   ]
  },
  {
   "cell_type": "code",
   "execution_count": 46,
   "metadata": {},
   "outputs": [
    {
     "name": "stdout",
     "output_type": "stream",
     "text": [
      "<class 'pandas.core.frame.DataFrame'>\n",
      "RangeIndex: 284807 entries, 0 to 284806\n",
      "Data columns (total 32 columns):\n",
      " #   Column      Non-Null Count   Dtype  \n",
      "---  ------      --------------   -----  \n",
      " 0   V1          284807 non-null  float64\n",
      " 1   V2          284807 non-null  float64\n",
      " 2   V3          284807 non-null  float64\n",
      " 3   V4          284807 non-null  float64\n",
      " 4   V5          284807 non-null  float64\n",
      " 5   V6          284807 non-null  float64\n",
      " 6   V7          284807 non-null  float64\n",
      " 7   V8          284807 non-null  float64\n",
      " 8   V9          284807 non-null  float64\n",
      " 9   V10         284807 non-null  float64\n",
      " 10  V11         284807 non-null  float64\n",
      " 11  V12         284807 non-null  float64\n",
      " 12  V13         284807 non-null  float64\n",
      " 13  V14         284807 non-null  float64\n",
      " 14  V15         284807 non-null  float64\n",
      " 15  V16         284807 non-null  float64\n",
      " 16  V17         284807 non-null  float64\n",
      " 17  V18         284807 non-null  float64\n",
      " 18  V19         284807 non-null  float64\n",
      " 19  V20         284807 non-null  float64\n",
      " 20  V21         284807 non-null  float64\n",
      " 21  V22         284807 non-null  float64\n",
      " 22  V23         284807 non-null  float64\n",
      " 23  V24         284807 non-null  float64\n",
      " 24  V25         284807 non-null  float64\n",
      " 25  V26         284807 non-null  float64\n",
      " 26  V27         284807 non-null  float64\n",
      " 27  V28         284807 non-null  float64\n",
      " 28  Class       284807 non-null  int64  \n",
      " 29  Time_min    284807 non-null  int32  \n",
      " 30  Time_hour   284807 non-null  int32  \n",
      " 31  Amount_log  284807 non-null  float64\n",
      "dtypes: float64(29), int32(2), int64(1)\n",
      "memory usage: 67.4 MB\n"
     ]
    }
   ],
   "source": [
    "df.info()"
   ]
  },
  {
   "cell_type": "markdown",
   "metadata": {},
   "source": [
    "<a id='431'></a>\n",
    "### C.1. Model Resampling"
   ]
  },
  {
   "cell_type": "markdown",
   "metadata": {},
   "source": [
    "So far, we analyzed our data and we found out that our target 'Class' is highly imbalanced. We have couple of solutions as follow:<br>\n",
    "\n",
    "1- Leave the data as it is and use the imbalanced dataset which results is *overfitting*.<br>\n",
    "\n",
    "2- Undersapmle the majority class: undersample the majority class means we have 472 class fraud and 282542 class non_fraud and reduce the number of non_fraud to 472 to balance our data with fraud class. However, this is not the best approach as we discarded many useful information which again results in *overfitting* due to we trow away many information.<br>\n",
    "\n",
    "3- Oversample the minority class: oversample the minority class could be a good option in our case. This means we will use SMOTE which works by creating synthetic observations based upon the existing minority observations. One important thing to notice is that we have to do SMOTE during the cross validation and not before cross validation. The reason for that is because if we do SMOTE before cross validation, the training and validation set contain the same sample, resulting in overfitting and data leakage, hence misleading results."
   ]
  },
  {
   "cell_type": "code",
   "execution_count": 47,
   "metadata": {},
   "outputs": [],
   "source": [
    "from imblearn.pipeline import make_pipeline as make_pipeline_imb # To do our transformation in a unique time\n",
    "from imblearn.over_sampling import SMOTE\n",
    "from sklearn.pipeline import make_pipeline\n",
    "from imblearn.metrics import classification_report_imbalanced\n",
    "\n",
    "from sklearn.model_selection import train_test_split\n",
    "from collections import Counter\n",
    "\n",
    "from sklearn.linear_model import LogisticRegression\n",
    "from sklearn.ensemble import RandomForestClassifier\n",
    "\n",
    "from sklearn.metrics import precision_score, recall_score, fbeta_score, confusion_matrix, precision_recall_curve, accuracy_score"
   ]
  },
  {
   "cell_type": "code",
   "execution_count": 48,
   "metadata": {},
   "outputs": [],
   "source": [
    "X = df.drop(['Class'], axis=1).values\n",
    "y= df['Class'].values"
   ]
  },
  {
   "cell_type": "code",
   "execution_count": 49,
   "metadata": {},
   "outputs": [
    {
     "name": "stdout",
     "output_type": "stream",
     "text": [
      "normal data distribution: Counter({0: 284315, 1: 492})\n",
      "SMOTE data distribution: Counter({0: 284315, 1: 284315})\n"
     ]
    }
   ],
   "source": [
    "# the function that we will use to better evaluate the model\n",
    "def print_results(headline, true_value, pred):\n",
    "    print(headline)\n",
    "    print(\"accuracy: {}\".format(accuracy_score(true_value, pred)))\n",
    "    print(\"precision: {}\".format(precision_score(true_value, pred)))\n",
    "    print(\"recall: {}\".format(recall_score(true_value, pred)))\n",
    "    print(\"f2: {}\".format(fbeta_score(true_value, pred, beta=2)))\n",
    "\n",
    "# splitting data into training and test set\n",
    "X_train, X_test, y_train, y_test = train_test_split(X, y, test_size=0.20, random_state=42)\n",
    "\n",
    "classifier = RandomForestClassifier\n",
    "\n",
    "# build model with SMOTE imblearn\n",
    "smote_pipeline = make_pipeline_imb(SMOTE(random_state=4), \\\n",
    "                                   classifier(random_state=42))\n",
    "\n",
    "smote_model = smote_pipeline.fit(X_train, y_train)\n",
    "smote_prediction = smote_model.predict(X_test)\n",
    "\n",
    "#Showing the diference before and after the transformation used\n",
    "print(\"normal data distribution: {}\".format(Counter(y)))\n",
    "X_smote, y_smote = SMOTE().fit_sample(X, y)\n",
    "print(\"SMOTE data distribution: {}\".format(Counter(y_smote)))"
   ]
  },
  {
   "cell_type": "markdown",
   "metadata": {},
   "source": [
    "Good, here we've synthetically increased our data set using SMOTE oversample method and now we've a balanced the dataset."
   ]
  },
  {
   "cell_type": "markdown",
   "metadata": {},
   "source": [
    "Now, we will use binary **classification performances measurements** to evaluate the performance of our model. Here, I explained the definition and how you calculate each performance.<br>\n",
    "\n",
    "**Confusion Matrix:** we will use confusion matrix to evaluate the performance of the classification model. \n",
    "\n",
    "**Classification Accuracy:** (TP + TN) / (TP + TN + FP + FN)<br>\n",
    "\n",
    "**Precision:** proportion of predicted positives which are actual positive (or Positive predictive value), TP / (TP + FP)<br>\n",
    "\n",
    "**Recall:** proportion of actual positives which are predicted positive, TP / (TP + FN)<br>\n",
    "\n",
    "**F1-score:** harmonic mean between precision and recall, 2 * (precision * recall) / (precision + recall)\n"
   ]
  },
  {
   "cell_type": "code",
   "execution_count": 50,
   "metadata": {},
   "outputs": [
    {
     "name": "stdout",
     "output_type": "stream",
     "text": [
      "Confusion Matrix:\n",
      "[[56853    11]\n",
      " [   16    82]]\n",
      "SMOTE Pipeline Score 0.9995259997893332\n",
      "SMOTE + RandomForest classification\n",
      "accuracy: 0.9995259997893332\n",
      "precision: 0.8817204301075269\n",
      "recall: 0.8367346938775511\n",
      "f2: 0.845360824742268\n"
     ]
    }
   ],
   "source": [
    "print('Confusion Matrix:')\n",
    "print(confusion_matrix(y_test, smote_prediction))\n",
    "\n",
    "print('SMOTE Pipeline Score {}'.format(smote_pipeline.score(X_test, y_test)))\n",
    "\n",
    "print_results(\"SMOTE + RandomForest classification\", y_test, smote_prediction)"
   ]
  },
  {
   "cell_type": "markdown",
   "metadata": {},
   "source": [
    "Recall: FN is very important for us here. "
   ]
  },
  {
   "cell_type": "markdown",
   "metadata": {},
   "source": [
    "<a id='432'></a>\n",
    "### C.2. Feature Importance"
   ]
  },
  {
   "cell_type": "code",
   "execution_count": 51,
   "metadata": {},
   "outputs": [
    {
     "data": {
      "text/plain": [
       "XGBRegressor(base_score=0.5, booster='gbtree', colsample_bylevel=1,\n",
       "             colsample_bytree=1, gamma=0, learning_rate=0.1, max_delta_step=0,\n",
       "             max_depth=3, min_child_weight=1, missing=None, n_estimators=100,\n",
       "             n_jobs=1, nthread=None, objective='reg:linear', random_state=0,\n",
       "             reg_alpha=0, reg_lambda=1, scale_pos_weight=1, seed=None,\n",
       "             silent=True, subsample=1)"
      ]
     },
     "execution_count": 51,
     "metadata": {},
     "output_type": "execute_result"
    }
   ],
   "source": [
    "import xgboost as xgb\n",
    "    \n",
    "model = xgb.XGBRegressor()\n",
    "model.fit(X,y)"
   ]
  },
  {
   "cell_type": "code",
   "execution_count": 52,
   "metadata": {},
   "outputs": [
    {
     "data": {
      "text/plain": [
       "Index(['V1', 'V2', 'V3', 'V4', 'V5', 'V6', 'V7', 'V8', 'V9', 'V10', 'V11',\n",
       "       'V12', 'V13', 'V14', 'V15', 'V16', 'V17', 'V18', 'V19', 'V20', 'V21',\n",
       "       'V22', 'V23', 'V24', 'V25', 'V26', 'V27', 'V28', 'Time_min',\n",
       "       'Time_hour', 'Amount_log'],\n",
       "      dtype='object')"
      ]
     },
     "execution_count": 52,
     "metadata": {},
     "output_type": "execute_result"
    }
   ],
   "source": [
    "columns = df.columns.drop('Class')\n",
    "columns"
   ]
  },
  {
   "cell_type": "code",
   "execution_count": 53,
   "metadata": {},
   "outputs": [
    {
     "data": {
      "text/plain": [
       "[Text(0, 0, 'V1'),\n",
       " Text(0, 0, 'V2'),\n",
       " Text(0, 0, 'V3'),\n",
       " Text(0, 0, 'V4'),\n",
       " Text(0, 0, 'V5'),\n",
       " Text(0, 0, 'V6'),\n",
       " Text(0, 0, 'V7'),\n",
       " Text(0, 0, 'V8'),\n",
       " Text(0, 0, 'V9'),\n",
       " Text(0, 0, 'V10'),\n",
       " Text(0, 0, 'V11'),\n",
       " Text(0, 0, 'V12'),\n",
       " Text(0, 0, 'V13'),\n",
       " Text(0, 0, 'V14'),\n",
       " Text(0, 0, 'V15'),\n",
       " Text(0, 0, 'V16'),\n",
       " Text(0, 0, 'V17'),\n",
       " Text(0, 0, 'V18'),\n",
       " Text(0, 0, 'V19'),\n",
       " Text(0, 0, 'V20'),\n",
       " Text(0, 0, 'V21'),\n",
       " Text(0, 0, 'V22'),\n",
       " Text(0, 0, 'V23'),\n",
       " Text(0, 0, 'V24'),\n",
       " Text(0, 0, 'V25'),\n",
       " Text(0, 0, 'V26'),\n",
       " Text(0, 0, 'V27'),\n",
       " Text(0, 0, 'V28'),\n",
       " Text(0, 0, 'Time_min')]"
      ]
     },
     "execution_count": 53,
     "metadata": {},
     "output_type": "execute_result"
    },
    {
     "data": {
      "image/png": "[encoded data removed]",
      "text/plain": [
       "<Figure size 1008x504 with 1 Axes>"
      ]
     },
     "metadata": {},
     "output_type": "display_data"
    }
   ],
   "source": [
    "plt.rcParams[\"figure.figsize\"] = (14, 7)\n",
    "xgb.plot_importance(model, ).set_yticklabels(columns)"
   ]
  },
  {
   "cell_type": "markdown",
   "metadata": {},
   "source": [
    "Very cool. It seems that using XGBRegressor for feature importance, 'Time_min' feature has the most effect on fraud detection."
   ]
  },
  {
   "cell_type": "markdown",
   "metadata": {},
   "source": [
    "<a id='433'></a>\n",
    "### C.3. Normalize Data"
   ]
  },
  {
   "cell_type": "code",
   "execution_count": 55,
   "metadata": {},
   "outputs": [],
   "source": [
    "from sklearn.preprocessing import StandardScaler"
   ]
  },
  {
   "cell_type": "code",
   "execution_count": 56,
   "metadata": {},
   "outputs": [],
   "source": [
    "standard_scaler = StandardScaler()\n",
    "\n",
    "X_scaled = standard_scaler.fit_transform(X)"
   ]
  },
  {
   "cell_type": "code",
   "execution_count": 58,
   "metadata": {},
   "outputs": [],
   "source": [
    "column_names = ['V1', 'V2', 'V3', 'V4', 'V5', 'V6', 'V7', 'V8', 'V9', 'V10', 'V11',\n",
    "       'V12', 'V13', 'V14', 'V15', 'V16', 'V17', 'V18', 'V19', 'V20', 'V21',\n",
    "       'V22', 'V23', 'V24', 'V25', 'V26', 'V27', 'V28', 'Time_min', 'Time_hour', 'Amount_log']\n",
    "df_scaled = pd.DataFrame(data = X_scaled, columns=column_names)"
   ]
  },
  {
   "cell_type": "code",
   "execution_count": 59,
   "metadata": {},
   "outputs": [
    {
     "data": {
      "text/html": [
       "<div>\n",
       "<style scoped>\n",
       "    .dataframe tbody tr th:only-of-type {\n",
       "        vertical-align: middle;\n",
       "    }\n",
       "\n",
       "    .dataframe tbody tr th {\n",
       "        vertical-align: top;\n",
       "    }\n",
       "\n",
       "    .dataframe thead th {\n",
       "        text-align: right;\n",
       "    }\n",
       "</style>\n",
       "<table border=\"1\" class=\"dataframe\">\n",
       "  <thead>\n",
       "    <tr style=\"text-align: right;\">\n",
       "      <th></th>\n",
       "      <th>V1</th>\n",
       "      <th>V2</th>\n",
       "      <th>V3</th>\n",
       "      <th>V4</th>\n",
       "      <th>V5</th>\n",
       "      <th>V6</th>\n",
       "      <th>V7</th>\n",
       "      <th>V8</th>\n",
       "      <th>V9</th>\n",
       "      <th>V10</th>\n",
       "      <th>...</th>\n",
       "      <th>V22</th>\n",
       "      <th>V23</th>\n",
       "      <th>V24</th>\n",
       "      <th>V25</th>\n",
       "      <th>V26</th>\n",
       "      <th>V27</th>\n",
       "      <th>V28</th>\n",
       "      <th>Time_min</th>\n",
       "      <th>Time_hour</th>\n",
       "      <th>Amount_log</th>\n",
       "    </tr>\n",
       "  </thead>\n",
       "  <tbody>\n",
       "    <tr>\n",
       "      <th>0</th>\n",
       "      <td>-0.694242</td>\n",
       "      <td>-0.044075</td>\n",
       "      <td>1.672773</td>\n",
       "      <td>0.973366</td>\n",
       "      <td>-0.245117</td>\n",
       "      <td>0.347068</td>\n",
       "      <td>0.193679</td>\n",
       "      <td>0.082637</td>\n",
       "      <td>0.331128</td>\n",
       "      <td>0.083386</td>\n",
       "      <td>...</td>\n",
       "      <td>0.382854</td>\n",
       "      <td>-0.176911</td>\n",
       "      <td>0.110507</td>\n",
       "      <td>0.246585</td>\n",
       "      <td>-0.392170</td>\n",
       "      <td>0.330892</td>\n",
       "      <td>-0.063781</td>\n",
       "      <td>-1.663837</td>\n",
       "      <td>-2.40693</td>\n",
       "      <td>1.020920</td>\n",
       "    </tr>\n",
       "    <tr>\n",
       "      <th>1</th>\n",
       "      <td>0.608496</td>\n",
       "      <td>0.161176</td>\n",
       "      <td>0.109797</td>\n",
       "      <td>0.316523</td>\n",
       "      <td>0.043483</td>\n",
       "      <td>-0.061820</td>\n",
       "      <td>-0.063700</td>\n",
       "      <td>0.071253</td>\n",
       "      <td>-0.232494</td>\n",
       "      <td>-0.153350</td>\n",
       "      <td>...</td>\n",
       "      <td>-0.880077</td>\n",
       "      <td>0.162201</td>\n",
       "      <td>-0.561131</td>\n",
       "      <td>0.320694</td>\n",
       "      <td>0.261069</td>\n",
       "      <td>-0.022256</td>\n",
       "      <td>0.044608</td>\n",
       "      <td>-1.663837</td>\n",
       "      <td>-2.40693</td>\n",
       "      <td>-0.964665</td>\n",
       "    </tr>\n",
       "    <tr>\n",
       "      <th>2</th>\n",
       "      <td>-0.693500</td>\n",
       "      <td>-0.811578</td>\n",
       "      <td>1.169468</td>\n",
       "      <td>0.268231</td>\n",
       "      <td>-0.364572</td>\n",
       "      <td>1.351454</td>\n",
       "      <td>0.639776</td>\n",
       "      <td>0.207373</td>\n",
       "      <td>-1.378675</td>\n",
       "      <td>0.190700</td>\n",
       "      <td>...</td>\n",
       "      <td>1.063358</td>\n",
       "      <td>1.456320</td>\n",
       "      <td>-1.138092</td>\n",
       "      <td>-0.628537</td>\n",
       "      <td>-0.288447</td>\n",
       "      <td>-0.137137</td>\n",
       "      <td>-0.181021</td>\n",
       "      <td>-1.663837</td>\n",
       "      <td>-2.40693</td>\n",
       "      <td>1.479755</td>\n",
       "    </tr>\n",
       "    <tr>\n",
       "      <th>3</th>\n",
       "      <td>-0.493325</td>\n",
       "      <td>-0.112169</td>\n",
       "      <td>1.182516</td>\n",
       "      <td>-0.609727</td>\n",
       "      <td>-0.007469</td>\n",
       "      <td>0.936150</td>\n",
       "      <td>0.192071</td>\n",
       "      <td>0.316018</td>\n",
       "      <td>-1.262503</td>\n",
       "      <td>-0.050468</td>\n",
       "      <td>...</td>\n",
       "      <td>0.007267</td>\n",
       "      <td>-0.304777</td>\n",
       "      <td>-1.941027</td>\n",
       "      <td>1.241904</td>\n",
       "      <td>-0.460217</td>\n",
       "      <td>0.155396</td>\n",
       "      <td>0.186189</td>\n",
       "      <td>-1.663837</td>\n",
       "      <td>-2.40693</td>\n",
       "      <td>0.926114</td>\n",
       "    </tr>\n",
       "    <tr>\n",
       "      <th>4</th>\n",
       "      <td>-0.591330</td>\n",
       "      <td>0.531541</td>\n",
       "      <td>1.021412</td>\n",
       "      <td>0.284655</td>\n",
       "      <td>-0.295015</td>\n",
       "      <td>0.071999</td>\n",
       "      <td>0.479302</td>\n",
       "      <td>-0.226510</td>\n",
       "      <td>0.744326</td>\n",
       "      <td>0.691625</td>\n",
       "      <td>...</td>\n",
       "      <td>1.100011</td>\n",
       "      <td>-0.220123</td>\n",
       "      <td>0.233250</td>\n",
       "      <td>-0.395202</td>\n",
       "      <td>1.041611</td>\n",
       "      <td>0.543620</td>\n",
       "      <td>0.651816</td>\n",
       "      <td>-1.663837</td>\n",
       "      <td>-2.40693</td>\n",
       "      <td>0.645496</td>\n",
       "    </tr>\n",
       "  </tbody>\n",
       "</table>\n",
       "<p>5 rows × 31 columns</p>\n",
       "</div>"
      ],
      "text/plain": [
       "         V1        V2        V3        V4        V5        V6        V7  \\\n",
       "0 -0.694242 -0.044075  1.672773  0.973366 -0.245117  0.347068  0.193679   \n",
       "1  0.608496  0.161176  0.109797  0.316523  0.043483 -0.061820 -0.063700   \n",
       "2 -0.693500 -0.811578  1.169468  0.268231 -0.364572  1.351454  0.639776   \n",
       "3 -0.493325 -0.112169  1.182516 -0.609727 -0.007469  0.936150  0.192071   \n",
       "4 -0.591330  0.531541  1.021412  0.284655 -0.295015  0.071999  0.479302   \n",
       "\n",
       "         V8        V9       V10  ...       V22       V23       V24       V25  \\\n",
       "0  0.082637  0.331128  0.083386  ...  0.382854 -0.176911  0.110507  0.246585   \n",
       "1  0.071253 -0.232494 -0.153350  ... -0.880077  0.162201 -0.561131  0.320694   \n",
       "2  0.207373 -1.378675  0.190700  ...  1.063358  1.456320 -1.138092 -0.628537   \n",
       "3  0.316018 -1.262503 -0.050468  ...  0.007267 -0.304777 -1.941027  1.241904   \n",
       "4 -0.226510  0.744326  0.691625  ...  1.100011 -0.220123  0.233250 -0.395202   \n",
       "\n",
       "        V26       V27       V28  Time_min  Time_hour  Amount_log  \n",
       "0 -0.392170  0.330892 -0.063781 -1.663837   -2.40693    1.020920  \n",
       "1  0.261069 -0.022256  0.044608 -1.663837   -2.40693   -0.964665  \n",
       "2 -0.288447 -0.137137 -0.181021 -1.663837   -2.40693    1.479755  \n",
       "3 -0.460217  0.155396  0.186189 -1.663837   -2.40693    0.926114  \n",
       "4  1.041611  0.543620  0.651816 -1.663837   -2.40693    0.645496  \n",
       "\n",
       "[5 rows x 31 columns]"
      ]
     },
     "execution_count": 59,
     "metadata": {},
     "output_type": "execute_result"
    }
   ],
   "source": [
    "df_scaled.head()"
   ]
  },
  {
   "cell_type": "markdown",
   "metadata": {},
   "source": [
    "<a id='5'></a>\n",
    "### 5. Model developement\n",
    "    A. XGBoost\n",
    "    B. PCA\n",
    "    C. GridSeachCV\n",
    "    D. RandomForestClassifer\n",
    "    E. AdaboostClassifier\n",
    "    F. CatboostClassifier\n",
    "    G. Keras"
   ]
  },
  {
   "cell_type": "markdown",
   "metadata": {},
   "source": [
    "<a id='51'></a>\n",
    "### A. Model prediction with XGBoost"
   ]
  },
  {
   "cell_type": "code",
   "execution_count": 60,
   "metadata": {},
   "outputs": [],
   "source": [
    "X = df_scaled.values\n",
    "y= df['Class'].values"
   ]
  },
  {
   "cell_type": "code",
   "execution_count": 61,
   "metadata": {},
   "outputs": [
    {
     "data": {
      "text/plain": [
       "((284807, 31), (284807,))"
      ]
     },
     "execution_count": 61,
     "metadata": {},
     "output_type": "execute_result"
    }
   ],
   "source": [
    "X.shape, y.shape"
   ]
  },
  {
   "cell_type": "code",
   "execution_count": 62,
   "metadata": {},
   "outputs": [],
   "source": [
    "# splitting data into training and test set\n",
    "X_train, X_test, y_train, y_test = train_test_split(X, y, test_size=0.20, random_state=42)"
   ]
  },
  {
   "cell_type": "code",
   "execution_count": 63,
   "metadata": {},
   "outputs": [],
   "source": [
    "from xgboost import XGBClassifier"
   ]
  },
  {
   "cell_type": "code",
   "execution_count": 64,
   "metadata": {},
   "outputs": [],
   "source": [
    "xgb = XGBClassifier(learning_rate=0.1, n_estimators=1000)"
   ]
  },
  {
   "cell_type": "code",
   "execution_count": 65,
   "metadata": {},
   "outputs": [
    {
     "data": {
      "text/plain": [
       "XGBClassifier(base_score=0.5, booster='gbtree', colsample_bylevel=1,\n",
       "              colsample_bytree=1, gamma=0, learning_rate=0.1, max_delta_step=0,\n",
       "              max_depth=3, min_child_weight=1, missing=None, n_estimators=1000,\n",
       "              n_jobs=1, nthread=None, objective='binary:logistic',\n",
       "              random_state=0, reg_alpha=0, reg_lambda=1, scale_pos_weight=1,\n",
       "              seed=None, silent=True, subsample=1)"
      ]
     },
     "execution_count": 65,
     "metadata": {},
     "output_type": "execute_result"
    }
   ],
   "source": [
    "xgb.fit(X_train, y_train)"
   ]
  },
  {
   "cell_type": "code",
   "execution_count": 66,
   "metadata": {},
   "outputs": [],
   "source": [
    "pred = xgb.predict(X_test)"
   ]
  },
  {
   "cell_type": "code",
   "execution_count": 67,
   "metadata": {},
   "outputs": [
    {
     "data": {
      "text/plain": [
       "0.9995962220427653"
      ]
     },
     "execution_count": 67,
     "metadata": {},
     "output_type": "execute_result"
    }
   ],
   "source": [
    "accuracy_score(y_test, pred)"
   ]
  },
  {
   "cell_type": "code",
   "execution_count": 68,
   "metadata": {},
   "outputs": [
    {
     "data": {
      "text/plain": [
       "0.7959183673469388"
      ]
     },
     "execution_count": 68,
     "metadata": {},
     "output_type": "execute_result"
    }
   ],
   "source": [
    "recall_score(y_test, pred)"
   ]
  },
  {
   "cell_type": "code",
   "execution_count": 69,
   "metadata": {},
   "outputs": [
    {
     "name": "stdout",
     "output_type": "stream",
     "text": [
      "              precision    recall  f1-score   support\n",
      "\n",
      "           0       1.00      1.00      1.00     56864\n",
      "           1       0.96      0.80      0.87        98\n",
      "\n",
      "    accuracy                           1.00     56962\n",
      "   macro avg       0.98      0.90      0.94     56962\n",
      "weighted avg       1.00      1.00      1.00     56962\n",
      "\n"
     ]
    }
   ],
   "source": [
    "print(classification_report(y_test, pred))"
   ]
  },
  {
   "cell_type": "markdown",
   "metadata": {},
   "source": [
    "<a id='52'></a>\n",
    "### B. Model prediction with PCA"
   ]
  },
  {
   "cell_type": "code",
   "execution_count": 70,
   "metadata": {},
   "outputs": [],
   "source": [
    "from sklearn.decomposition import PCA"
   ]
  },
  {
   "cell_type": "code",
   "execution_count": 71,
   "metadata": {},
   "outputs": [],
   "source": [
    "pca = PCA(n_components=20)"
   ]
  },
  {
   "cell_type": "code",
   "execution_count": 72,
   "metadata": {},
   "outputs": [],
   "source": [
    "pca_selected = pca.fit_transform(X)"
   ]
  },
  {
   "cell_type": "code",
   "execution_count": 73,
   "metadata": {},
   "outputs": [
    {
     "data": {
      "text/plain": [
       "(284807, 20)"
      ]
     },
     "execution_count": 73,
     "metadata": {},
     "output_type": "execute_result"
    }
   ],
   "source": [
    "pca_selected.shape"
   ]
  },
  {
   "cell_type": "code",
   "execution_count": 74,
   "metadata": {},
   "outputs": [
    {
     "data": {
      "text/plain": [
       "array([1.55994273, 1.51700915, 1.03065591, 1.00000351, 1.00000351,\n",
       "       1.00000351, 1.00000351, 1.00000351, 1.00000351, 1.00000351,\n",
       "       1.00000351, 1.00000351, 1.00000351, 1.00000351, 1.00000351,\n",
       "       1.00000351, 1.00000351, 1.00000351, 1.00000351, 1.00000351])"
      ]
     },
     "execution_count": 74,
     "metadata": {},
     "output_type": "execute_result"
    }
   ],
   "source": [
    "pca.explained_variance_"
   ]
  },
  {
   "cell_type": "markdown",
   "metadata": {},
   "source": [
    "The pca.explained_variance_ shows that most of our features are very important for model prediction."
   ]
  },
  {
   "cell_type": "code",
   "execution_count": 75,
   "metadata": {},
   "outputs": [],
   "source": [
    "# splitting data into training and test set\n",
    "X_train, X_test, y_train, y_test = train_test_split(pca_selected, y, random_state=2, test_size=0.20)"
   ]
  },
  {
   "cell_type": "code",
   "execution_count": 76,
   "metadata": {},
   "outputs": [
    {
     "data": {
      "text/plain": [
       "XGBClassifier(base_score=0.5, booster='gbtree', colsample_bylevel=1,\n",
       "              colsample_bytree=1, gamma=0, learning_rate=0.1, max_delta_step=0,\n",
       "              max_depth=3, min_child_weight=1, missing=None, n_estimators=1000,\n",
       "              n_jobs=1, nthread=None, objective='binary:logistic',\n",
       "              random_state=0, reg_alpha=0, reg_lambda=1, scale_pos_weight=1,\n",
       "              seed=None, silent=True, subsample=1)"
      ]
     },
     "execution_count": 76,
     "metadata": {},
     "output_type": "execute_result"
    }
   ],
   "source": [
    "xgb.fit(X_train, y_train)"
   ]
  },
  {
   "cell_type": "code",
   "execution_count": 77,
   "metadata": {},
   "outputs": [],
   "source": [
    "pred = xgb.predict(X_test)"
   ]
  },
  {
   "cell_type": "code",
   "execution_count": 78,
   "metadata": {},
   "outputs": [
    {
     "name": "stdout",
     "output_type": "stream",
     "text": [
      "              precision    recall  f1-score   support\n",
      "\n",
      "           0       1.00      1.00      1.00     56886\n",
      "           1       0.85      0.93      0.89        76\n",
      "\n",
      "    accuracy                           1.00     56962\n",
      "   macro avg       0.92      0.97      0.94     56962\n",
      "weighted avg       1.00      1.00      1.00     56962\n",
      "\n"
     ]
    }
   ],
   "source": [
    "print(classification_report(pred, y_test))"
   ]
  },
  {
   "cell_type": "markdown",
   "metadata": {},
   "source": [
    "<a id='53'></a>\n",
    "### C. GridSearch"
   ]
  },
  {
   "cell_type": "code",
   "execution_count": 84,
   "metadata": {},
   "outputs": [],
   "source": [
    "from sklearn.model_selection import GridSearchCV"
   ]
  },
  {
   "cell_type": "code",
   "execution_count": 81,
   "metadata": {},
   "outputs": [],
   "source": [
    "# combination of 3x3=9 hyperparameters\n",
    "params = [{'learning_rate': [0.1, 0.01, 0.001], \n",
    "          'n_estimators':[100, 500, 1000]}]"
   ]
  },
  {
   "cell_type": "code",
   "execution_count": 82,
   "metadata": {},
   "outputs": [],
   "source": [
    "grid_search = GridSearchCV(xgb, params, cv=5, scoring='recall', return_train_score=True)"
   ]
  },
  {
   "cell_type": "code",
   "execution_count": 103,
   "metadata": {},
   "outputs": [],
   "source": [
    "#grid_search.fit(X_train, y_train)"
   ]
  },
  {
   "cell_type": "code",
   "execution_count": null,
   "metadata": {},
   "outputs": [],
   "source": [
    "grid_search.best_params_"
   ]
  },
  {
   "cell_type": "code",
   "execution_count": null,
   "metadata": {},
   "outputs": [],
   "source": [
    "grid_search.best_estimator"
   ]
  },
  {
   "cell_type": "code",
   "execution_count": null,
   "metadata": {},
   "outputs": [],
   "source": []
  },
  {
   "cell_type": "markdown",
   "metadata": {},
   "source": [
    "<a id='54'></a>\n",
    "### D. Model prediction with RandomForestClassifier"
   ]
  },
  {
   "cell_type": "code",
   "execution_count": 85,
   "metadata": {},
   "outputs": [],
   "source": [
    "rfc = RandomForestClassifier(n_estimators=100, criterion='gini', \n",
    "                             n_jobs=-1, random_state=42, verbose=False)"
   ]
  },
  {
   "cell_type": "code",
   "execution_count": 86,
   "metadata": {},
   "outputs": [
    {
     "data": {
      "text/plain": [
       "RandomForestClassifier(bootstrap=True, ccp_alpha=0.0, class_weight=None,\n",
       "                       criterion='gini', max_depth=None, max_features='auto',\n",
       "                       max_leaf_nodes=None, max_samples=None,\n",
       "                       min_impurity_decrease=0.0, min_impurity_split=None,\n",
       "                       min_samples_leaf=1, min_samples_split=2,\n",
       "                       min_weight_fraction_leaf=0.0, n_estimators=100,\n",
       "                       n_jobs=-1, oob_score=False, random_state=42,\n",
       "                       verbose=False, warm_start=False)"
      ]
     },
     "execution_count": 86,
     "metadata": {},
     "output_type": "execute_result"
    }
   ],
   "source": [
    "rfc.fit(X_train, y_train)"
   ]
  },
  {
   "cell_type": "code",
   "execution_count": 87,
   "metadata": {},
   "outputs": [],
   "source": [
    "pred = rfc.predict(X_test)"
   ]
  },
  {
   "cell_type": "code",
   "execution_count": 88,
   "metadata": {},
   "outputs": [
    {
     "name": "stdout",
     "output_type": "stream",
     "text": [
      "              precision    recall  f1-score   support\n",
      "\n",
      "           0       1.00      1.00      1.00     56889\n",
      "           1       0.81      0.93      0.87        73\n",
      "\n",
      "    accuracy                           1.00     56962\n",
      "   macro avg       0.90      0.97      0.93     56962\n",
      "weighted avg       1.00      1.00      1.00     56962\n",
      "\n"
     ]
    }
   ],
   "source": [
    "print(classification_report(pred, y_test))"
   ]
  },
  {
   "cell_type": "code",
   "execution_count": 89,
   "metadata": {},
   "outputs": [
    {
     "data": {
      "text/plain": [
       "0.9047179510363869"
      ]
     },
     "execution_count": 89,
     "metadata": {},
     "output_type": "execute_result"
    }
   ],
   "source": [
    "roc_auc_score(y_test, pred)"
   ]
  },
  {
   "cell_type": "markdown",
   "metadata": {},
   "source": [
    "<a id='55'></a>\n",
    "### E. Model prediction with AdaBoostClassifier"
   ]
  },
  {
   "cell_type": "code",
   "execution_count": 90,
   "metadata": {},
   "outputs": [],
   "source": [
    "abc = AdaBoostClassifier(n_estimators=100, learning_rate=0.9,\n",
    "                         algorithm='SAMME.R', random_state=42)"
   ]
  },
  {
   "cell_type": "code",
   "execution_count": 91,
   "metadata": {},
   "outputs": [
    {
     "data": {
      "text/plain": [
       "AdaBoostClassifier(algorithm='SAMME.R', base_estimator=None, learning_rate=0.9,\n",
       "                   n_estimators=100, random_state=42)"
      ]
     },
     "execution_count": 91,
     "metadata": {},
     "output_type": "execute_result"
    }
   ],
   "source": [
    "abc.fit(X_train, y_train)"
   ]
  },
  {
   "cell_type": "code",
   "execution_count": 92,
   "metadata": {},
   "outputs": [],
   "source": [
    "pred = abc.predict(X_test)"
   ]
  },
  {
   "cell_type": "code",
   "execution_count": 93,
   "metadata": {},
   "outputs": [
    {
     "name": "stdout",
     "output_type": "stream",
     "text": [
      "              precision    recall  f1-score   support\n",
      "\n",
      "           0       1.00      1.00      1.00     56885\n",
      "           1       0.77      0.84      0.81        77\n",
      "\n",
      "    accuracy                           1.00     56962\n",
      "   macro avg       0.89      0.92      0.90     56962\n",
      "weighted avg       1.00      1.00      1.00     56962\n",
      "\n"
     ]
    }
   ],
   "source": [
    "print(classification_report(pred, y_test))"
   ]
  },
  {
   "cell_type": "code",
   "execution_count": 94,
   "metadata": {},
   "outputs": [
    {
     "data": {
      "text/plain": [
       "0.8867992729635191"
      ]
     },
     "execution_count": 94,
     "metadata": {},
     "output_type": "execute_result"
    }
   ],
   "source": [
    "roc_auc_score(y_test, pred)"
   ]
  },
  {
   "cell_type": "markdown",
   "metadata": {},
   "source": [
    "<a id='56'></a>\n",
    "### F. Model prediction with CatBoostClassifier "
   ]
  },
  {
   "cell_type": "code",
   "execution_count": 95,
   "metadata": {},
   "outputs": [],
   "source": [
    "cbc = CatBoostClassifier(iterations=500,\n",
    "                             learning_rate=0.02,\n",
    "                             depth=12,\n",
    "                             eval_metric='AUC',\n",
    "                             random_seed = 42,\n",
    "                             bagging_temperature = 0.2,\n",
    "                             od_type='Iter',\n",
    "                             metric_period = 50,\n",
    "                             od_wait=100)"
   ]
  },
  {
   "cell_type": "code",
   "execution_count": 96,
   "metadata": {},
   "outputs": [
    {
     "name": "stdout",
     "output_type": "stream",
     "text": [
      "0:\ttotal: 673ms\tremaining: 5m 35s\n",
      "50:\ttotal: 25.2s\tremaining: 3m 41s\n",
      "100:\ttotal: 48.5s\tremaining: 3m 11s\n",
      "150:\ttotal: 1m 12s\tremaining: 2m 47s\n",
      "200:\ttotal: 1m 33s\tremaining: 2m 18s\n",
      "250:\ttotal: 1m 52s\tremaining: 1m 51s\n",
      "300:\ttotal: 2m 11s\tremaining: 1m 27s\n",
      "350:\ttotal: 2m 33s\tremaining: 1m 5s\n",
      "400:\ttotal: 2m 55s\tremaining: 43.2s\n",
      "450:\ttotal: 3m 15s\tremaining: 21.2s\n",
      "499:\ttotal: 3m 36s\tremaining: 0us\n"
     ]
    },
    {
     "data": {
      "text/plain": [
       "<catboost.core.CatBoostClassifier at 0x2bf62ff4668>"
      ]
     },
     "execution_count": 96,
     "metadata": {},
     "output_type": "execute_result"
    }
   ],
   "source": [
    "cbc.fit(X_train, y_train, verbose=True)"
   ]
  },
  {
   "cell_type": "code",
   "execution_count": 97,
   "metadata": {},
   "outputs": [],
   "source": [
    "pred = cbc.predict(X_test)"
   ]
  },
  {
   "cell_type": "code",
   "execution_count": 98,
   "metadata": {},
   "outputs": [
    {
     "name": "stdout",
     "output_type": "stream",
     "text": [
      "              precision    recall  f1-score   support\n",
      "\n",
      "           0       1.00      1.00      1.00     56887\n",
      "           1       0.83      0.93      0.88        75\n",
      "\n",
      "    accuracy                           1.00     56962\n",
      "   macro avg       0.92      0.97      0.94     56962\n",
      "weighted avg       1.00      1.00      1.00     56962\n",
      "\n"
     ]
    }
   ],
   "source": [
    "print(classification_report(pred, y_test))"
   ]
  },
  {
   "cell_type": "code",
   "execution_count": 99,
   "metadata": {},
   "outputs": [
    {
     "data": {
      "text/plain": [
       "0.9166227129411489"
      ]
     },
     "execution_count": 99,
     "metadata": {},
     "output_type": "execute_result"
    }
   ],
   "source": [
    "roc_auc_score(y_test, pred)"
   ]
  },
  {
   "cell_type": "markdown",
   "metadata": {},
   "source": [
    "<a id='57'></a>\n",
    "### G. Run the deep learning model: using Keras Multilayer Perceptron (MLP)"
   ]
  },
  {
   "cell_type": "code",
   "execution_count": 100,
   "metadata": {},
   "outputs": [
    {
     "data": {
      "text/plain": [
       "('1.13.2', '2.2.4-tf')"
      ]
     },
     "execution_count": 100,
     "metadata": {},
     "output_type": "execute_result"
    }
   ],
   "source": [
    "from sklearn.model_selection import StratifiedKFold\n",
    "from tensorflow import keras\n",
    "from keras.models import Sequential\n",
    "from keras.layers import Dense # Fully connected layers\n",
    "from keras.layers import Dropout #regularization, prevent overfitting, randomly turn off some neurons at each epoch\n",
    "tf.__version__ , keras.__version__"
   ]
  },
  {
   "cell_type": "code",
   "execution_count": 102,
   "metadata": {},
   "outputs": [
    {
     "name": "stdout",
     "output_type": "stream",
     "text": [
      "_________________________________________________________________\n",
      "Layer (type)                 Output Shape              Param #   \n",
      "=================================================================\n",
      "dense_4 (Dense)              (None, 50)                1600      \n",
      "_________________________________________________________________\n",
      "dense_5 (Dense)              (None, 50)                2550      \n",
      "_________________________________________________________________\n",
      "dense_6 (Dense)              (None, 1)                 51        \n",
      "=================================================================\n",
      "Total params: 4,201\n",
      "Trainable params: 4,201\n",
      "Non-trainable params: 0\n",
      "_________________________________________________________________\n",
      "None\n",
      "WARNING:tensorflow:From C:\\ProgramData\\Anaconda3\\lib\\site-packages\\tensorflow\\python\\ops\\math_ops.py:3066: to_int32 (from tensorflow.python.ops.math_ops) is deprecated and will be removed in a future version.\n",
      "Instructions for updating:\n",
      "Use tf.cast instead.\n",
      "Train on 182276 samples, validate on 45569 samples\n",
      "Epoch 1/100\n",
      "182276/182276 [==============================] - 7s 39us/step - loss: 0.0102 - acc: 0.9987 - val_loss: 0.0027 - val_acc: 0.9996\n",
      "Epoch 2/100\n",
      "182276/182276 [==============================] - 6s 36us/step - loss: 0.0032 - acc: 0.9993 - val_loss: 0.0025 - val_acc: 0.9996\n",
      "Epoch 3/100\n",
      "182276/182276 [==============================] - 7s 36us/step - loss: 0.0029 - acc: 0.9994 - val_loss: 0.0022 - val_acc: 0.9996\n",
      "Epoch 4/100\n",
      "182276/182276 [==============================] - 7s 36us/step - loss: 0.0026 - acc: 0.9994 - val_loss: 0.0023 - val_acc: 0.9996\n",
      "Epoch 5/100\n",
      "182276/182276 [==============================] - 6s 34us/step - loss: 0.0024 - acc: 0.9994 - val_loss: 0.0024 - val_acc: 0.9996\n",
      "Epoch 6/100\n",
      "182276/182276 [==============================] - 6s 34us/step - loss: 0.0022 - acc: 0.9994 - val_loss: 0.0023 - val_acc: 0.9996\n",
      "Epoch 7/100\n",
      "182276/182276 [==============================] - 6s 34us/step - loss: 0.0021 - acc: 0.9995 - val_loss: 0.0024 - val_acc: 0.9996\n",
      "Epoch 8/100\n",
      "182276/182276 [==============================] - 6s 33us/step - loss: 0.0020 - acc: 0.9995 - val_loss: 0.0023 - val_acc: 0.9996\n",
      "Epoch 9/100\n",
      "182276/182276 [==============================] - 6s 32us/step - loss: 0.0019 - acc: 0.9995 - val_loss: 0.0024 - val_acc: 0.9996\n",
      "Epoch 10/100\n",
      "182276/182276 [==============================] - 6s 32us/step - loss: 0.0018 - acc: 0.9995 - val_loss: 0.0026 - val_acc: 0.9996\n",
      "Epoch 11/100\n",
      "182276/182276 [==============================] - 6s 33us/step - loss: 0.0018 - acc: 0.9995 - val_loss: 0.0025 - val_acc: 0.9995\n",
      "Epoch 12/100\n",
      "182276/182276 [==============================] - 6s 33us/step - loss: 0.0016 - acc: 0.9996 - val_loss: 0.0026 - val_acc: 0.9996\n",
      "Epoch 13/100\n",
      "182276/182276 [==============================] - 6s 33us/step - loss: 0.0016 - acc: 0.9995 - val_loss: 0.0028 - val_acc: 0.9995\n",
      "Epoch 14/100\n",
      "182276/182276 [==============================] - 6s 33us/step - loss: 0.0014 - acc: 0.9996 - val_loss: 0.0035 - val_acc: 0.9995\n",
      "Epoch 15/100\n",
      "182276/182276 [==============================] - 6s 32us/step - loss: 0.0014 - acc: 0.9996 - val_loss: 0.0029 - val_acc: 0.9994\n",
      "Epoch 16/100\n",
      "182276/182276 [==============================] - 6s 32us/step - loss: 0.0014 - acc: 0.9996 - val_loss: 0.0030 - val_acc: 0.9995\n",
      "Epoch 17/100\n",
      "182276/182276 [==============================] - 6s 32us/step - loss: 0.0013 - acc: 0.9996 - val_loss: 0.0034 - val_acc: 0.9995\n",
      "Epoch 18/100\n",
      "182276/182276 [==============================] - 6s 32us/step - loss: 0.0012 - acc: 0.9996 - val_loss: 0.0032 - val_acc: 0.9996\n",
      "Epoch 19/100\n",
      "182276/182276 [==============================] - 6s 32us/step - loss: 0.0012 - acc: 0.9996 - val_loss: 0.0036 - val_acc: 0.9995\n",
      "Epoch 20/100\n",
      "182276/182276 [==============================] - 6s 33us/step - loss: 0.0012 - acc: 0.9997 - val_loss: 0.0035 - val_acc: 0.9995\n",
      "Epoch 21/100\n",
      "182276/182276 [==============================] - 6s 33us/step - loss: 0.0012 - acc: 0.9996 - val_loss: 0.0038 - val_acc: 0.9995\n",
      "Epoch 22/100\n",
      "182276/182276 [==============================] - 6s 33us/step - loss: 0.0011 - acc: 0.9997 - val_loss: 0.0038 - val_acc: 0.9995\n",
      "Epoch 23/100\n",
      "182276/182276 [==============================] - 6s 32us/step - loss: 0.0010 - acc: 0.9997 - val_loss: 0.0040 - val_acc: 0.9995\n",
      "Epoch 24/100\n",
      "182276/182276 [==============================] - 6s 32us/step - loss: 9.1360e-04 - acc: 0.9997 - val_loss: 0.0050 - val_acc: 0.9995\n",
      "Epoch 25/100\n",
      "182276/182276 [==============================] - 6s 33us/step - loss: 9.9722e-04 - acc: 0.9997 - val_loss: 0.0041 - val_acc: 0.9995\n",
      "Epoch 26/100\n",
      "182276/182276 [==============================] - 6s 33us/step - loss: 9.6584e-04 - acc: 0.9996 - val_loss: 0.0037 - val_acc: 0.9995\n",
      "Epoch 27/100\n",
      "182276/182276 [==============================] - 6s 33us/step - loss: 8.6068e-04 - acc: 0.9997 - val_loss: 0.0041 - val_acc: 0.9995\n",
      "Epoch 28/100\n",
      "182276/182276 [==============================] - 6s 32us/step - loss: 8.6973e-04 - acc: 0.9997 - val_loss: 0.0034 - val_acc: 0.9995\n",
      "Epoch 29/100\n",
      "182276/182276 [==============================] - 6s 33us/step - loss: 8.5786e-04 - acc: 0.9997 - val_loss: 0.0048 - val_acc: 0.9996\n",
      "Epoch 30/100\n",
      "182276/182276 [==============================] - 6s 33us/step - loss: 8.1662e-04 - acc: 0.9998 - val_loss: 0.0043 - val_acc: 0.9995\n",
      "Epoch 31/100\n",
      "182276/182276 [==============================] - 6s 33us/step - loss: 7.9539e-04 - acc: 0.9998 - val_loss: 0.0039 - val_acc: 0.9994\n",
      "Epoch 32/100\n",
      "182276/182276 [==============================] - 6s 33us/step - loss: 6.7040e-04 - acc: 0.9998 - val_loss: 0.0046 - val_acc: 0.9995\n",
      "Epoch 33/100\n",
      "182276/182276 [==============================] - 6s 33us/step - loss: 8.5416e-04 - acc: 0.9998 - val_loss: 0.0043 - val_acc: 0.9995\n",
      "Epoch 34/100\n",
      "182276/182276 [==============================] - 6s 32us/step - loss: 6.9499e-04 - acc: 0.9998 - val_loss: 0.0047 - val_acc: 0.9996\n",
      "Epoch 35/100\n",
      "182276/182276 [==============================] - 6s 33us/step - loss: 8.6053e-04 - acc: 0.9997 - val_loss: 0.0052 - val_acc: 0.9995\n",
      "Epoch 36/100\n",
      "182276/182276 [==============================] - 6s 32us/step - loss: 6.7993e-04 - acc: 0.9998 - val_loss: 0.0046 - val_acc: 0.9995\n",
      "Epoch 37/100\n",
      "182276/182276 [==============================] - 6s 33us/step - loss: 6.8478e-04 - acc: 0.9998 - val_loss: 0.0046 - val_acc: 0.9995\n",
      "Epoch 38/100\n",
      "182276/182276 [==============================] - 6s 33us/step - loss: 7.6241e-04 - acc: 0.9998 - val_loss: 0.0055 - val_acc: 0.9995\n",
      "Epoch 39/100\n",
      "182276/182276 [==============================] - 6s 33us/step - loss: 6.8407e-04 - acc: 0.9998 - val_loss: 0.0055 - val_acc: 0.9995\n",
      "Epoch 40/100\n",
      "182276/182276 [==============================] - 6s 33us/step - loss: 6.1067e-04 - acc: 0.9998 - val_loss: 0.0060 - val_acc: 0.9995\n",
      "Epoch 41/100\n",
      "182276/182276 [==============================] - 6s 33us/step - loss: 7.0213e-04 - acc: 0.9998 - val_loss: 0.0056 - val_acc: 0.9995\n",
      "Epoch 42/100\n",
      "182276/182276 [==============================] - 6s 33us/step - loss: 5.7672e-04 - acc: 0.9998 - val_loss: 0.0050 - val_acc: 0.9994\n",
      "Epoch 43/100\n",
      "182276/182276 [==============================] - 6s 33us/step - loss: 6.9896e-04 - acc: 0.9998 - val_loss: 0.0057 - val_acc: 0.9995\n",
      "Epoch 44/100\n",
      "182276/182276 [==============================] - 6s 33us/step - loss: 5.2077e-04 - acc: 0.9999 - val_loss: 0.0057 - val_acc: 0.9996\n",
      "Epoch 45/100\n",
      "182276/182276 [==============================] - 6s 33us/step - loss: 6.4728e-04 - acc: 0.9998 - val_loss: 0.0054 - val_acc: 0.9995\n",
      "Epoch 46/100\n",
      "182276/182276 [==============================] - 6s 33us/step - loss: 6.7155e-04 - acc: 0.9998 - val_loss: 0.0056 - val_acc: 0.9995\n",
      "Epoch 47/100\n",
      "182276/182276 [==============================] - 6s 33us/step - loss: 6.5096e-04 - acc: 0.9998 - val_loss: 0.0056 - val_acc: 0.9995\n",
      "Epoch 48/100\n",
      "182276/182276 [==============================] - 6s 34us/step - loss: 5.9235e-04 - acc: 0.9998 - val_loss: 0.0051 - val_acc: 0.9994\n",
      "Epoch 49/100\n",
      "182276/182276 [==============================] - 6s 33us/step - loss: 7.2122e-04 - acc: 0.9998 - val_loss: 0.0055 - val_acc: 0.9995\n",
      "Epoch 50/100\n",
      "182276/182276 [==============================] - 6s 33us/step - loss: 4.8367e-04 - acc: 0.9999 - val_loss: 0.0059 - val_acc: 0.9995\n",
      "Epoch 51/100\n",
      "182276/182276 [==============================] - 6s 32us/step - loss: 5.4041e-04 - acc: 0.9998 - val_loss: 0.0060 - val_acc: 0.9995\n",
      "Epoch 52/100\n",
      "182276/182276 [==============================] - 6s 33us/step - loss: 7.6763e-04 - acc: 0.9998 - val_loss: 0.0056 - val_acc: 0.9994\n",
      "Epoch 53/100\n",
      "182276/182276 [==============================] - 6s 32us/step - loss: 4.3529e-04 - acc: 0.9999 - val_loss: 0.0056 - val_acc: 0.9996\n",
      "Epoch 54/100\n",
      "182276/182276 [==============================] - 6s 33us/step - loss: 6.1212e-04 - acc: 0.9999 - val_loss: 0.0073 - val_acc: 0.9994\n",
      "Epoch 55/100\n",
      "182276/182276 [==============================] - 6s 33us/step - loss: 5.5241e-04 - acc: 0.9999 - val_loss: 0.0055 - val_acc: 0.9995\n",
      "Epoch 56/100\n",
      "182276/182276 [==============================] - 6s 33us/step - loss: 5.1339e-04 - acc: 0.9998 - val_loss: 0.0058 - val_acc: 0.9995\n",
      "Epoch 57/100\n",
      "182276/182276 [==============================] - 6s 33us/step - loss: 4.5846e-04 - acc: 0.9999 - val_loss: 0.0054 - val_acc: 0.9995\n",
      "Epoch 58/100\n",
      "182276/182276 [==============================] - 6s 33us/step - loss: 3.5243e-04 - acc: 0.9999 - val_loss: 0.0057 - val_acc: 0.9995\n",
      "Epoch 59/100\n",
      "182276/182276 [==============================] - 6s 32us/step - loss: 6.2549e-04 - acc: 0.9999 - val_loss: 0.0054 - val_acc: 0.9996\n",
      "Epoch 60/100\n",
      "182276/182276 [==============================] - 6s 33us/step - loss: 6.1539e-04 - acc: 0.9999 - val_loss: 0.0058 - val_acc: 0.9993\n",
      "Epoch 61/100\n",
      "182276/182276 [==============================] - 6s 33us/step - loss: 4.5611e-04 - acc: 0.9999 - val_loss: 0.0058 - val_acc: 0.9996\n",
      "Epoch 62/100\n",
      "182276/182276 [==============================] - 6s 32us/step - loss: 5.4436e-04 - acc: 0.9999 - val_loss: 0.0057 - val_acc: 0.9996\n",
      "Epoch 63/100\n",
      "182276/182276 [==============================] - 6s 33us/step - loss: 7.0662e-04 - acc: 0.9999 - val_loss: 0.0053 - val_acc: 0.9994\n",
      "Epoch 64/100\n",
      "182276/182276 [==============================] - 6s 32us/step - loss: 5.8636e-04 - acc: 0.9999 - val_loss: 0.0058 - val_acc: 0.9995\n",
      "Epoch 65/100\n",
      "182276/182276 [==============================] - 6s 33us/step - loss: 3.8239e-04 - acc: 0.9999 - val_loss: 0.0056 - val_acc: 0.9996\n",
      "Epoch 66/100\n",
      "182276/182276 [==============================] - 6s 32us/step - loss: 6.2509e-04 - acc: 0.9999 - val_loss: 0.0055 - val_acc: 0.9995\n",
      "Epoch 67/100\n",
      "182276/182276 [==============================] - 6s 32us/step - loss: 7.0715e-04 - acc: 0.9999 - val_loss: 0.0062 - val_acc: 0.9995\n",
      "Epoch 68/100\n",
      "182276/182276 [==============================] - 6s 32us/step - loss: 6.0700e-04 - acc: 0.9998 - val_loss: 0.0055 - val_acc: 0.9995\n",
      "Epoch 69/100\n",
      "182276/182276 [==============================] - 6s 32us/step - loss: 4.2941e-04 - acc: 0.9999 - val_loss: 0.0065 - val_acc: 0.9994\n",
      "Epoch 70/100\n",
      "182276/182276 [==============================] - 6s 32us/step - loss: 4.3490e-04 - acc: 0.9999 - val_loss: 0.0058 - val_acc: 0.9996\n",
      "Epoch 71/100\n",
      "182276/182276 [==============================] - 6s 32us/step - loss: 4.9065e-04 - acc: 0.9999 - val_loss: 0.0060 - val_acc: 0.9995\n",
      "Epoch 72/100\n",
      "182276/182276 [==============================] - 6s 33us/step - loss: 3.5010e-04 - acc: 0.9999 - val_loss: 0.0063 - val_acc: 0.9995\n",
      "Epoch 73/100\n",
      "182276/182276 [==============================] - 6s 32us/step - loss: 4.8937e-04 - acc: 0.9999 - val_loss: 0.0063 - val_acc: 0.9994\n",
      "Epoch 74/100\n",
      "182276/182276 [==============================] - 6s 33us/step - loss: 6.0278e-04 - acc: 0.9999 - val_loss: 0.0066 - val_acc: 0.9994\n",
      "Epoch 75/100\n",
      "182276/182276 [==============================] - 6s 32us/step - loss: 7.2643e-04 - acc: 0.9999 - val_loss: 0.0056 - val_acc: 0.9994\n",
      "Epoch 76/100\n",
      "182276/182276 [==============================] - 6s 33us/step - loss: 2.5599e-04 - acc: 0.9999 - val_loss: 0.0058 - val_acc: 0.9995\n",
      "Epoch 77/100\n",
      "182276/182276 [==============================] - 6s 33us/step - loss: 5.8110e-04 - acc: 0.9999 - val_loss: 0.0066 - val_acc: 0.9995\n",
      "Epoch 78/100\n",
      "182276/182276 [==============================] - 6s 32us/step - loss: 6.7092e-04 - acc: 0.9999 - val_loss: 0.0059 - val_acc: 0.9995\n",
      "Epoch 79/100\n",
      "182276/182276 [==============================] - 6s 33us/step - loss: 3.6517e-04 - acc: 0.9999 - val_loss: 0.0061 - val_acc: 0.9995\n",
      "Epoch 80/100\n",
      "182276/182276 [==============================] - 6s 32us/step - loss: 3.4304e-04 - acc: 0.9999 - val_loss: 0.0060 - val_acc: 0.9996\n",
      "Epoch 81/100\n",
      "182276/182276 [==============================] - 6s 33us/step - loss: 4.8174e-04 - acc: 0.9999 - val_loss: 0.0059 - val_acc: 0.9996\n",
      "Epoch 82/100\n",
      "182276/182276 [==============================] - 6s 33us/step - loss: 4.2599e-04 - acc: 0.9999 - val_loss: 0.0072 - val_acc: 0.9994\n",
      "Epoch 83/100\n",
      "182276/182276 [==============================] - 6s 33us/step - loss: 3.5680e-04 - acc: 0.9999 - val_loss: 0.0059 - val_acc: 0.9995\n",
      "Epoch 84/100\n",
      "182276/182276 [==============================] - 6s 32us/step - loss: 3.2077e-04 - acc: 0.9999 - val_loss: 0.0058 - val_acc: 0.9996\n",
      "Epoch 85/100\n",
      "182276/182276 [==============================] - 6s 33us/step - loss: 6.6716e-04 - acc: 0.9999 - val_loss: 0.0058 - val_acc: 0.9995\n",
      "Epoch 86/100\n",
      "182276/182276 [==============================] - 6s 32us/step - loss: 3.2048e-04 - acc: 1.0000 - val_loss: 0.0056 - val_acc: 0.9995\n",
      "Epoch 87/100\n",
      "182276/182276 [==============================] - 6s 33us/step - loss: 4.3316e-04 - acc: 0.9999 - val_loss: 0.0059 - val_acc: 0.9995\n",
      "Epoch 88/100\n",
      "182276/182276 [==============================] - 6s 32us/step - loss: 5.2102e-04 - acc: 0.9999 - val_loss: 0.0064 - val_acc: 0.9995\n",
      "Epoch 89/100\n",
      "182276/182276 [==============================] - 6s 33us/step - loss: 4.7247e-04 - acc: 0.9999 - val_loss: 0.0059 - val_acc: 0.9995\n",
      "Epoch 90/100\n",
      "182276/182276 [==============================] - 6s 32us/step - loss: 0.0010 - acc: 0.9999 - val_loss: 0.0060 - val_acc: 0.9996\n",
      "Epoch 91/100\n",
      "182276/182276 [==============================] - 6s 33us/step - loss: 7.5993e-04 - acc: 0.9999 - val_loss: 0.0062 - val_acc: 0.9995\n",
      "Epoch 92/100\n",
      "182276/182276 [==============================] - 6s 33us/step - loss: 5.0797e-04 - acc: 0.9999 - val_loss: 0.0063 - val_acc: 0.9995\n",
      "Epoch 93/100\n",
      "182276/182276 [==============================] - 6s 33us/step - loss: 3.1781e-04 - acc: 0.9999 - val_loss: 0.0059 - val_acc: 0.9995\n",
      "Epoch 94/100\n",
      "182276/182276 [==============================] - 6s 33us/step - loss: 2.4918e-04 - acc: 0.9999 - val_loss: 0.0061 - val_acc: 0.9995\n",
      "Epoch 95/100\n",
      "182276/182276 [==============================] - 6s 34us/step - loss: 2.7056e-04 - acc: 0.9999 - val_loss: 0.0057 - val_acc: 0.9996\n",
      "Epoch 96/100\n",
      "182276/182276 [==============================] - 6s 33us/step - loss: 4.8796e-04 - acc: 0.9999 - val_loss: 0.0058 - val_acc: 0.9995\n",
      "Epoch 97/100\n",
      "182276/182276 [==============================] - 6s 34us/step - loss: 2.7372e-04 - acc: 0.9999 - val_loss: 0.0057 - val_acc: 0.9995\n",
      "Epoch 98/100\n",
      "182276/182276 [==============================] - 6s 35us/step - loss: 2.5043e-04 - acc: 0.9999 - val_loss: 0.0060 - val_acc: 0.9995\n",
      "Epoch 99/100\n",
      "182276/182276 [==============================] - 6s 33us/step - loss: 5.2796e-04 - acc: 0.9999 - val_loss: 0.0059 - val_acc: 0.9996\n",
      "Epoch 100/100\n",
      "182276/182276 [==============================] - 6s 34us/step - loss: 2.4891e-04 - acc: 0.9999 - val_loss: 0.0067 - val_acc: 0.9995\n",
      "56962/56962 [==============================] - 1s 12us/step\n",
      "acc: 99.94%\n",
      "_________________________________________________________________\n",
      "Layer (type)                 Output Shape              Param #   \n",
      "=================================================================\n",
      "dense_7 (Dense)              (None, 50)                1600      \n",
      "_________________________________________________________________\n",
      "dense_8 (Dense)              (None, 50)                2550      \n",
      "_________________________________________________________________\n",
      "dense_9 (Dense)              (None, 1)                 51        \n",
      "=================================================================\n",
      "Total params: 4,201\n",
      "Trainable params: 4,201\n",
      "Non-trainable params: 0\n",
      "_________________________________________________________________\n",
      "None\n",
      "Train on 182276 samples, validate on 45569 samples\n",
      "Epoch 1/100\n",
      "182276/182276 [==============================] - 7s 36us/step - loss: 0.0106 - acc: 0.9986 - val_loss: 0.0031 - val_acc: 0.9995\n",
      "Epoch 2/100\n",
      "182276/182276 [==============================] - 7s 38us/step - loss: 0.0035 - acc: 0.9993 - val_loss: 0.0025 - val_acc: 0.9996\n",
      "Epoch 3/100\n",
      "182276/182276 [==============================] - 6s 35us/step - loss: 0.0030 - acc: 0.9994 - val_loss: 0.0024 - val_acc: 0.9995\n",
      "Epoch 4/100\n",
      "182276/182276 [==============================] - 6s 34us/step - loss: 0.0028 - acc: 0.9994 - val_loss: 0.0024 - val_acc: 0.9996\n",
      "Epoch 5/100\n",
      "182276/182276 [==============================] - 6s 34us/step - loss: 0.0027 - acc: 0.9994 - val_loss: 0.0024 - val_acc: 0.9996\n",
      "Epoch 6/100\n",
      "182276/182276 [==============================] - 6s 34us/step - loss: 0.0025 - acc: 0.9994 - val_loss: 0.0024 - val_acc: 0.9996\n",
      "Epoch 7/100\n",
      "182276/182276 [==============================] - 6s 35us/step - loss: 0.0023 - acc: 0.9994 - val_loss: 0.0025 - val_acc: 0.9995\n",
      "Epoch 8/100\n",
      "182276/182276 [==============================] - 6s 35us/step - loss: 0.0022 - acc: 0.9994 - val_loss: 0.0025 - val_acc: 0.9996\n",
      "Epoch 9/100\n",
      "182276/182276 [==============================] - 6s 36us/step - loss: 0.0021 - acc: 0.9995 - val_loss: 0.0025 - val_acc: 0.9996\n",
      "Epoch 10/100\n",
      "182276/182276 [==============================] - 7s 38us/step - loss: 0.0020 - acc: 0.9995 - val_loss: 0.0026 - val_acc: 0.9996\n",
      "Epoch 11/100\n",
      "182276/182276 [==============================] - 6s 35us/step - loss: 0.0018 - acc: 0.9995 - val_loss: 0.0027 - val_acc: 0.9996\n",
      "Epoch 12/100\n",
      "182276/182276 [==============================] - 6s 34us/step - loss: 0.0019 - acc: 0.9995 - val_loss: 0.0026 - val_acc: 0.9996\n",
      "Epoch 13/100\n",
      "182276/182276 [==============================] - 6s 35us/step - loss: 0.0018 - acc: 0.9995 - val_loss: 0.0026 - val_acc: 0.9996\n",
      "Epoch 14/100\n",
      "182276/182276 [==============================] - 6s 34us/step - loss: 0.0016 - acc: 0.9995 - val_loss: 0.0028 - val_acc: 0.9995\n",
      "Epoch 15/100\n",
      "182276/182276 [==============================] - 6s 33us/step - loss: 0.0014 - acc: 0.9996 - val_loss: 0.0029 - val_acc: 0.9995\n",
      "Epoch 16/100\n",
      "182276/182276 [==============================] - 6s 33us/step - loss: 0.0014 - acc: 0.9996 - val_loss: 0.0031 - val_acc: 0.9996\n",
      "Epoch 17/100\n",
      "182276/182276 [==============================] - 6s 33us/step - loss: 0.0015 - acc: 0.9995 - val_loss: 0.0029 - val_acc: 0.9996\n",
      "Epoch 18/100\n",
      "182276/182276 [==============================] - 6s 34us/step - loss: 0.0011 - acc: 0.9996 - val_loss: 0.0031 - val_acc: 0.9996\n",
      "Epoch 19/100\n",
      "182276/182276 [==============================] - 7s 36us/step - loss: 0.0012 - acc: 0.9996 - val_loss: 0.0032 - val_acc: 0.9996\n",
      "Epoch 20/100\n",
      "182276/182276 [==============================] - 6s 35us/step - loss: 0.0011 - acc: 0.9996 - val_loss: 0.0035 - val_acc: 0.9995\n",
      "Epoch 21/100\n",
      "182276/182276 [==============================] - 6s 35us/step - loss: 9.9630e-04 - acc: 0.9996 - val_loss: 0.0071 - val_acc: 0.9991\n",
      "Epoch 22/100\n",
      "182276/182276 [==============================] - 7s 37us/step - loss: 9.8320e-04 - acc: 0.9996 - val_loss: 0.0039 - val_acc: 0.9994\n",
      "Epoch 23/100\n",
      "182276/182276 [==============================] - 6s 35us/step - loss: 9.4730e-04 - acc: 0.9997 - val_loss: 0.0042 - val_acc: 0.9995\n",
      "Epoch 24/100\n",
      "182276/182276 [==============================] - 6s 35us/step - loss: 8.8993e-04 - acc: 0.9997 - val_loss: 0.0045 - val_acc: 0.9996\n",
      "Epoch 25/100\n",
      "182276/182276 [==============================] - 6s 35us/step - loss: 8.7698e-04 - acc: 0.9998 - val_loss: 0.0035 - val_acc: 0.9996\n",
      "Epoch 26/100\n",
      "182276/182276 [==============================] - 6s 33us/step - loss: 7.6753e-04 - acc: 0.9998 - val_loss: 0.0041 - val_acc: 0.9995\n",
      "Epoch 27/100\n",
      "182276/182276 [==============================] - 6s 34us/step - loss: 7.9194e-04 - acc: 0.9998 - val_loss: 0.0036 - val_acc: 0.9995\n",
      "Epoch 28/100\n",
      "182276/182276 [==============================] - 6s 34us/step - loss: 0.0011 - acc: 0.9997 - val_loss: 0.0041 - val_acc: 0.9995\n",
      "Epoch 29/100\n",
      "182276/182276 [==============================] - 6s 32us/step - loss: 6.3702e-04 - acc: 0.9998 - val_loss: 0.0046 - val_acc: 0.9995\n",
      "Epoch 30/100\n",
      "182276/182276 [==============================] - 6s 35us/step - loss: 8.7924e-04 - acc: 0.9997 - val_loss: 0.0036 - val_acc: 0.9995\n",
      "Epoch 31/100\n",
      "182276/182276 [==============================] - 7s 37us/step - loss: 7.7050e-04 - acc: 0.9998 - val_loss: 0.0042 - val_acc: 0.9995\n",
      "Epoch 32/100\n",
      "182276/182276 [==============================] - 6s 34us/step - loss: 6.7104e-04 - acc: 0.9997 - val_loss: 0.0046 - val_acc: 0.9995\n",
      "Epoch 33/100\n",
      "182276/182276 [==============================] - 7s 41us/step - loss: 6.1783e-04 - acc: 0.9998 - val_loss: 0.0045 - val_acc: 0.9995\n",
      "Epoch 34/100\n",
      "182276/182276 [==============================] - 6s 34us/step - loss: 6.4359e-04 - acc: 0.9998 - val_loss: 0.0048 - val_acc: 0.9995\n",
      "Epoch 35/100\n",
      "182276/182276 [==============================] - 7s 36us/step - loss: 8.7369e-04 - acc: 0.9998 - val_loss: 0.0043 - val_acc: 0.9995\n",
      "Epoch 36/100\n",
      "182276/182276 [==============================] - 6s 34us/step - loss: 5.9304e-04 - acc: 0.9998 - val_loss: 0.0045 - val_acc: 0.9996\n",
      "Epoch 37/100\n",
      "182276/182276 [==============================] - 6s 34us/step - loss: 6.6273e-04 - acc: 0.9998 - val_loss: 0.0042 - val_acc: 0.9994\n",
      "Epoch 38/100\n",
      "182276/182276 [==============================] - 6s 34us/step - loss: 5.5569e-04 - acc: 0.9998 - val_loss: 0.0049 - val_acc: 0.9995\n",
      "Epoch 39/100\n",
      "182276/182276 [==============================] - 6s 34us/step - loss: 5.4574e-04 - acc: 0.9998 - val_loss: 0.0052 - val_acc: 0.9995\n",
      "Epoch 40/100\n",
      "182276/182276 [==============================] - 6s 35us/step - loss: 6.3061e-04 - acc: 0.9998 - val_loss: 0.0051 - val_acc: 0.9995\n",
      "Epoch 41/100\n",
      "182276/182276 [==============================] - 6s 36us/step - loss: 5.2092e-04 - acc: 0.9998 - val_loss: 0.0058 - val_acc: 0.9994\n",
      "Epoch 42/100\n",
      "182276/182276 [==============================] - 6s 34us/step - loss: 6.2585e-04 - acc: 0.9998 - val_loss: 0.0052 - val_acc: 0.9995\n",
      "Epoch 43/100\n",
      "182276/182276 [==============================] - 7s 36us/step - loss: 5.6552e-04 - acc: 0.9998 - val_loss: 0.0049 - val_acc: 0.9995\n",
      "Epoch 44/100\n",
      "182276/182276 [==============================] - 7s 36us/step - loss: 3.9011e-04 - acc: 0.9999 - val_loss: 0.0048 - val_acc: 0.9995\n",
      "Epoch 45/100\n",
      "182276/182276 [==============================] - 7s 38us/step - loss: 5.9990e-04 - acc: 0.9998 - val_loss: 0.0051 - val_acc: 0.9995\n",
      "Epoch 46/100\n",
      "182276/182276 [==============================] - 6s 35us/step - loss: 3.7991e-04 - acc: 0.9999 - val_loss: 0.0058 - val_acc: 0.9995\n",
      "Epoch 47/100\n",
      "182276/182276 [==============================] - 6s 35us/step - loss: 6.3797e-04 - acc: 0.9999 - val_loss: 0.0047 - val_acc: 0.9995\n",
      "Epoch 48/100\n",
      "182276/182276 [==============================] - 6s 34us/step - loss: 3.9518e-04 - acc: 0.9999 - val_loss: 0.0058 - val_acc: 0.9995\n",
      "Epoch 49/100\n",
      "182276/182276 [==============================] - 6s 33us/step - loss: 5.3205e-04 - acc: 0.9999 - val_loss: 0.0044 - val_acc: 0.9995\n",
      "Epoch 50/100\n",
      "182276/182276 [==============================] - 6s 34us/step - loss: 5.2965e-04 - acc: 0.9998 - val_loss: 0.0049 - val_acc: 0.9995\n",
      "Epoch 51/100\n",
      "182276/182276 [==============================] - 6s 34us/step - loss: 4.1447e-04 - acc: 0.9999 - val_loss: 0.0051 - val_acc: 0.9995\n",
      "Epoch 52/100\n",
      "182276/182276 [==============================] - 6s 34us/step - loss: 6.0816e-04 - acc: 0.9999 - val_loss: 0.0055 - val_acc: 0.9995\n",
      "Epoch 53/100\n",
      "182276/182276 [==============================] - 6s 35us/step - loss: 2.3890e-04 - acc: 0.9999 - val_loss: 0.0056 - val_acc: 0.9995\n",
      "Epoch 54/100\n",
      "182276/182276 [==============================] - 6s 34us/step - loss: 3.5021e-04 - acc: 0.9999 - val_loss: 0.0062 - val_acc: 0.9994\n",
      "Epoch 55/100\n",
      "182276/182276 [==============================] - 6s 33us/step - loss: 4.3692e-04 - acc: 0.9999 - val_loss: 0.0060 - val_acc: 0.9993\n",
      "Epoch 56/100\n",
      "182276/182276 [==============================] - 6s 34us/step - loss: 3.7170e-04 - acc: 0.9999 - val_loss: 0.0064 - val_acc: 0.9993\n",
      "Epoch 57/100\n",
      "182276/182276 [==============================] - 6s 34us/step - loss: 3.4913e-04 - acc: 0.9999 - val_loss: 0.0057 - val_acc: 0.9995\n",
      "Epoch 58/100\n",
      "182276/182276 [==============================] - 7s 38us/step - loss: 4.3960e-04 - acc: 0.9999 - val_loss: 0.0063 - val_acc: 0.9995\n",
      "Epoch 59/100\n",
      "182276/182276 [==============================] - 7s 38us/step - loss: 5.4940e-04 - acc: 0.9999 - val_loss: 0.0051 - val_acc: 0.9995\n",
      "Epoch 60/100\n",
      "182276/182276 [==============================] - 6s 34us/step - loss: 2.8794e-04 - acc: 0.9999 - val_loss: 0.0056 - val_acc: 0.9995\n",
      "Epoch 61/100\n",
      "182276/182276 [==============================] - 7s 37us/step - loss: 4.4744e-04 - acc: 0.9999 - val_loss: 0.0056 - val_acc: 0.9996\n",
      "Epoch 62/100\n",
      "182276/182276 [==============================] - 6s 33us/step - loss: 3.4982e-04 - acc: 0.9999 - val_loss: 0.0057 - val_acc: 0.9996\n",
      "Epoch 63/100\n",
      "182276/182276 [==============================] - 6s 34us/step - loss: 4.6156e-04 - acc: 0.9999 - val_loss: 0.0058 - val_acc: 0.9995\n",
      "Epoch 64/100\n",
      "182276/182276 [==============================] - 6s 34us/step - loss: 2.9042e-04 - acc: 0.9999 - val_loss: 0.0062 - val_acc: 0.9995\n",
      "Epoch 65/100\n",
      "182276/182276 [==============================] - 7s 36us/step - loss: 3.7109e-04 - acc: 0.9999 - val_loss: 0.0059 - val_acc: 0.9995\n",
      "Epoch 66/100\n",
      "182276/182276 [==============================] - 7s 36us/step - loss: 4.3129e-04 - acc: 0.9999 - val_loss: 0.0058 - val_acc: 0.9995\n",
      "Epoch 67/100\n",
      "182276/182276 [==============================] - 7s 38us/step - loss: 4.3440e-04 - acc: 0.9999 - val_loss: 0.0064 - val_acc: 0.9995\n",
      "Epoch 68/100\n",
      "182276/182276 [==============================] - 7s 38us/step - loss: 3.5823e-04 - acc: 0.9999 - val_loss: 0.0059 - val_acc: 0.9995\n",
      "Epoch 69/100\n",
      "182276/182276 [==============================] - 7s 40us/step - loss: 2.9692e-04 - acc: 0.9999 - val_loss: 0.0064 - val_acc: 0.9995\n",
      "Epoch 70/100\n",
      "182276/182276 [==============================] - 6s 34us/step - loss: 4.7569e-04 - acc: 0.9999 - val_loss: 0.0063 - val_acc: 0.9994\n",
      "Epoch 71/100\n",
      "182276/182276 [==============================] - 7s 36us/step - loss: 3.1383e-04 - acc: 1.0000 - val_loss: 0.0060 - val_acc: 0.9995\n",
      "Epoch 72/100\n",
      "182276/182276 [==============================] - 6s 34us/step - loss: 5.1665e-04 - acc: 0.9999 - val_loss: 0.0069 - val_acc: 0.9995\n",
      "Epoch 73/100\n",
      "182276/182276 [==============================] - 6s 34us/step - loss: 4.5571e-04 - acc: 0.9999 - val_loss: 0.0061 - val_acc: 0.9995\n",
      "Epoch 74/100\n",
      "182276/182276 [==============================] - 6s 34us/step - loss: 3.9360e-04 - acc: 0.9999 - val_loss: 0.0057 - val_acc: 0.9995\n",
      "Epoch 75/100\n",
      "182276/182276 [==============================] - 6s 34us/step - loss: 2.9583e-04 - acc: 0.9999 - val_loss: 0.0066 - val_acc: 0.9995\n",
      "Epoch 76/100\n",
      "182276/182276 [==============================] - 6s 34us/step - loss: 3.6336e-04 - acc: 0.9999 - val_loss: 0.0066 - val_acc: 0.9995\n",
      "Epoch 77/100\n",
      "182276/182276 [==============================] - 6s 34us/step - loss: 4.1181e-04 - acc: 0.9999 - val_loss: 0.0062 - val_acc: 0.9995\n",
      "Epoch 78/100\n",
      "182276/182276 [==============================] - 6s 35us/step - loss: 4.4398e-04 - acc: 0.9999 - val_loss: 0.0056 - val_acc: 0.9995\n",
      "Epoch 79/100\n",
      "182276/182276 [==============================] - 6s 34us/step - loss: 3.8456e-04 - acc: 0.9999 - val_loss: 0.0058 - val_acc: 0.9995\n",
      "Epoch 80/100\n",
      "182276/182276 [==============================] - 6s 34us/step - loss: 4.6763e-04 - acc: 0.9999 - val_loss: 0.0063 - val_acc: 0.9995\n",
      "Epoch 81/100\n",
      "182276/182276 [==============================] - 6s 35us/step - loss: 5.9943e-04 - acc: 0.9999 - val_loss: 0.0062 - val_acc: 0.9996\n",
      "Epoch 82/100\n",
      "182276/182276 [==============================] - 6s 34us/step - loss: 4.6298e-04 - acc: 0.9999 - val_loss: 0.0062 - val_acc: 0.9995\n",
      "Epoch 83/100\n",
      "182276/182276 [==============================] - 6s 35us/step - loss: 4.5952e-04 - acc: 0.9999 - val_loss: 0.0057 - val_acc: 0.9995\n",
      "Epoch 84/100\n",
      "182276/182276 [==============================] - 6s 36us/step - loss: 2.8604e-04 - acc: 0.9999 - val_loss: 0.0054 - val_acc: 0.9996\n",
      "Epoch 85/100\n",
      "182276/182276 [==============================] - 6s 33us/step - loss: 4.7159e-04 - acc: 0.9999 - val_loss: 0.0057 - val_acc: 0.9996\n",
      "Epoch 86/100\n",
      "182276/182276 [==============================] - 6s 34us/step - loss: 2.5073e-04 - acc: 1.0000 - val_loss: 0.0052 - val_acc: 0.9996\n",
      "Epoch 87/100\n",
      "182276/182276 [==============================] - 6s 33us/step - loss: 3.0221e-04 - acc: 1.0000 - val_loss: 0.0060 - val_acc: 0.9995\n",
      "Epoch 88/100\n",
      "182276/182276 [==============================] - 6s 34us/step - loss: 6.7625e-04 - acc: 0.9999 - val_loss: 0.0059 - val_acc: 0.9996\n",
      "Epoch 89/100\n",
      "182276/182276 [==============================] - 6s 34us/step - loss: 3.2609e-04 - acc: 0.9999 - val_loss: 0.0055 - val_acc: 0.9995\n",
      "Epoch 90/100\n",
      "182276/182276 [==============================] - 6s 34us/step - loss: 4.6066e-04 - acc: 0.9999 - val_loss: 0.0059 - val_acc: 0.9996\n",
      "Epoch 91/100\n",
      "182276/182276 [==============================] - 6s 35us/step - loss: 4.8767e-04 - acc: 0.9999 - val_loss: 0.0058 - val_acc: 0.9996\n",
      "Epoch 92/100\n",
      "182276/182276 [==============================] - 7s 36us/step - loss: 2.6171e-04 - acc: 1.0000 - val_loss: 0.0063 - val_acc: 0.9996\n",
      "Epoch 93/100\n",
      "182276/182276 [==============================] - 6s 34us/step - loss: 2.4654e-04 - acc: 0.9999 - val_loss: 0.0057 - val_acc: 0.9996\n",
      "Epoch 94/100\n",
      "182276/182276 [==============================] - 6s 34us/step - loss: 3.3446e-04 - acc: 0.9999 - val_loss: 0.0058 - val_acc: 0.9995\n",
      "Epoch 95/100\n",
      "182276/182276 [==============================] - 6s 34us/step - loss: 3.7654e-04 - acc: 0.9999 - val_loss: 0.0058 - val_acc: 0.9995\n",
      "Epoch 96/100\n",
      "182276/182276 [==============================] - 6s 34us/step - loss: 3.5551e-04 - acc: 0.9999 - val_loss: 0.0057 - val_acc: 0.9995\n",
      "Epoch 97/100\n",
      "182276/182276 [==============================] - 6s 34us/step - loss: 4.1579e-04 - acc: 0.9999 - val_loss: 0.0060 - val_acc: 0.9995\n",
      "Epoch 98/100\n",
      "182276/182276 [==============================] - 7s 37us/step - loss: 2.3214e-04 - acc: 1.0000 - val_loss: 0.0061 - val_acc: 0.9996\n",
      "Epoch 99/100\n",
      "182276/182276 [==============================] - 7s 37us/step - loss: 5.2711e-04 - acc: 0.9999 - val_loss: 0.0055 - val_acc: 0.9995\n",
      "Epoch 100/100\n",
      "182276/182276 [==============================] - 7s 37us/step - loss: 2.5365e-04 - acc: 1.0000 - val_loss: 0.0061 - val_acc: 0.9995\n",
      "56962/56962 [==============================] - 1s 13us/step\n",
      "acc: 99.95%\n",
      "_________________________________________________________________\n",
      "Layer (type)                 Output Shape              Param #   \n",
      "=================================================================\n",
      "dense_10 (Dense)             (None, 50)                1600      \n",
      "_________________________________________________________________\n",
      "dense_11 (Dense)             (None, 50)                2550      \n",
      "_________________________________________________________________\n",
      "dense_12 (Dense)             (None, 1)                 51        \n",
      "=================================================================\n",
      "Total params: 4,201\n",
      "Trainable params: 4,201\n",
      "Non-trainable params: 0\n",
      "_________________________________________________________________\n",
      "None\n",
      "Train on 182276 samples, validate on 45570 samples\n",
      "Epoch 1/100\n",
      "182276/182276 [==============================] - 7s 38us/step - loss: 0.0098 - acc: 0.9989 - val_loss: 0.0029 - val_acc: 0.9995\n",
      "Epoch 2/100\n",
      "182276/182276 [==============================] - 6s 34us/step - loss: 0.0033 - acc: 0.9993 - val_loss: 0.0028 - val_acc: 0.9995\n",
      "Epoch 3/100\n",
      "182276/182276 [==============================] - 7s 38us/step - loss: 0.0031 - acc: 0.9993 - val_loss: 0.0032 - val_acc: 0.9996\n",
      "Epoch 4/100\n",
      "182276/182276 [==============================] - 6s 34us/step - loss: 0.0029 - acc: 0.9994 - val_loss: 0.0033 - val_acc: 0.9995\n",
      "Epoch 5/100\n",
      "182276/182276 [==============================] - 7s 38us/step - loss: 0.0027 - acc: 0.9994 - val_loss: 0.0027 - val_acc: 0.9996\n",
      "Epoch 6/100\n",
      "182276/182276 [==============================] - 7s 36us/step - loss: 0.0025 - acc: 0.9994 - val_loss: 0.0032 - val_acc: 0.9995\n",
      "Epoch 7/100\n",
      "182276/182276 [==============================] - 7s 38us/step - loss: 0.0024 - acc: 0.9994 - val_loss: 0.0032 - val_acc: 0.9996\n",
      "Epoch 8/100\n",
      "182276/182276 [==============================] - 7s 37us/step - loss: 0.0021 - acc: 0.9995 - val_loss: 0.0033 - val_acc: 0.9995\n",
      "Epoch 9/100\n",
      "182276/182276 [==============================] - 7s 37us/step - loss: 0.0021 - acc: 0.9995 - val_loss: 0.0038 - val_acc: 0.9995\n",
      "Epoch 10/100\n",
      "182276/182276 [==============================] - 6s 35us/step - loss: 0.0021 - acc: 0.9995 - val_loss: 0.0035 - val_acc: 0.9995\n",
      "Epoch 11/100\n",
      "182276/182276 [==============================] - 7s 37us/step - loss: 0.0018 - acc: 0.9996 - val_loss: 0.0035 - val_acc: 0.9995\n",
      "Epoch 12/100\n",
      "182276/182276 [==============================] - 7s 38us/step - loss: 0.0018 - acc: 0.9995 - val_loss: 0.0038 - val_acc: 0.9995\n",
      "Epoch 13/100\n",
      "182276/182276 [==============================] - 6s 35us/step - loss: 0.0016 - acc: 0.9996 - val_loss: 0.0040 - val_acc: 0.9995\n",
      "Epoch 14/100\n",
      "182276/182276 [==============================] - 7s 37us/step - loss: 0.0016 - acc: 0.9995 - val_loss: 0.0042 - val_acc: 0.9994\n",
      "Epoch 15/100\n",
      "182276/182276 [==============================] - 7s 36us/step - loss: 0.0015 - acc: 0.9996 - val_loss: 0.0038 - val_acc: 0.9995\n",
      "Epoch 16/100\n",
      "182276/182276 [==============================] - 6s 35us/step - loss: 0.0015 - acc: 0.9996 - val_loss: 0.0040 - val_acc: 0.9995\n",
      "Epoch 17/100\n",
      "182276/182276 [==============================] - 6s 35us/step - loss: 0.0014 - acc: 0.9996 - val_loss: 0.0045 - val_acc: 0.9995\n",
      "Epoch 18/100\n",
      "182276/182276 [==============================] - 6s 36us/step - loss: 0.0013 - acc: 0.9996 - val_loss: 0.0042 - val_acc: 0.9995\n",
      "Epoch 19/100\n",
      "182276/182276 [==============================] - 6s 36us/step - loss: 0.0011 - acc: 0.9997 - val_loss: 0.0056 - val_acc: 0.9993\n",
      "Epoch 20/100\n",
      "182276/182276 [==============================] - 6s 35us/step - loss: 0.0011 - acc: 0.9997 - val_loss: 0.0047 - val_acc: 0.9994\n",
      "Epoch 21/100\n",
      "182276/182276 [==============================] - 7s 36us/step - loss: 9.3999e-04 - acc: 0.9997 - val_loss: 0.0052 - val_acc: 0.9995\n",
      "Epoch 22/100\n",
      "182276/182276 [==============================] - 6s 35us/step - loss: 8.7538e-04 - acc: 0.9998 - val_loss: 0.0053 - val_acc: 0.9995\n",
      "Epoch 23/100\n",
      "182276/182276 [==============================] - 6s 34us/step - loss: 0.0010 - acc: 0.9997 - val_loss: 0.0056 - val_acc: 0.9991\n",
      "Epoch 24/100\n",
      "182276/182276 [==============================] - 6s 35us/step - loss: 7.6849e-04 - acc: 0.9998 - val_loss: 0.0056 - val_acc: 0.9995\n",
      "Epoch 25/100\n",
      "182276/182276 [==============================] - 6s 34us/step - loss: 8.2981e-04 - acc: 0.9997 - val_loss: 0.0047 - val_acc: 0.9995\n",
      "Epoch 26/100\n",
      "182276/182276 [==============================] - 6s 35us/step - loss: 7.3537e-04 - acc: 0.9997 - val_loss: 0.0052 - val_acc: 0.9996\n",
      "Epoch 27/100\n",
      "182276/182276 [==============================] - 7s 36us/step - loss: 8.5427e-04 - acc: 0.9997 - val_loss: 0.0051 - val_acc: 0.9995\n",
      "Epoch 28/100\n",
      "182276/182276 [==============================] - 6s 35us/step - loss: 9.6367e-04 - acc: 0.9997 - val_loss: 0.0057 - val_acc: 0.9994\n",
      "Epoch 29/100\n",
      "182276/182276 [==============================] - 7s 37us/step - loss: 6.8549e-04 - acc: 0.9998 - val_loss: 0.0049 - val_acc: 0.9995\n",
      "Epoch 30/100\n",
      "182276/182276 [==============================] - 7s 39us/step - loss: 6.9014e-04 - acc: 0.9998 - val_loss: 0.0051 - val_acc: 0.9995\n",
      "Epoch 31/100\n",
      "182276/182276 [==============================] - 7s 36us/step - loss: 6.7963e-04 - acc: 0.9998 - val_loss: 0.0051 - val_acc: 0.9994\n",
      "Epoch 32/100\n",
      "182276/182276 [==============================] - 7s 36us/step - loss: 5.0216e-04 - acc: 0.9998 - val_loss: 0.0053 - val_acc: 0.9994\n",
      "Epoch 33/100\n",
      "182276/182276 [==============================] - 6s 35us/step - loss: 6.6977e-04 - acc: 0.9999 - val_loss: 0.0059 - val_acc: 0.9994\n",
      "Epoch 34/100\n",
      "182276/182276 [==============================] - 7s 39us/step - loss: 5.1799e-04 - acc: 0.9998 - val_loss: 0.0060 - val_acc: 0.9995\n",
      "Epoch 35/100\n",
      "182276/182276 [==============================] - 7s 36us/step - loss: 6.1404e-04 - acc: 0.9998 - val_loss: 0.0086 - val_acc: 0.9989\n",
      "Epoch 36/100\n",
      "182276/182276 [==============================] - 6s 36us/step - loss: 7.7909e-04 - acc: 0.9998 - val_loss: 0.0056 - val_acc: 0.9995\n",
      "Epoch 37/100\n",
      "182276/182276 [==============================] - 7s 36us/step - loss: 6.0754e-04 - acc: 0.9998 - val_loss: 0.0056 - val_acc: 0.9993\n",
      "Epoch 38/100\n",
      "182276/182276 [==============================] - 6s 35us/step - loss: 4.3157e-04 - acc: 0.9999 - val_loss: 0.0068 - val_acc: 0.9995\n",
      "Epoch 39/100\n",
      "182276/182276 [==============================] - 6s 35us/step - loss: 8.5993e-04 - acc: 0.9998 - val_loss: 0.0061 - val_acc: 0.9994\n",
      "Epoch 40/100\n",
      "182276/182276 [==============================] - 6s 35us/step - loss: 6.6695e-04 - acc: 0.9999 - val_loss: 0.0063 - val_acc: 0.9995\n",
      "Epoch 41/100\n",
      "182276/182276 [==============================] - 7s 36us/step - loss: 5.8608e-04 - acc: 0.9999 - val_loss: 0.0060 - val_acc: 0.9995\n",
      "Epoch 42/100\n",
      "182276/182276 [==============================] - 7s 39us/step - loss: 5.6240e-04 - acc: 0.9998 - val_loss: 0.0068 - val_acc: 0.9993\n",
      "Epoch 43/100\n",
      "182276/182276 [==============================] - 7s 39us/step - loss: 4.9170e-04 - acc: 0.9999 - val_loss: 0.0066 - val_acc: 0.9995\n",
      "Epoch 44/100\n",
      "182276/182276 [==============================] - 7s 40us/step - loss: 6.5896e-04 - acc: 0.9998 - val_loss: 0.0062 - val_acc: 0.9995\n",
      "Epoch 45/100\n",
      "182276/182276 [==============================] - 8s 42us/step - loss: 5.7973e-04 - acc: 0.9999 - val_loss: 0.0064 - val_acc: 0.9995\n",
      "Epoch 46/100\n",
      "182276/182276 [==============================] - 7s 41us/step - loss: 7.8627e-04 - acc: 0.9998 - val_loss: 0.0063 - val_acc: 0.9995\n",
      "Epoch 47/100\n",
      "182276/182276 [==============================] - 7s 39us/step - loss: 5.1109e-04 - acc: 0.9999 - val_loss: 0.0071 - val_acc: 0.9993\n",
      "Epoch 48/100\n",
      "182276/182276 [==============================] - 7s 38us/step - loss: 4.1139e-04 - acc: 0.9998 - val_loss: 0.0064 - val_acc: 0.9994\n",
      "Epoch 49/100\n",
      "182276/182276 [==============================] - 7s 39us/step - loss: 5.6987e-04 - acc: 0.9998 - val_loss: 0.0067 - val_acc: 0.9995\n",
      "Epoch 50/100\n",
      "182276/182276 [==============================] - 7s 39us/step - loss: 3.4647e-04 - acc: 0.9999 - val_loss: 0.0065 - val_acc: 0.9995\n",
      "Epoch 51/100\n",
      "182276/182276 [==============================] - 7s 39us/step - loss: 8.5222e-04 - acc: 0.9998 - val_loss: 0.0064 - val_acc: 0.9995\n",
      "Epoch 52/100\n",
      "182276/182276 [==============================] - 7s 38us/step - loss: 6.1889e-04 - acc: 0.9998 - val_loss: 0.0063 - val_acc: 0.9995\n",
      "Epoch 53/100\n",
      "182276/182276 [==============================] - 7s 38us/step - loss: 4.1256e-04 - acc: 0.9999 - val_loss: 0.0067 - val_acc: 0.9995\n",
      "Epoch 54/100\n",
      "182276/182276 [==============================] - 7s 38us/step - loss: 4.2496e-04 - acc: 0.9999 - val_loss: 0.0065 - val_acc: 0.9995\n",
      "Epoch 55/100\n",
      "182276/182276 [==============================] - 7s 38us/step - loss: 3.7694e-04 - acc: 0.9999 - val_loss: 0.0067 - val_acc: 0.9995\n",
      "Epoch 56/100\n",
      "182276/182276 [==============================] - 7s 39us/step - loss: 5.2229e-04 - acc: 0.9998 - val_loss: 0.0064 - val_acc: 0.9995\n",
      "Epoch 57/100\n",
      "182276/182276 [==============================] - 7s 38us/step - loss: 3.3311e-04 - acc: 0.9999 - val_loss: 0.0066 - val_acc: 0.9993\n",
      "Epoch 58/100\n",
      "182276/182276 [==============================] - 7s 39us/step - loss: 3.8810e-04 - acc: 0.9999 - val_loss: 0.0080 - val_acc: 0.9994\n",
      "Epoch 59/100\n",
      "182276/182276 [==============================] - 7s 38us/step - loss: 5.4508e-04 - acc: 0.9998 - val_loss: 0.0068 - val_acc: 0.9995\n",
      "Epoch 60/100\n",
      "182276/182276 [==============================] - 7s 39us/step - loss: 5.6564e-04 - acc: 0.9999 - val_loss: 0.0068 - val_acc: 0.9995\n",
      "Epoch 61/100\n",
      "182276/182276 [==============================] - 7s 40us/step - loss: 3.9821e-04 - acc: 0.9999 - val_loss: 0.0071 - val_acc: 0.9993\n",
      "Epoch 62/100\n",
      "182276/182276 [==============================] - 7s 39us/step - loss: 4.7933e-04 - acc: 0.9999 - val_loss: 0.0070 - val_acc: 0.9995\n",
      "Epoch 63/100\n",
      "182276/182276 [==============================] - 7s 38us/step - loss: 4.4505e-04 - acc: 0.9999 - val_loss: 0.0068 - val_acc: 0.9994\n",
      "Epoch 64/100\n",
      "182276/182276 [==============================] - 7s 38us/step - loss: 2.6094e-04 - acc: 0.9999 - val_loss: 0.0070 - val_acc: 0.9993\n",
      "Epoch 65/100\n",
      "182276/182276 [==============================] - 7s 40us/step - loss: 3.5110e-04 - acc: 0.9999 - val_loss: 0.0069 - val_acc: 0.9995\n",
      "Epoch 66/100\n",
      "182276/182276 [==============================] - 7s 37us/step - loss: 2.5985e-04 - acc: 0.9999 - val_loss: 0.0068 - val_acc: 0.9995\n",
      "Epoch 67/100\n",
      "182276/182276 [==============================] - 6s 34us/step - loss: 3.9297e-04 - acc: 0.9999 - val_loss: 0.0068 - val_acc: 0.9995\n",
      "Epoch 68/100\n",
      "182276/182276 [==============================] - 6s 34us/step - loss: 6.5659e-04 - acc: 0.9999 - val_loss: 0.0066 - val_acc: 0.9995\n",
      "Epoch 69/100\n",
      "182276/182276 [==============================] - 6s 34us/step - loss: 4.0591e-04 - acc: 0.9999 - val_loss: 0.0068 - val_acc: 0.9995\n",
      "Epoch 70/100\n",
      "182276/182276 [==============================] - 6s 34us/step - loss: 2.9792e-04 - acc: 0.9999 - val_loss: 0.0065 - val_acc: 0.9994\n",
      "Epoch 71/100\n",
      "182276/182276 [==============================] - 6s 34us/step - loss: 3.2859e-04 - acc: 0.9999 - val_loss: 0.0067 - val_acc: 0.9995\n",
      "Epoch 72/100\n",
      "182276/182276 [==============================] - 6s 34us/step - loss: 5.0512e-04 - acc: 0.9999 - val_loss: 0.0070 - val_acc: 0.9995\n",
      "Epoch 73/100\n",
      "182276/182276 [==============================] - 6s 34us/step - loss: 3.6108e-04 - acc: 0.9999 - val_loss: 0.0067 - val_acc: 0.9996\n",
      "Epoch 74/100\n",
      "182276/182276 [==============================] - 6s 34us/step - loss: 4.6298e-04 - acc: 0.9998 - val_loss: 0.0071 - val_acc: 0.9994\n",
      "Epoch 75/100\n",
      "182276/182276 [==============================] - 6s 35us/step - loss: 4.4285e-04 - acc: 0.9999 - val_loss: 0.0068 - val_acc: 0.9995\n",
      "Epoch 76/100\n",
      "182276/182276 [==============================] - 6s 34us/step - loss: 3.5809e-04 - acc: 0.9999 - val_loss: 0.0071 - val_acc: 0.9994\n",
      "Epoch 77/100\n",
      "182276/182276 [==============================] - 6s 35us/step - loss: 2.8305e-04 - acc: 0.9999 - val_loss: 0.0071 - val_acc: 0.9995\n",
      "Epoch 78/100\n",
      "182276/182276 [==============================] - 6s 35us/step - loss: 2.3832e-04 - acc: 0.9999 - val_loss: 0.0069 - val_acc: 0.9995\n",
      "Epoch 79/100\n",
      "182276/182276 [==============================] - 6s 35us/step - loss: 1.5245e-04 - acc: 0.9999 - val_loss: 0.0068 - val_acc: 0.9995\n",
      "Epoch 80/100\n",
      "182276/182276 [==============================] - 7s 36us/step - loss: 2.2931e-04 - acc: 0.9999 - val_loss: 0.0069 - val_acc: 0.9995\n",
      "Epoch 81/100\n",
      "182276/182276 [==============================] - 7s 38us/step - loss: 2.6705e-04 - acc: 0.9999 - val_loss: 0.0070 - val_acc: 0.9995\n",
      "Epoch 82/100\n",
      "182276/182276 [==============================] - 7s 37us/step - loss: 2.4440e-04 - acc: 0.9999 - val_loss: 0.0072 - val_acc: 0.9994\n",
      "Epoch 83/100\n",
      "182276/182276 [==============================] - 7s 38us/step - loss: 2.2134e-04 - acc: 0.9999 - val_loss: 0.0069 - val_acc: 0.9995\n",
      "Epoch 84/100\n",
      "182276/182276 [==============================] - 7s 38us/step - loss: 6.2389e-04 - acc: 0.9999 - val_loss: 0.0069 - val_acc: 0.9994\n",
      "Epoch 85/100\n",
      "182276/182276 [==============================] - 7s 36us/step - loss: 2.4195e-04 - acc: 1.0000 - val_loss: 0.0069 - val_acc: 0.9995\n",
      "Epoch 86/100\n",
      "182276/182276 [==============================] - 7s 37us/step - loss: 2.5252e-04 - acc: 0.9999 - val_loss: 0.0070 - val_acc: 0.9994\n",
      "Epoch 87/100\n",
      "182276/182276 [==============================] - 7s 37us/step - loss: 3.0028e-04 - acc: 0.9999 - val_loss: 0.0069 - val_acc: 0.9995\n",
      "Epoch 88/100\n",
      "182276/182276 [==============================] - 6s 34us/step - loss: 3.0924e-04 - acc: 0.9999 - val_loss: 0.0072 - val_acc: 0.9993\n",
      "Epoch 89/100\n",
      "182276/182276 [==============================] - 7s 38us/step - loss: 2.8415e-04 - acc: 0.9999 - val_loss: 0.0072 - val_acc: 0.9993\n",
      "Epoch 90/100\n",
      "182276/182276 [==============================] - 6s 35us/step - loss: 2.8049e-04 - acc: 0.9999 - val_loss: 0.0080 - val_acc: 0.9993\n",
      "Epoch 91/100\n",
      "182276/182276 [==============================] - 7s 37us/step - loss: 3.0749e-04 - acc: 0.9999 - val_loss: 0.0073 - val_acc: 0.9994\n",
      "Epoch 92/100\n",
      "182276/182276 [==============================] - 6s 34us/step - loss: 3.4012e-04 - acc: 0.9999 - val_loss: 0.0075 - val_acc: 0.9993\n",
      "Epoch 93/100\n",
      "182276/182276 [==============================] - 6s 35us/step - loss: 1.2969e-04 - acc: 0.9999 - val_loss: 0.0071 - val_acc: 0.9995\n",
      "Epoch 94/100\n",
      "182276/182276 [==============================] - 6s 35us/step - loss: 1.1553e-04 - acc: 1.0000 - val_loss: 0.0071 - val_acc: 0.9995\n",
      "Epoch 95/100\n",
      "182276/182276 [==============================] - 6s 35us/step - loss: 1.8646e-04 - acc: 1.0000 - val_loss: 0.0073 - val_acc: 0.9994\n",
      "Epoch 96/100\n",
      "182276/182276 [==============================] - 6s 33us/step - loss: 2.6009e-04 - acc: 0.9999 - val_loss: 0.0074 - val_acc: 0.9993\n",
      "Epoch 97/100\n",
      "182276/182276 [==============================] - 6s 35us/step - loss: 7.1933e-04 - acc: 0.9999 - val_loss: 0.0070 - val_acc: 0.9995\n",
      "Epoch 98/100\n",
      "182276/182276 [==============================] - 7s 36us/step - loss: 3.1232e-04 - acc: 0.9999 - val_loss: 0.0069 - val_acc: 0.9995\n",
      "Epoch 99/100\n",
      "182276/182276 [==============================] - 7s 36us/step - loss: 2.7746e-04 - acc: 0.9999 - val_loss: 0.0072 - val_acc: 0.9995\n",
      "Epoch 100/100\n",
      "182276/182276 [==============================] - 7s 36us/step - loss: 3.5730e-04 - acc: 0.9999 - val_loss: 0.0073 - val_acc: 0.9995\n",
      "56961/56961 [==============================] - 1s 17us/step\n",
      "acc: 99.96%\n",
      "_________________________________________________________________\n",
      "Layer (type)                 Output Shape              Param #   \n",
      "=================================================================\n",
      "dense_13 (Dense)             (None, 50)                1600      \n",
      "_________________________________________________________________\n",
      "dense_14 (Dense)             (None, 50)                2550      \n",
      "_________________________________________________________________\n",
      "dense_15 (Dense)             (None, 1)                 51        \n",
      "=================================================================\n",
      "Total params: 4,201\n",
      "Trainable params: 4,201\n",
      "Non-trainable params: 0\n",
      "_________________________________________________________________\n",
      "None\n",
      "Train on 182276 samples, validate on 45570 samples\n",
      "Epoch 1/100\n",
      "182276/182276 [==============================] - 9s 47us/step - loss: 0.0097 - acc: 0.9989 - val_loss: 0.0035 - val_acc: 0.9994\n",
      "Epoch 2/100\n",
      "182276/182276 [==============================] - 7s 38us/step - loss: 0.0033 - acc: 0.9993 - val_loss: 0.0034 - val_acc: 0.9994\n",
      "Epoch 3/100\n",
      "182276/182276 [==============================] - 6s 36us/step - loss: 0.0030 - acc: 0.9993 - val_loss: 0.0030 - val_acc: 0.9995\n",
      "Epoch 4/100\n",
      "182276/182276 [==============================] - 8s 42us/step - loss: 0.0026 - acc: 0.9994 - val_loss: 0.0029 - val_acc: 0.9995\n",
      "Epoch 5/100\n",
      "182276/182276 [==============================] - 6s 34us/step - loss: 0.0025 - acc: 0.9994 - val_loss: 0.0032 - val_acc: 0.9995\n",
      "Epoch 6/100\n",
      "182276/182276 [==============================] - 7s 37us/step - loss: 0.0023 - acc: 0.9994 - val_loss: 0.0031 - val_acc: 0.9995\n",
      "Epoch 7/100\n",
      "182276/182276 [==============================] - 7s 36us/step - loss: 0.0021 - acc: 0.9994 - val_loss: 0.0039 - val_acc: 0.9993\n",
      "Epoch 8/100\n",
      "182276/182276 [==============================] - 7s 38us/step - loss: 0.0019 - acc: 0.9994 - val_loss: 0.0031 - val_acc: 0.9995\n",
      "Epoch 9/100\n",
      "182276/182276 [==============================] - 7s 40us/step - loss: 0.0018 - acc: 0.9995 - val_loss: 0.0042 - val_acc: 0.9995\n",
      "Epoch 10/100\n",
      "182276/182276 [==============================] - 6s 35us/step - loss: 0.0018 - acc: 0.9995 - val_loss: 0.0034 - val_acc: 0.9994\n",
      "Epoch 11/100\n",
      "182276/182276 [==============================] - 7s 37us/step - loss: 0.0017 - acc: 0.9995 - val_loss: 0.0037 - val_acc: 0.9993\n",
      "Epoch 12/100\n",
      "182276/182276 [==============================] - 7s 39us/step - loss: 0.0016 - acc: 0.9995 - val_loss: 0.0038 - val_acc: 0.9993\n",
      "Epoch 13/100\n",
      "182276/182276 [==============================] - 7s 36us/step - loss: 0.0015 - acc: 0.9995 - val_loss: 0.0041 - val_acc: 0.9993\n",
      "Epoch 14/100\n",
      "182276/182276 [==============================] - 6s 35us/step - loss: 0.0013 - acc: 0.9996 - val_loss: 0.0041 - val_acc: 0.9994\n",
      "Epoch 15/100\n",
      "182276/182276 [==============================] - 6s 35us/step - loss: 0.0013 - acc: 0.9995 - val_loss: 0.0043 - val_acc: 0.9993\n",
      "Epoch 16/100\n",
      "182276/182276 [==============================] - 6s 34us/step - loss: 0.0012 - acc: 0.9996 - val_loss: 0.0047 - val_acc: 0.9993\n",
      "Epoch 17/100\n",
      "182276/182276 [==============================] - 6s 35us/step - loss: 0.0011 - acc: 0.9997 - val_loss: 0.0050 - val_acc: 0.9993\n",
      "Epoch 18/100\n",
      "182276/182276 [==============================] - 7s 37us/step - loss: 0.0011 - acc: 0.9996 - val_loss: 0.0047 - val_acc: 0.9994\n",
      "Epoch 19/100\n",
      "182276/182276 [==============================] - 7s 39us/step - loss: 0.0012 - acc: 0.9996 - val_loss: 0.0043 - val_acc: 0.9993\n",
      "Epoch 20/100\n",
      "182276/182276 [==============================] - 7s 37us/step - loss: 0.0011 - acc: 0.9996 - val_loss: 0.0052 - val_acc: 0.9994\n",
      "Epoch 21/100\n",
      "182276/182276 [==============================] - 7s 37us/step - loss: 8.4903e-04 - acc: 0.9997 - val_loss: 0.0057 - val_acc: 0.9994\n",
      "Epoch 22/100\n",
      "182276/182276 [==============================] - 7s 38us/step - loss: 0.0010 - acc: 0.9997 - val_loss: 0.0057 - val_acc: 0.9993\n",
      "Epoch 23/100\n",
      "182276/182276 [==============================] - 7s 38us/step - loss: 0.0010 - acc: 0.9997 - val_loss: 0.0050 - val_acc: 0.9994\n",
      "Epoch 24/100\n",
      "182276/182276 [==============================] - 7s 37us/step - loss: 7.8367e-04 - acc: 0.9997 - val_loss: 0.0057 - val_acc: 0.9993\n",
      "Epoch 25/100\n",
      "182276/182276 [==============================] - 7s 37us/step - loss: 8.9691e-04 - acc: 0.9997 - val_loss: 0.0067 - val_acc: 0.9994\n",
      "Epoch 26/100\n",
      "182276/182276 [==============================] - 7s 37us/step - loss: 7.6235e-04 - acc: 0.9997 - val_loss: 0.0063 - val_acc: 0.9993\n",
      "Epoch 27/100\n",
      "182276/182276 [==============================] - 7s 37us/step - loss: 7.6320e-04 - acc: 0.9998 - val_loss: 0.0067 - val_acc: 0.9993\n",
      "Epoch 28/100\n",
      "182276/182276 [==============================] - 7s 37us/step - loss: 7.2108e-04 - acc: 0.9998 - val_loss: 0.0071 - val_acc: 0.9994\n",
      "Epoch 29/100\n",
      "182276/182276 [==============================] - 7s 37us/step - loss: 6.9499e-04 - acc: 0.9998 - val_loss: 0.0062 - val_acc: 0.9992\n",
      "Epoch 30/100\n",
      "182276/182276 [==============================] - 7s 37us/step - loss: 7.2853e-04 - acc: 0.9998 - val_loss: 0.0072 - val_acc: 0.9994\n",
      "Epoch 31/100\n",
      "182276/182276 [==============================] - 7s 37us/step - loss: 5.8059e-04 - acc: 0.9999 - val_loss: 0.0075 - val_acc: 0.9993\n",
      "Epoch 32/100\n",
      "182276/182276 [==============================] - 7s 37us/step - loss: 6.3989e-04 - acc: 0.9998 - val_loss: 0.0078 - val_acc: 0.9993\n",
      "Epoch 33/100\n",
      "182276/182276 [==============================] - 7s 38us/step - loss: 8.4633e-04 - acc: 0.9998 - val_loss: 0.0076 - val_acc: 0.9993\n",
      "Epoch 34/100\n",
      "182276/182276 [==============================] - 7s 37us/step - loss: 6.1962e-04 - acc: 0.9998 - val_loss: 0.0070 - val_acc: 0.9993\n",
      "Epoch 35/100\n",
      "182276/182276 [==============================] - 7s 37us/step - loss: 5.6852e-04 - acc: 0.9998 - val_loss: 0.0076 - val_acc: 0.9993\n",
      "Epoch 36/100\n",
      "182276/182276 [==============================] - 7s 37us/step - loss: 7.1497e-04 - acc: 0.9998 - val_loss: 0.0072 - val_acc: 0.9994\n",
      "Epoch 37/100\n",
      "182276/182276 [==============================] - 7s 40us/step - loss: 5.5756e-04 - acc: 0.9999 - val_loss: 0.0082 - val_acc: 0.9993\n",
      "Epoch 38/100\n",
      "182276/182276 [==============================] - 7s 38us/step - loss: 6.0202e-04 - acc: 0.9998 - val_loss: 0.0071 - val_acc: 0.9995\n",
      "Epoch 39/100\n",
      "182276/182276 [==============================] - 7s 38us/step - loss: 6.3019e-04 - acc: 0.9998 - val_loss: 0.0078 - val_acc: 0.9993\n",
      "Epoch 40/100\n",
      "182276/182276 [==============================] - 7s 38us/step - loss: 7.5672e-04 - acc: 0.9998 - val_loss: 0.0079 - val_acc: 0.9993\n",
      "Epoch 41/100\n",
      "182276/182276 [==============================] - 7s 38us/step - loss: 4.8608e-04 - acc: 0.9998 - val_loss: 0.0081 - val_acc: 0.9993\n",
      "Epoch 42/100\n",
      "182276/182276 [==============================] - 7s 38us/step - loss: 5.0929e-04 - acc: 0.9998 - val_loss: 0.0083 - val_acc: 0.9993\n",
      "Epoch 43/100\n",
      "182276/182276 [==============================] - 7s 38us/step - loss: 5.7152e-04 - acc: 0.9999 - val_loss: 0.0091 - val_acc: 0.9991\n",
      "Epoch 44/100\n",
      "182276/182276 [==============================] - 7s 38us/step - loss: 3.3234e-04 - acc: 0.9999 - val_loss: 0.0080 - val_acc: 0.9994\n",
      "Epoch 45/100\n",
      "182276/182276 [==============================] - 7s 38us/step - loss: 5.0099e-04 - acc: 0.9999 - val_loss: 0.0083 - val_acc: 0.9993\n",
      "Epoch 46/100\n",
      "182276/182276 [==============================] - 7s 38us/step - loss: 4.4457e-04 - acc: 0.9999 - val_loss: 0.0084 - val_acc: 0.9994\n",
      "Epoch 47/100\n",
      "182276/182276 [==============================] - 7s 38us/step - loss: 3.8073e-04 - acc: 0.9999 - val_loss: 0.0075 - val_acc: 0.9994\n",
      "Epoch 48/100\n",
      "182276/182276 [==============================] - 7s 38us/step - loss: 4.5672e-04 - acc: 0.9999 - val_loss: 0.0072 - val_acc: 0.9994\n",
      "Epoch 49/100\n",
      "182276/182276 [==============================] - 7s 38us/step - loss: 6.1025e-04 - acc: 0.9999 - val_loss: 0.0081 - val_acc: 0.9993\n",
      "Epoch 50/100\n",
      "182276/182276 [==============================] - 7s 38us/step - loss: 7.4293e-04 - acc: 0.9999 - val_loss: 0.0070 - val_acc: 0.9995\n",
      "Epoch 51/100\n",
      "182276/182276 [==============================] - 7s 37us/step - loss: 4.6092e-04 - acc: 0.9999 - val_loss: 0.0083 - val_acc: 0.9993\n",
      "Epoch 52/100\n",
      "182276/182276 [==============================] - 7s 38us/step - loss: 3.8768e-04 - acc: 0.9999 - val_loss: 0.0090 - val_acc: 0.9992\n",
      "Epoch 53/100\n",
      "182276/182276 [==============================] - 7s 38us/step - loss: 4.3004e-04 - acc: 0.9999 - val_loss: 0.0081 - val_acc: 0.9993\n",
      "Epoch 54/100\n",
      "182276/182276 [==============================] - 7s 38us/step - loss: 4.7480e-04 - acc: 0.9999 - val_loss: 0.0090 - val_acc: 0.9992\n",
      "Epoch 55/100\n",
      "182276/182276 [==============================] - 7s 38us/step - loss: 4.3544e-04 - acc: 0.9999 - val_loss: 0.0089 - val_acc: 0.9993\n",
      "Epoch 56/100\n",
      "182276/182276 [==============================] - 7s 38us/step - loss: 3.1506e-04 - acc: 0.9999 - val_loss: 0.0092 - val_acc: 0.9993\n",
      "Epoch 57/100\n",
      "182276/182276 [==============================] - 7s 38us/step - loss: 5.6414e-04 - acc: 0.9999 - val_loss: 0.0088 - val_acc: 0.9994\n",
      "Epoch 58/100\n",
      "182276/182276 [==============================] - 7s 38us/step - loss: 4.9677e-04 - acc: 0.9999 - val_loss: 0.0087 - val_acc: 0.9993\n",
      "Epoch 59/100\n",
      "182276/182276 [==============================] - 7s 41us/step - loss: 3.3918e-04 - acc: 0.9999 - val_loss: 0.0091 - val_acc: 0.9991\n",
      "Epoch 60/100\n",
      "182276/182276 [==============================] - 8s 44us/step - loss: 5.1670e-04 - acc: 0.9999 - val_loss: 0.0091 - val_acc: 0.9992\n",
      "Epoch 61/100\n",
      "182276/182276 [==============================] - 9s 47us/step - loss: 6.3017e-04 - acc: 0.9999 - val_loss: 0.0083 - val_acc: 0.9993\n",
      "Epoch 62/100\n",
      "182276/182276 [==============================] - 7s 37us/step - loss: 4.4586e-04 - acc: 0.9999 - val_loss: 0.0088 - val_acc: 0.9992\n",
      "Epoch 63/100\n",
      "182276/182276 [==============================] - 7s 36us/step - loss: 3.7057e-04 - acc: 0.9999 - val_loss: 0.0104 - val_acc: 0.9991\n",
      "Epoch 64/100\n",
      "182276/182276 [==============================] - 7s 40us/step - loss: 5.1354e-04 - acc: 0.9999 - val_loss: 0.0085 - val_acc: 0.9994\n",
      "Epoch 65/100\n",
      "182276/182276 [==============================] - 6s 34us/step - loss: 3.4386e-04 - acc: 0.9999 - val_loss: 0.0081 - val_acc: 0.9993\n",
      "Epoch 66/100\n",
      "182276/182276 [==============================] - 7s 37us/step - loss: 2.4181e-04 - acc: 0.9999 - val_loss: 0.0085 - val_acc: 0.9993\n",
      "Epoch 67/100\n",
      "182276/182276 [==============================] - 6s 35us/step - loss: 5.9150e-04 - acc: 0.9999 - val_loss: 0.0082 - val_acc: 0.9993\n",
      "Epoch 68/100\n",
      "182276/182276 [==============================] - 6s 35us/step - loss: 3.2093e-04 - acc: 0.9999 - val_loss: 0.0083 - val_acc: 0.9993\n",
      "Epoch 69/100\n",
      "182276/182276 [==============================] - 7s 37us/step - loss: 4.8579e-04 - acc: 0.9999 - val_loss: 0.0085 - val_acc: 0.9992\n",
      "Epoch 70/100\n",
      "182276/182276 [==============================] - 7s 37us/step - loss: 4.7556e-04 - acc: 0.9999 - val_loss: 0.0082 - val_acc: 0.9993\n",
      "Epoch 71/100\n",
      "182276/182276 [==============================] - 7s 36us/step - loss: 3.8386e-04 - acc: 0.9999 - val_loss: 0.0082 - val_acc: 0.9993\n",
      "Epoch 72/100\n",
      "182276/182276 [==============================] - 6s 35us/step - loss: 4.6428e-04 - acc: 0.9999 - val_loss: 0.0079 - val_acc: 0.9993\n",
      "Epoch 73/100\n",
      "182276/182276 [==============================] - 7s 39us/step - loss: 6.8870e-04 - acc: 0.9999 - val_loss: 0.0089 - val_acc: 0.9992\n",
      "Epoch 74/100\n",
      "182276/182276 [==============================] - 7s 39us/step - loss: 3.9931e-04 - acc: 0.9999 - val_loss: 0.0089 - val_acc: 0.9993\n",
      "Epoch 75/100\n",
      "182276/182276 [==============================] - 7s 36us/step - loss: 6.0706e-04 - acc: 0.9999 - val_loss: 0.0087 - val_acc: 0.9992\n",
      "Epoch 76/100\n",
      "182276/182276 [==============================] - 7s 36us/step - loss: 3.0606e-04 - acc: 0.9999 - val_loss: 0.0086 - val_acc: 0.9993\n",
      "Epoch 77/100\n",
      "182276/182276 [==============================] - 7s 39us/step - loss: 5.5651e-04 - acc: 0.9999 - val_loss: 0.0083 - val_acc: 0.9993\n",
      "Epoch 78/100\n",
      "182276/182276 [==============================] - 7s 37us/step - loss: 5.6138e-04 - acc: 0.9999 - val_loss: 0.0094 - val_acc: 0.9992\n",
      "Epoch 79/100\n",
      "182276/182276 [==============================] - 7s 36us/step - loss: 4.1609e-04 - acc: 0.9999 - val_loss: 0.0084 - val_acc: 0.9993\n",
      "Epoch 80/100\n",
      "182276/182276 [==============================] - 6s 35us/step - loss: 3.6206e-04 - acc: 0.9999 - val_loss: 0.0099 - val_acc: 0.9991\n",
      "Epoch 81/100\n",
      "182276/182276 [==============================] - 6s 35us/step - loss: 3.6334e-04 - acc: 0.9999 - val_loss: 0.0091 - val_acc: 0.9993\n",
      "Epoch 82/100\n",
      "182276/182276 [==============================] - 7s 38us/step - loss: 3.5047e-04 - acc: 0.9999 - val_loss: 0.0087 - val_acc: 0.9993\n",
      "Epoch 83/100\n",
      "182276/182276 [==============================] - 7s 36us/step - loss: 3.1601e-04 - acc: 0.9999 - val_loss: 0.0087 - val_acc: 0.9993\n",
      "Epoch 84/100\n",
      "182276/182276 [==============================] - 7s 36us/step - loss: 1.8920e-04 - acc: 1.0000 - val_loss: 0.0084 - val_acc: 0.9994\n",
      "Epoch 85/100\n",
      "182276/182276 [==============================] - 7s 37us/step - loss: 3.3612e-04 - acc: 0.9999 - val_loss: 0.0085 - val_acc: 0.9994\n",
      "Epoch 86/100\n",
      "182276/182276 [==============================] - 7s 36us/step - loss: 6.5043e-04 - acc: 0.9999 - val_loss: 0.0089 - val_acc: 0.9993\n",
      "Epoch 87/100\n",
      "182276/182276 [==============================] - 7s 36us/step - loss: 3.1836e-04 - acc: 1.0000 - val_loss: 0.0087 - val_acc: 0.9993\n",
      "Epoch 88/100\n",
      "182276/182276 [==============================] - 7s 39us/step - loss: 5.1537e-04 - acc: 0.9999 - val_loss: 0.0082 - val_acc: 0.9993\n",
      "Epoch 89/100\n",
      "182276/182276 [==============================] - 7s 36us/step - loss: 2.7340e-04 - acc: 0.9999 - val_loss: 0.0093 - val_acc: 0.9993\n",
      "Epoch 90/100\n",
      "182276/182276 [==============================] - 6s 35us/step - loss: 3.5904e-04 - acc: 0.9999 - val_loss: 0.0085 - val_acc: 0.9993\n",
      "Epoch 91/100\n",
      "182276/182276 [==============================] - 6s 35us/step - loss: 3.0635e-04 - acc: 0.9999 - val_loss: 0.0095 - val_acc: 0.9992\n",
      "Epoch 92/100\n",
      "182276/182276 [==============================] - 6s 35us/step - loss: 3.3358e-04 - acc: 0.9999 - val_loss: 0.0081 - val_acc: 0.9994\n",
      "Epoch 93/100\n",
      "182276/182276 [==============================] - 6s 35us/step - loss: 4.5848e-04 - acc: 0.9999 - val_loss: 0.0090 - val_acc: 0.9991\n",
      "Epoch 94/100\n",
      "182276/182276 [==============================] - 6s 35us/step - loss: 2.7949e-04 - acc: 1.0000 - val_loss: 0.0082 - val_acc: 0.9993\n",
      "Epoch 95/100\n",
      "182276/182276 [==============================] - 6s 35us/step - loss: 1.8305e-04 - acc: 1.0000 - val_loss: 0.0091 - val_acc: 0.9992\n",
      "Epoch 96/100\n",
      "182276/182276 [==============================] - 6s 35us/step - loss: 2.8677e-04 - acc: 0.9999 - val_loss: 0.0089 - val_acc: 0.9992\n",
      "Epoch 97/100\n",
      "182276/182276 [==============================] - 7s 36us/step - loss: 2.9261e-04 - acc: 0.9999 - val_loss: 0.0100 - val_acc: 0.9992\n",
      "Epoch 98/100\n",
      "182276/182276 [==============================] - 7s 39us/step - loss: 3.7677e-04 - acc: 0.9999 - val_loss: 0.0084 - val_acc: 0.9993\n",
      "Epoch 99/100\n",
      "182276/182276 [==============================] - 7s 36us/step - loss: 4.3880e-04 - acc: 0.9999 - val_loss: 0.0083 - val_acc: 0.9993\n",
      "Epoch 100/100\n",
      "182276/182276 [==============================] - 7s 40us/step - loss: 3.7793e-04 - acc: 0.9999 - val_loss: 0.0084 - val_acc: 0.9993\n",
      "56961/56961 [==============================] - 1s 15us/step\n",
      "acc: 99.94%\n",
      "_________________________________________________________________\n",
      "Layer (type)                 Output Shape              Param #   \n",
      "=================================================================\n",
      "dense_16 (Dense)             (None, 50)                1600      \n",
      "_________________________________________________________________\n",
      "dense_17 (Dense)             (None, 50)                2550      \n",
      "_________________________________________________________________\n",
      "dense_18 (Dense)             (None, 1)                 51        \n",
      "=================================================================\n",
      "Total params: 4,201\n",
      "Trainable params: 4,201\n",
      "Non-trainable params: 0\n",
      "_________________________________________________________________\n",
      "None\n",
      "Train on 182276 samples, validate on 45570 samples\n",
      "Epoch 1/100\n",
      "182276/182276 [==============================] - 7s 38us/step - loss: 0.0103 - acc: 0.9987 - val_loss: 0.0024 - val_acc: 0.9997\n",
      "Epoch 2/100\n",
      "182276/182276 [==============================] - 7s 38us/step - loss: 0.0031 - acc: 0.9993 - val_loss: 0.0023 - val_acc: 0.9996\n",
      "Epoch 3/100\n",
      "182276/182276 [==============================] - 7s 37us/step - loss: 0.0030 - acc: 0.9993 - val_loss: 0.0027 - val_acc: 0.9996\n",
      "Epoch 4/100\n",
      "182276/182276 [==============================] - 7s 36us/step - loss: 0.0027 - acc: 0.9993 - val_loss: 0.0022 - val_acc: 0.9997\n",
      "Epoch 5/100\n",
      "182276/182276 [==============================] - 7s 37us/step - loss: 0.0024 - acc: 0.9994 - val_loss: 0.0024 - val_acc: 0.9996\n",
      "Epoch 6/100\n",
      "182276/182276 [==============================] - 7s 36us/step - loss: 0.0023 - acc: 0.9994 - val_loss: 0.0025 - val_acc: 0.9996\n",
      "Epoch 7/100\n",
      "182276/182276 [==============================] - 7s 37us/step - loss: 0.0021 - acc: 0.9995 - val_loss: 0.0024 - val_acc: 0.9996\n",
      "Epoch 8/100\n",
      "182276/182276 [==============================] - 7s 37us/step - loss: 0.0021 - acc: 0.9995 - val_loss: 0.0025 - val_acc: 0.9996\n",
      "Epoch 9/100\n",
      "182276/182276 [==============================] - 7s 37us/step - loss: 0.0019 - acc: 0.9996 - val_loss: 0.0024 - val_acc: 0.9997\n",
      "Epoch 10/100\n",
      "182276/182276 [==============================] - 7s 38us/step - loss: 0.0017 - acc: 0.9996 - val_loss: 0.0025 - val_acc: 0.9996\n",
      "Epoch 11/100\n",
      "182276/182276 [==============================] - 8s 42us/step - loss: 0.0016 - acc: 0.9996 - val_loss: 0.0026 - val_acc: 0.9996\n",
      "Epoch 12/100\n",
      "182276/182276 [==============================] - 7s 39us/step - loss: 0.0016 - acc: 0.9996 - val_loss: 0.0026 - val_acc: 0.9996\n",
      "Epoch 13/100\n",
      "182276/182276 [==============================] - 7s 39us/step - loss: 0.0014 - acc: 0.9996 - val_loss: 0.0030 - val_acc: 0.9996\n",
      "Epoch 14/100\n",
      "182276/182276 [==============================] - 6s 35us/step - loss: 0.0014 - acc: 0.9997 - val_loss: 0.0030 - val_acc: 0.9996\n",
      "Epoch 15/100\n",
      "182276/182276 [==============================] - 7s 36us/step - loss: 0.0012 - acc: 0.9997 - val_loss: 0.0032 - val_acc: 0.9996\n",
      "Epoch 16/100\n",
      "182276/182276 [==============================] - 7s 39us/step - loss: 0.0014 - acc: 0.9997 - val_loss: 0.0033 - val_acc: 0.9995\n",
      "Epoch 17/100\n",
      "182276/182276 [==============================] - 7s 40us/step - loss: 0.0012 - acc: 0.9997 - val_loss: 0.0031 - val_acc: 0.9996\n",
      "Epoch 18/100\n",
      "182276/182276 [==============================] - 7s 39us/step - loss: 0.0012 - acc: 0.9997 - val_loss: 0.0033 - val_acc: 0.9996\n",
      "Epoch 19/100\n",
      "182276/182276 [==============================] - 7s 39us/step - loss: 0.0012 - acc: 0.9997 - val_loss: 0.0035 - val_acc: 0.9996\n",
      "Epoch 20/100\n",
      "182276/182276 [==============================] - 7s 36us/step - loss: 0.0011 - acc: 0.9998 - val_loss: 0.0047 - val_acc: 0.9994\n",
      "Epoch 21/100\n",
      "182276/182276 [==============================] - 7s 38us/step - loss: 9.6352e-04 - acc: 0.9998 - val_loss: 0.0035 - val_acc: 0.9996\n",
      "Epoch 22/100\n",
      "182276/182276 [==============================] - 8s 41us/step - loss: 0.0011 - acc: 0.9997 - val_loss: 0.0037 - val_acc: 0.9996\n",
      "Epoch 23/100\n",
      "182276/182276 [==============================] - 8s 41us/step - loss: 0.0010 - acc: 0.9997 - val_loss: 0.0038 - val_acc: 0.9996\n",
      "Epoch 24/100\n",
      "182276/182276 [==============================] - 7s 36us/step - loss: 9.2102e-04 - acc: 0.9998 - val_loss: 0.0033 - val_acc: 0.9996\n",
      "Epoch 25/100\n",
      "182276/182276 [==============================] - 7s 39us/step - loss: 8.3533e-04 - acc: 0.9998 - val_loss: 0.0035 - val_acc: 0.9996\n",
      "Epoch 26/100\n",
      "182276/182276 [==============================] - 7s 37us/step - loss: 9.7549e-04 - acc: 0.9997 - val_loss: 0.0037 - val_acc: 0.9996\n",
      "Epoch 27/100\n",
      "182276/182276 [==============================] - 8s 42us/step - loss: 9.5262e-04 - acc: 0.9998 - val_loss: 0.0039 - val_acc: 0.9997\n",
      "Epoch 28/100\n",
      "182276/182276 [==============================] - 7s 38us/step - loss: 7.9620e-04 - acc: 0.9998 - val_loss: 0.0038 - val_acc: 0.9996\n",
      "Epoch 29/100\n",
      "182276/182276 [==============================] - 7s 41us/step - loss: 7.7899e-04 - acc: 0.9998 - val_loss: 0.0037 - val_acc: 0.9995\n",
      "Epoch 30/100\n",
      "182276/182276 [==============================] - 7s 40us/step - loss: 8.4057e-04 - acc: 0.9998 - val_loss: 0.0038 - val_acc: 0.9996\n",
      "Epoch 31/100\n",
      "182276/182276 [==============================] - 7s 37us/step - loss: 7.3843e-04 - acc: 0.9998 - val_loss: 0.0043 - val_acc: 0.9996\n",
      "Epoch 32/100\n",
      "182276/182276 [==============================] - 7s 39us/step - loss: 7.2357e-04 - acc: 0.9998 - val_loss: 0.0037 - val_acc: 0.9996\n",
      "Epoch 33/100\n",
      "182276/182276 [==============================] - 7s 37us/step - loss: 5.9388e-04 - acc: 0.9999 - val_loss: 0.0042 - val_acc: 0.9996\n",
      "Epoch 34/100\n",
      "182276/182276 [==============================] - 7s 36us/step - loss: 7.0350e-04 - acc: 0.9998 - val_loss: 0.0044 - val_acc: 0.9996\n",
      "Epoch 35/100\n",
      "182276/182276 [==============================] - 7s 38us/step - loss: 6.0246e-04 - acc: 0.9998 - val_loss: 0.0044 - val_acc: 0.9996\n",
      "Epoch 36/100\n",
      "182276/182276 [==============================] - 7s 37us/step - loss: 7.0312e-04 - acc: 0.9998 - val_loss: 0.0038 - val_acc: 0.9996\n",
      "Epoch 37/100\n",
      "182276/182276 [==============================] - 7s 37us/step - loss: 6.2827e-04 - acc: 0.9999 - val_loss: 0.0043 - val_acc: 0.9995\n",
      "Epoch 38/100\n",
      "182276/182276 [==============================] - 6s 36us/step - loss: 5.5205e-04 - acc: 0.9998 - val_loss: 0.0034 - val_acc: 0.9996\n",
      "Epoch 39/100\n",
      "182276/182276 [==============================] - 7s 36us/step - loss: 4.8347e-04 - acc: 0.9999 - val_loss: 0.0040 - val_acc: 0.9995\n",
      "Epoch 40/100\n",
      "182276/182276 [==============================] - 7s 36us/step - loss: 6.6667e-04 - acc: 0.9998 - val_loss: 0.0040 - val_acc: 0.9996\n",
      "Epoch 41/100\n",
      "182276/182276 [==============================] - 7s 36us/step - loss: 4.7797e-04 - acc: 0.9999 - val_loss: 0.0046 - val_acc: 0.9997\n",
      "Epoch 42/100\n",
      "182276/182276 [==============================] - 7s 38us/step - loss: 7.0905e-04 - acc: 0.9998 - val_loss: 0.0044 - val_acc: 0.9996\n",
      "Epoch 43/100\n",
      "182276/182276 [==============================] - 7s 36us/step - loss: 5.1641e-04 - acc: 0.9999 - val_loss: 0.0043 - val_acc: 0.9997\n",
      "Epoch 44/100\n",
      "182276/182276 [==============================] - 7s 38us/step - loss: 5.3579e-04 - acc: 0.9999 - val_loss: 0.0040 - val_acc: 0.9996\n",
      "Epoch 45/100\n",
      "182276/182276 [==============================] - 7s 36us/step - loss: 4.5590e-04 - acc: 0.9999 - val_loss: 0.0050 - val_acc: 0.9996\n",
      "Epoch 46/100\n",
      "182276/182276 [==============================] - 7s 36us/step - loss: 6.1838e-04 - acc: 0.9999 - val_loss: 0.0047 - val_acc: 0.9996\n",
      "Epoch 47/100\n",
      "182276/182276 [==============================] - 7s 36us/step - loss: 6.9453e-04 - acc: 0.9998 - val_loss: 0.0045 - val_acc: 0.9996\n",
      "Epoch 48/100\n",
      "182276/182276 [==============================] - 6s 36us/step - loss: 4.6730e-04 - acc: 0.9999 - val_loss: 0.0040 - val_acc: 0.9996\n",
      "Epoch 49/100\n",
      "182276/182276 [==============================] - 7s 36us/step - loss: 6.9610e-04 - acc: 0.9999 - val_loss: 0.0040 - val_acc: 0.9996\n",
      "Epoch 50/100\n",
      "182276/182276 [==============================] - 7s 37us/step - loss: 4.0625e-04 - acc: 0.9999 - val_loss: 0.0043 - val_acc: 0.9996\n",
      "Epoch 51/100\n",
      "182276/182276 [==============================] - 7s 36us/step - loss: 7.5664e-04 - acc: 0.9999 - val_loss: 0.0046 - val_acc: 0.9996\n",
      "Epoch 52/100\n",
      "182276/182276 [==============================] - 7s 36us/step - loss: 3.2643e-04 - acc: 0.9999 - val_loss: 0.0046 - val_acc: 0.9995\n",
      "Epoch 53/100\n",
      "182276/182276 [==============================] - 7s 39us/step - loss: 7.8833e-04 - acc: 0.9999 - val_loss: 0.0047 - val_acc: 0.9996\n",
      "Epoch 54/100\n",
      "182276/182276 [==============================] - 6s 35us/step - loss: 5.9641e-04 - acc: 0.9999 - val_loss: 0.0050 - val_acc: 0.9996\n",
      "Epoch 55/100\n",
      "182276/182276 [==============================] - 7s 37us/step - loss: 5.9058e-04 - acc: 0.9999 - val_loss: 0.0048 - val_acc: 0.9996\n",
      "Epoch 56/100\n",
      "182276/182276 [==============================] - 8s 43us/step - loss: 6.3750e-04 - acc: 0.9999 - val_loss: 0.0047 - val_acc: 0.9996\n",
      "Epoch 57/100\n",
      "182276/182276 [==============================] - 7s 36us/step - loss: 3.7116e-04 - acc: 0.9999 - val_loss: 0.0043 - val_acc: 0.9996\n",
      "Epoch 58/100\n",
      "182276/182276 [==============================] - 7s 40us/step - loss: 4.4161e-04 - acc: 0.9999 - val_loss: 0.0050 - val_acc: 0.9996\n",
      "Epoch 59/100\n",
      "182276/182276 [==============================] - 8s 42us/step - loss: 4.2690e-04 - acc: 0.9999 - val_loss: 0.0054 - val_acc: 0.9996\n",
      "Epoch 60/100\n",
      "182276/182276 [==============================] - 7s 37us/step - loss: 8.9084e-04 - acc: 0.9998 - val_loss: 0.0041 - val_acc: 0.9996\n",
      "Epoch 61/100\n",
      "182276/182276 [==============================] - 7s 36us/step - loss: 3.6922e-04 - acc: 0.9999 - val_loss: 0.0049 - val_acc: 0.9996\n",
      "Epoch 62/100\n",
      "182276/182276 [==============================] - 6s 36us/step - loss: 5.3084e-04 - acc: 0.9999 - val_loss: 0.0049 - val_acc: 0.9995\n",
      "Epoch 63/100\n",
      "182276/182276 [==============================] - 6s 36us/step - loss: 5.1910e-04 - acc: 0.9999 - val_loss: 0.0046 - val_acc: 0.9996\n",
      "Epoch 64/100\n",
      "182276/182276 [==============================] - 7s 40us/step - loss: 4.6602e-04 - acc: 0.9999 - val_loss: 0.0050 - val_acc: 0.9995\n",
      "Epoch 65/100\n",
      "182276/182276 [==============================] - 8s 47us/step - loss: 3.3246e-04 - acc: 0.9999 - val_loss: 0.0045 - val_acc: 0.9997\n",
      "Epoch 66/100\n",
      "182276/182276 [==============================] - 7s 38us/step - loss: 4.3178e-04 - acc: 0.9999 - val_loss: 0.0052 - val_acc: 0.9996\n",
      "Epoch 67/100\n",
      "182276/182276 [==============================] - 6s 35us/step - loss: 4.3305e-04 - acc: 0.9999 - val_loss: 0.0050 - val_acc: 0.9995\n",
      "Epoch 68/100\n",
      "182276/182276 [==============================] - 7s 40us/step - loss: 2.5243e-04 - acc: 0.9999 - val_loss: 0.0050 - val_acc: 0.9996\n",
      "Epoch 69/100\n",
      "182276/182276 [==============================] - 7s 39us/step - loss: 6.4398e-04 - acc: 0.9999 - val_loss: 0.0049 - val_acc: 0.9996\n",
      "Epoch 70/100\n",
      "182276/182276 [==============================] - 7s 36us/step - loss: 2.6927e-04 - acc: 0.9999 - val_loss: 0.0049 - val_acc: 0.9997\n",
      "Epoch 71/100\n",
      "182276/182276 [==============================] - 7s 37us/step - loss: 6.1520e-04 - acc: 0.9999 - val_loss: 0.0056 - val_acc: 0.9996\n",
      "Epoch 72/100\n",
      "182276/182276 [==============================] - 7s 39us/step - loss: 6.2148e-04 - acc: 0.9999 - val_loss: 0.0047 - val_acc: 0.9996\n",
      "Epoch 73/100\n",
      "182276/182276 [==============================] - 7s 39us/step - loss: 4.3160e-04 - acc: 0.9999 - val_loss: 0.0050 - val_acc: 0.9996\n",
      "Epoch 74/100\n",
      "182276/182276 [==============================] - 7s 38us/step - loss: 2.9962e-04 - acc: 1.0000 - val_loss: 0.0048 - val_acc: 0.9996\n",
      "Epoch 75/100\n",
      "182276/182276 [==============================] - 7s 37us/step - loss: 2.2265e-04 - acc: 0.9999 - val_loss: 0.0050 - val_acc: 0.9996\n",
      "Epoch 76/100\n",
      "182276/182276 [==============================] - 8s 41us/step - loss: 3.9725e-04 - acc: 0.9999 - val_loss: 0.0052 - val_acc: 0.9996\n",
      "Epoch 77/100\n",
      "182276/182276 [==============================] - 6s 35us/step - loss: 4.7510e-04 - acc: 0.9999 - val_loss: 0.0052 - val_acc: 0.9996\n",
      "Epoch 78/100\n",
      "182276/182276 [==============================] - 7s 36us/step - loss: 4.0310e-04 - acc: 0.9999 - val_loss: 0.0050 - val_acc: 0.9996\n",
      "Epoch 79/100\n",
      "182276/182276 [==============================] - 7s 36us/step - loss: 5.7541e-04 - acc: 0.9999 - val_loss: 0.0054 - val_acc: 0.9995\n",
      "Epoch 80/100\n",
      "182276/182276 [==============================] - 7s 40us/step - loss: 2.6630e-04 - acc: 0.9999 - val_loss: 0.0049 - val_acc: 0.9996\n",
      "Epoch 81/100\n",
      "182276/182276 [==============================] - 7s 40us/step - loss: 4.0335e-04 - acc: 0.9999 - val_loss: 0.0050 - val_acc: 0.9996\n",
      "Epoch 82/100\n",
      "182276/182276 [==============================] - 6s 35us/step - loss: 4.7497e-04 - acc: 0.9999 - val_loss: 0.0058 - val_acc: 0.9995\n",
      "Epoch 83/100\n",
      "182276/182276 [==============================] - 6s 35us/step - loss: 4.8866e-04 - acc: 0.9999 - val_loss: 0.0047 - val_acc: 0.9996\n",
      "Epoch 84/100\n",
      "182276/182276 [==============================] - 7s 38us/step - loss: 4.0225e-04 - acc: 0.9999 - val_loss: 0.0049 - val_acc: 0.9997\n",
      "Epoch 85/100\n",
      "182276/182276 [==============================] - 7s 37us/step - loss: 2.6282e-04 - acc: 1.0000 - val_loss: 0.0047 - val_acc: 0.9996\n",
      "Epoch 86/100\n",
      "182276/182276 [==============================] - 6s 35us/step - loss: 2.9544e-04 - acc: 1.0000 - val_loss: 0.0056 - val_acc: 0.9996\n",
      "Epoch 87/100\n",
      "182276/182276 [==============================] - 6s 35us/step - loss: 4.9556e-04 - acc: 0.9999 - val_loss: 0.0062 - val_acc: 0.9995\n",
      "Epoch 88/100\n",
      "182276/182276 [==============================] - 7s 36us/step - loss: 4.9366e-04 - acc: 0.9999 - val_loss: 0.0052 - val_acc: 0.9997\n",
      "Epoch 89/100\n",
      "182276/182276 [==============================] - 8s 42us/step - loss: 4.8545e-04 - acc: 0.9999 - val_loss: 0.0053 - val_acc: 0.9996\n",
      "Epoch 90/100\n",
      "182276/182276 [==============================] - 7s 36us/step - loss: 4.1127e-04 - acc: 0.9999 - val_loss: 0.0051 - val_acc: 0.9996\n",
      "Epoch 91/100\n",
      "182276/182276 [==============================] - 7s 36us/step - loss: 6.5955e-04 - acc: 0.9999 - val_loss: 0.0049 - val_acc: 0.9996\n",
      "Epoch 92/100\n",
      "182276/182276 [==============================] - 7s 37us/step - loss: 3.5777e-04 - acc: 0.9999 - val_loss: 0.0047 - val_acc: 0.9997\n",
      "Epoch 93/100\n",
      "182276/182276 [==============================] - 7s 39us/step - loss: 4.2368e-04 - acc: 0.9999 - val_loss: 0.0048 - val_acc: 0.9997\n",
      "Epoch 94/100\n",
      "182276/182276 [==============================] - 7s 37us/step - loss: 5.0597e-04 - acc: 0.9999 - val_loss: 0.0050 - val_acc: 0.9996\n",
      "Epoch 95/100\n",
      "182276/182276 [==============================] - 7s 39us/step - loss: 4.6912e-04 - acc: 0.9999 - val_loss: 0.0052 - val_acc: 0.9995\n",
      "Epoch 96/100\n",
      "182276/182276 [==============================] - 7s 38us/step - loss: 3.0511e-04 - acc: 0.9999 - val_loss: 0.0047 - val_acc: 0.9996\n",
      "Epoch 97/100\n",
      "182276/182276 [==============================] - 7s 37us/step - loss: 1.8913e-04 - acc: 1.0000 - val_loss: 0.0051 - val_acc: 0.9996\n",
      "Epoch 98/100\n",
      "182276/182276 [==============================] - 7s 39us/step - loss: 5.2928e-04 - acc: 0.9999 - val_loss: 0.0049 - val_acc: 0.9997\n",
      "Epoch 99/100\n",
      "182276/182276 [==============================] - 7s 37us/step - loss: 4.9613e-04 - acc: 0.9999 - val_loss: 0.0047 - val_acc: 0.9996\n",
      "Epoch 100/100\n",
      "182276/182276 [==============================] - 7s 36us/step - loss: 3.4498e-04 - acc: 1.0000 - val_loss: 0.0052 - val_acc: 0.9995\n",
      "56961/56961 [==============================] - 1s 14us/step\n",
      "acc: 99.94%\n",
      "99.95% (+/- 0.009%)\n"
     ]
    }
   ],
   "source": [
    "# define 5-fold cross validation test harness\n",
    "kfold = StratifiedKFold(n_splits=5, shuffle=True, random_state=42)\n",
    "\n",
    "cv_scores = []\n",
    "\n",
    "for train, test in kfold.split(X, y):\n",
    "    \n",
    "    # Define Keras Model and network architecture\n",
    "    model = Sequential()\n",
    "    # hidden layer 1\n",
    "    model.add(Dense(units=50, input_dim=31, kernel_initializer='uniform', activation='relu'))\n",
    "    # hidden layer 2\n",
    "    model.add(Dense(units=50, kernel_initializer='uniform', activation='relu'))\n",
    "    # hidden layer 3\n",
    "    model.add(Dense(units=1, kernel_initializer='uniform', activation='sigmoid'))\n",
    "    print(model.summary())\n",
    "\n",
    "    \n",
    "    # Compile Keras Model\n",
    "    model.compile(optimizer='adam' ,loss='binary_crossentropy', metrics=['accuracy'])\n",
    "    # efficient stochastic gradient descent algorithm “adam“\n",
    "    # binary classification problems then using binary_crossentropy\n",
    "    # because it is a classification problem, we will collect and report the classification accuracy\n",
    "\n",
    "    # Fit Keras Model\n",
    "    model.fit(X[train], y[train], batch_size=32, epochs=100, verbose=1, validation_split=0.2)\n",
    "\n",
    "    # Evaluate Keras Model\n",
    "    scores = model.evaluate(X[test], y[test], verbose=1)\n",
    "    print('%s: %.2f%%' % (model.metrics_names[1], scores[1]*100))\n",
    "    cv_scores.append(scores[1] * 100)\n",
    "print('%.2f%% (+/- %.3f%%)' % (np.mean(cv_scores), np.std(cv_scores)))"
   ]
  },
  {
   "cell_type": "markdown",
   "metadata": {},
   "source": [
    "<a id='6'></a>\n",
    "### 6. References"
   ]
  },
  {
   "cell_type": "markdown",
   "metadata": {},
   "source": [
    "[Dataset](https://www.kaggle.com/mlg-ulb/creditcardfraud)<br>"
   ]
  }
 ],
 "metadata": {
  "kernelspec": {
   "display_name": "Python 3",
   "language": "python",
   "name": "python3"
  },
  "language_info": {
   "codemirror_mode": {
    "name": "ipython",
    "version": 3
   },
   "file_extension": ".py",
   "mimetype": "text/x-python",
   "name": "python",
   "nbconvert_exporter": "python",
   "pygments_lexer": "ipython3",
   "version": "3.7.1"
  }
 },
 "nbformat": 4,
 "nbformat_minor": 4
}
